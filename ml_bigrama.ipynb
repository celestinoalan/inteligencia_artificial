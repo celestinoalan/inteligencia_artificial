{
  "nbformat": 4,
  "nbformat_minor": 0,
  "metadata": {
    "colab": {
      "provenance": [],
      "toc_visible": true,
      "authorship_tag": "ABX9TyMlYJN0MkitPcT3Wm6yxi86",
      "include_colab_link": true
    },
    "kernelspec": {
      "name": "python3",
      "display_name": "Python 3"
    },
    "language_info": {
      "name": "python"
    }
  },
  "cells": [
    {
      "cell_type": "markdown",
      "metadata": {
        "id": "view-in-github",
        "colab_type": "text"
      },
      "source": [
        "<a href=\"https://colab.research.google.com/github/celestinoalan/inteligencia_artificial/blob/main/ml_bigrama.ipynb\" target=\"_parent\"><img src=\"https://colab.research.google.com/assets/colab-badge.svg\" alt=\"Open In Colab\"/></a>"
      ]
    },
    {
      "cell_type": "markdown",
      "source": [
        "# Modelo de Linguagem de Bigramas\n",
        "\n",
        "Criaremos dois modelos de linguagem que predizem o próximo token baseado no anterior. Em um deles, utilizaremos uma matriz pré-calculada contendo as probabilidades condicionais de cada token dado o anterior. Em outro, aprenderemos esta matriz atravéz da descida do gradiente."
      ],
      "metadata": {
        "id": "Y7WY8uGWSS0x"
      }
    },
    {
      "cell_type": "markdown",
      "source": [
        "## Corpus\n",
        "\n",
        "Usaremos um corpus composto por todas as obras de Machado de Assis."
      ],
      "metadata": {
        "id": "myIq1DC5UpSd"
      }
    },
    {
      "cell_type": "code",
      "execution_count": 1,
      "metadata": {
        "colab": {
          "base_uri": "https://localhost:8080/"
        },
        "id": "q7gP8LjYRVcF",
        "outputId": "76206d2d-ea79-4625-d537-a99a9b5195b7"
      },
      "outputs": [
        {
          "output_type": "stream",
          "name": "stdout",
          "text": [
            "--2024-10-07 01:24:53--  https://raw.githubusercontent.com/celestinoalan/inteligencia_artificial/main/data/machado_de_assis.txt\n",
            "Resolving raw.githubusercontent.com (raw.githubusercontent.com)... 185.199.108.133, 185.199.109.133, 185.199.110.133, ...\n",
            "Connecting to raw.githubusercontent.com (raw.githubusercontent.com)|185.199.108.133|:443... connected.\n",
            "HTTP request sent, awaiting response... 200 OK\n",
            "Length: 11340314 (11M) [text/plain]\n",
            "Saving to: ‘machado_de_assis.txt’\n",
            "\n",
            "machado_de_assis.tx 100%[===================>]  10.81M  --.-KB/s    in 0.1s    \n",
            "\n",
            "2024-10-07 01:24:54 (109 MB/s) - ‘machado_de_assis.txt’ saved [11340314/11340314]\n",
            "\n"
          ]
        }
      ],
      "source": [
        "# Baixa input.txt no diretório raíz\n",
        "!wget https://raw.githubusercontent.com/celestinoalan/inteligencia_artificial/main/data/machado_de_assis.txt"
      ]
    },
    {
      "cell_type": "code",
      "source": [
        "with open('machado_de_assis.txt', 'r', encoding='utf-8') as f:\n",
        "    text = f.read()"
      ],
      "metadata": {
        "id": "vFVqjgZgVEyG"
      },
      "execution_count": 2,
      "outputs": []
    },
    {
      "cell_type": "code",
      "source": [
        "len(text)  # Total de caracteres"
      ],
      "metadata": {
        "colab": {
          "base_uri": "https://localhost:8080/"
        },
        "id": "xS2P2FdfVLkP",
        "outputId": "3b27ae11-9768-4936-e5da-c7bc80224649"
      },
      "execution_count": 3,
      "outputs": [
        {
          "output_type": "execute_result",
          "data": {
            "text/plain": [
              "10977697"
            ]
          },
          "metadata": {},
          "execution_count": 3
        }
      ]
    },
    {
      "cell_type": "code",
      "source": [
        "text[:100]"
      ],
      "metadata": {
        "colab": {
          "base_uri": "https://localhost:8080/",
          "height": 53
        },
        "id": "SG0KkW7ZWW2P",
        "outputId": "5761cf2d-540c-4aba-9b1f-f6535d6a1d8a"
      },
      "execution_count": 4,
      "outputs": [
        {
          "output_type": "execute_result",
          "data": {
            "text/plain": [
              "'Helena\\n\\nADVERTÊNCIA\\nEsta nova edição de Helena sai com várias emendas de linguagem e\\noutras, que não'"
            ],
            "application/vnd.google.colaboratory.intrinsic+json": {
              "type": "string"
            }
          },
          "metadata": {},
          "execution_count": 4
        }
      ]
    },
    {
      "cell_type": "markdown",
      "source": [
        "Montaremos um tokenizador que mapeia caracteres aos inteiros."
      ],
      "metadata": {
        "id": "wWhX_lCvVRWO"
      }
    },
    {
      "cell_type": "code",
      "source": [
        "import torch\n",
        "\n",
        "class Tokenizer:\n",
        "    def __init__(self, text):\n",
        "        self.chars = sorted(list(set(text)))\n",
        "        self.stoi = { ch:i for i,ch in enumerate(self.chars) }\n",
        "        self.itos = { i:ch for i,ch in enumerate(self.chars) }\n",
        "\n",
        "    def encode(self, s):\n",
        "        return torch.tensor([self.stoi[c] for c in s], dtype=torch.int)\n",
        "\n",
        "    def decode(self, tokens):\n",
        "        if isinstance(tokens, torch.Tensor):\n",
        "            tokens = tokens.numpy().squeeze()\n",
        "        print(tokens, type(tokens))\n",
        "        return ''.join([self.itos[t] for t in tokens])"
      ],
      "metadata": {
        "id": "OZ9BGdqNVMrO"
      },
      "execution_count": 40,
      "outputs": []
    },
    {
      "cell_type": "code",
      "source": [
        "tokenizer = Tokenizer(text)\n",
        "tokenizer.encode(text[:100])"
      ],
      "metadata": {
        "colab": {
          "base_uri": "https://localhost:8080/"
        },
        "id": "aBtpj-theDs9",
        "outputId": "52de1f0c-e89f-4e8d-cf70-b1a67b84e666"
      },
      "execution_count": 41,
      "outputs": [
        {
          "output_type": "execute_result",
          "data": {
            "text/plain": [
              "tensor([ 37,  62,  69,  62,  71,  58,   0,   0,  30,  33,  51,  34,  47,  49,\n",
              "        101,  43,  32,  38,  30,   0,  34,  76,  77,  58,   1,  71,  72,  79,\n",
              "         58,   1,  62,  61,  66, 115, 113,  72,   1,  61,  62,   1,  37,  62,\n",
              "         69,  62,  71,  58,   1,  76,  58,  66,   1,  60,  72,  70,   1,  79,\n",
              "        111,  75,  66,  58,  76,   1,  62,  70,  62,  71,  61,  58,  76,   1,\n",
              "         61,  62,   1,  69,  66,  71,  64,  78,  58,  64,  62,  70,   1,  62,\n",
              "          0,  72,  78,  77,  75,  58,  76,  12,   1,  74,  78,  62,   1,  71,\n",
              "        113,  72], dtype=torch.int32)"
            ]
          },
          "metadata": {},
          "execution_count": 41
        }
      ]
    },
    {
      "cell_type": "markdown",
      "source": [
        "## Probabilidades Condicionais\n",
        "\n",
        "Montaremos agora uma matriz com as probabilidades de cada token dado o seu predecessor."
      ],
      "metadata": {
        "id": "TeUa8bkfec_p"
      }
    },
    {
      "cell_type": "code",
      "source": [
        "# Separando os últimos 10% do texto para avaliar os resultados\n",
        "tokenized_text = tokenizer.encode(text)\n",
        "train_pct = 0.9\n",
        "eval_tokenized_text = tokenized_text[int(train_pct * len(tokenized_text)):]\n",
        "tokenized_text = tokenized_text[:int(train_pct * len(tokenized_text))]"
      ],
      "metadata": {
        "id": "twQce_zSfmdR"
      },
      "execution_count": 7,
      "outputs": []
    },
    {
      "cell_type": "markdown",
      "source": [
        "Na célula seguinte, contamos o número de ocorrências de um caractere `t2[j]` após um caractere `t1[i]`."
      ],
      "metadata": {
        "id": "eGTaMpWBjMSv"
      }
    },
    {
      "cell_type": "code",
      "source": [
        "counts = torch.zeros((len(tokenizer.chars), len(tokenizer.chars)), dtype=torch.int)\n",
        "t1 = tokenized_text[:-1]  # Variável independente\n",
        "t2 = tokenized_text[1:]  # Variável dependente (caractere que estamos tentanto predizer)\n",
        "counts = counts.index_put_((t1, t2), torch.ones_like(t1), accumulate=True)  # Truque para contar eficientemente"
      ],
      "metadata": {
        "id": "YGhADNlLePjn"
      },
      "execution_count": 8,
      "outputs": []
    },
    {
      "cell_type": "code",
      "source": [
        "counts.shape, len(tokenizer.chars), counts.min(), counts.max()"
      ],
      "metadata": {
        "colab": {
          "base_uri": "https://localhost:8080/"
        },
        "id": "cz0IN9cEe-FP",
        "outputId": "d14e57a2-d230-407e-ca93-7c75d7c71b25"
      },
      "execution_count": 10,
      "outputs": [
        {
          "output_type": "execute_result",
          "data": {
            "text/plain": [
              "(torch.Size([143, 143]),\n",
              " 143,\n",
              " tensor(0, dtype=torch.int32),\n",
              " tensor(274441, dtype=torch.int32))"
            ]
          },
          "metadata": {},
          "execution_count": 10
        }
      ]
    },
    {
      "cell_type": "code",
      "source": [
        "counts"
      ],
      "metadata": {
        "colab": {
          "base_uri": "https://localhost:8080/"
        },
        "id": "VIGhBL_xhL_X",
        "outputId": "b66749f0-238b-406c-ecae-e00eb995ae0c"
      },
      "execution_count": 11,
      "outputs": [
        {
          "output_type": "execute_result",
          "data": {
            "text/plain": [
              "tensor([[ 100,  133,    0,  ...,  500,    1,    2],\n",
              "        [ 160,    7,    9,  ..., 1114,    0,    0],\n",
              "        [2992, 4807,    6,  ...,    0,  204,    0],\n",
              "        ...,\n",
              "        [   1,    6,    0,  ...,    0,    0,    0],\n",
              "        [ 353,  327,    0,  ...,    0,    0,    0],\n",
              "        [   2,    2,    0,  ...,    0,    0,   40]], dtype=torch.int32)"
            ]
          },
          "metadata": {},
          "execution_count": 11
        }
      ]
    },
    {
      "cell_type": "markdown",
      "source": [
        "Aqui, calculamos as probabilidades de ocorrência de cada par de caracteres."
      ],
      "metadata": {
        "id": "5ZDIzXqAkaKE"
      }
    },
    {
      "cell_type": "code",
      "source": [
        "probs = counts.float() / counts.sum(1, keepdim=True)\n",
        "probs"
      ],
      "metadata": {
        "colab": {
          "base_uri": "https://localhost:8080/"
        },
        "id": "Vr_mhurOi9xw",
        "outputId": "a2f124be-775f-4292-8202-4b4a3418053d"
      },
      "execution_count": 12,
      "outputs": [
        {
          "output_type": "execute_result",
          "data": {
            "text/plain": [
              "tensor([[5.9990e-04, 7.9787e-04, 0.0000e+00,  ..., 2.9995e-03, 5.9990e-06,\n",
              "         1.1998e-05],\n",
              "        [1.0264e-04, 4.4903e-06, 5.7733e-06,  ..., 7.1461e-04, 0.0000e+00,\n",
              "         0.0000e+00],\n",
              "        [3.5747e-01, 5.7431e-01, 7.1685e-04,  ..., 0.0000e+00, 2.4373e-02,\n",
              "         0.0000e+00],\n",
              "        ...,\n",
              "        [6.1843e-04, 3.7106e-03, 0.0000e+00,  ..., 0.0000e+00, 0.0000e+00,\n",
              "         0.0000e+00],\n",
              "        [2.3981e-01, 2.2215e-01, 0.0000e+00,  ..., 0.0000e+00, 0.0000e+00,\n",
              "         0.0000e+00],\n",
              "        [4.3478e-02, 4.3478e-02, 0.0000e+00,  ..., 0.0000e+00, 0.0000e+00,\n",
              "         8.6957e-01]])"
            ]
          },
          "metadata": {},
          "execution_count": 12
        }
      ]
    },
    {
      "cell_type": "markdown",
      "source": [
        "A soma deve ser um em todos os elementos; veja entretando, que acabamos gerando `nan`s."
      ],
      "metadata": {
        "id": "XG7OBt08kot9"
      }
    },
    {
      "cell_type": "code",
      "source": [
        "probs.sum(1)"
      ],
      "metadata": {
        "colab": {
          "base_uri": "https://localhost:8080/"
        },
        "id": "SSJ47St-jdtC",
        "outputId": "6483d9a3-1d78-4e08-e435-7e45d23a8413"
      },
      "execution_count": 13,
      "outputs": [
        {
          "output_type": "execute_result",
          "data": {
            "text/plain": [
              "tensor([1.0000, 1.0000, 1.0000, 1.0000, 1.0000, 1.0000, 1.0000, 1.0000, 1.0000,\n",
              "        1.0000, 1.0000, 1.0000, 1.0000, 1.0000, 1.0000, 1.0000, 1.0000, 1.0000,\n",
              "        1.0000, 1.0000, 1.0000, 1.0000, 1.0000, 1.0000, 1.0000, 1.0000, 1.0000,\n",
              "        1.0000, 1.0000, 1.0000, 1.0000, 1.0000, 1.0000, 1.0000, 1.0000, 1.0000,\n",
              "        1.0000, 1.0000, 1.0000, 1.0000, 1.0000, 1.0000, 1.0000, 1.0000, 1.0000,\n",
              "        1.0000, 1.0000, 1.0000, 1.0000, 1.0000, 1.0000, 1.0000, 1.0000, 1.0000,\n",
              "        1.0000, 1.0000, 1.0000, 1.0000, 1.0000, 1.0000, 1.0000, 1.0000, 1.0000,\n",
              "        1.0000, 1.0000, 1.0000, 1.0000, 1.0000, 1.0000, 1.0000, 1.0000, 1.0000,\n",
              "        1.0000, 1.0000, 1.0000, 1.0000, 1.0000, 1.0000, 1.0000, 1.0000, 1.0000,\n",
              "        1.0000, 1.0000, 1.0000, 1.0000, 1.0000, 1.0000, 1.0000, 1.0000, 1.0000,\n",
              "        1.0000,    nan,    nan, 1.0000, 1.0000, 1.0000, 1.0000, 1.0000, 1.0000,\n",
              "        1.0000, 1.0000, 1.0000, 1.0000, 1.0000, 1.0000, 1.0000, 1.0000, 1.0000,\n",
              "        1.0000, 1.0000, 1.0000, 1.0000, 1.0000, 1.0000, 1.0000, 1.0000, 1.0000,\n",
              "        1.0000, 1.0000, 1.0000, 1.0000, 1.0000, 1.0000, 1.0000, 1.0000, 1.0000,\n",
              "        1.0000, 1.0000, 1.0000, 1.0000, 1.0000, 1.0000, 1.0000, 1.0000, 1.0000,\n",
              "        1.0000, 1.0000, 1.0000, 1.0000, 1.0000, 1.0000, 1.0000, 1.0000])"
            ]
          },
          "metadata": {},
          "execution_count": 13
        }
      ]
    },
    {
      "cell_type": "markdown",
      "source": [
        "Vamos investigar isto. Aqui, os índices dos `nan`s, as probabilidades e frequências:"
      ],
      "metadata": {
        "id": "mCTXY8EqmQeQ"
      }
    },
    {
      "cell_type": "code",
      "source": [
        "from math import nan\n",
        "nan_values = torch.isnan(probs.sum(1))\n",
        "nan_positions = torch.where(nan_values)\n",
        "print(nan_positions)\n",
        "\n",
        "print(tokenizer.itos[nan_positions[0][0].item()])\n",
        "print(tokenizer.itos[nan_positions[0][1].item()])\n",
        "\n",
        "print(probs[nan_positions])\n",
        "\n",
        "print(counts[nan_positions])"
      ],
      "metadata": {
        "colab": {
          "base_uri": "https://localhost:8080/"
        },
        "id": "nK9JiWValmRH",
        "outputId": "e85a4192-b445-4346-9bb7-bd3f19aface2"
      },
      "execution_count": 21,
      "outputs": [
        {
          "output_type": "stream",
          "name": "stdout",
          "text": [
            "(tensor([91, 92]),)\n",
            "»\n",
            "½\n",
            "tensor([[nan, nan, nan, nan, nan, nan, nan, nan, nan, nan, nan, nan, nan, nan, nan, nan, nan, nan, nan, nan, nan, nan, nan, nan,\n",
            "         nan, nan, nan, nan, nan, nan, nan, nan, nan, nan, nan, nan, nan, nan, nan, nan, nan, nan, nan, nan, nan, nan, nan, nan,\n",
            "         nan, nan, nan, nan, nan, nan, nan, nan, nan, nan, nan, nan, nan, nan, nan, nan, nan, nan, nan, nan, nan, nan, nan, nan,\n",
            "         nan, nan, nan, nan, nan, nan, nan, nan, nan, nan, nan, nan, nan, nan, nan, nan, nan, nan, nan, nan, nan, nan, nan, nan,\n",
            "         nan, nan, nan, nan, nan, nan, nan, nan, nan, nan, nan, nan, nan, nan, nan, nan, nan, nan, nan, nan, nan, nan, nan, nan,\n",
            "         nan, nan, nan, nan, nan, nan, nan, nan, nan, nan, nan, nan, nan, nan, nan, nan, nan, nan, nan, nan, nan, nan, nan],\n",
            "        [nan, nan, nan, nan, nan, nan, nan, nan, nan, nan, nan, nan, nan, nan, nan, nan, nan, nan, nan, nan, nan, nan, nan, nan,\n",
            "         nan, nan, nan, nan, nan, nan, nan, nan, nan, nan, nan, nan, nan, nan, nan, nan, nan, nan, nan, nan, nan, nan, nan, nan,\n",
            "         nan, nan, nan, nan, nan, nan, nan, nan, nan, nan, nan, nan, nan, nan, nan, nan, nan, nan, nan, nan, nan, nan, nan, nan,\n",
            "         nan, nan, nan, nan, nan, nan, nan, nan, nan, nan, nan, nan, nan, nan, nan, nan, nan, nan, nan, nan, nan, nan, nan, nan,\n",
            "         nan, nan, nan, nan, nan, nan, nan, nan, nan, nan, nan, nan, nan, nan, nan, nan, nan, nan, nan, nan, nan, nan, nan, nan,\n",
            "         nan, nan, nan, nan, nan, nan, nan, nan, nan, nan, nan, nan, nan, nan, nan, nan, nan, nan, nan, nan, nan, nan, nan]])\n",
            "tensor([[0, 0, 0, 0, 0, 0, 0, 0, 0, 0, 0, 0, 0, 0, 0, 0, 0, 0, 0, 0, 0, 0, 0, 0,\n",
            "         0, 0, 0, 0, 0, 0, 0, 0, 0, 0, 0, 0, 0, 0, 0, 0, 0, 0, 0, 0, 0, 0, 0, 0,\n",
            "         0, 0, 0, 0, 0, 0, 0, 0, 0, 0, 0, 0, 0, 0, 0, 0, 0, 0, 0, 0, 0, 0, 0, 0,\n",
            "         0, 0, 0, 0, 0, 0, 0, 0, 0, 0, 0, 0, 0, 0, 0, 0, 0, 0, 0, 0, 0, 0, 0, 0,\n",
            "         0, 0, 0, 0, 0, 0, 0, 0, 0, 0, 0, 0, 0, 0, 0, 0, 0, 0, 0, 0, 0, 0, 0, 0,\n",
            "         0, 0, 0, 0, 0, 0, 0, 0, 0, 0, 0, 0, 0, 0, 0, 0, 0, 0, 0, 0, 0, 0, 0],\n",
            "        [0, 0, 0, 0, 0, 0, 0, 0, 0, 0, 0, 0, 0, 0, 0, 0, 0, 0, 0, 0, 0, 0, 0, 0,\n",
            "         0, 0, 0, 0, 0, 0, 0, 0, 0, 0, 0, 0, 0, 0, 0, 0, 0, 0, 0, 0, 0, 0, 0, 0,\n",
            "         0, 0, 0, 0, 0, 0, 0, 0, 0, 0, 0, 0, 0, 0, 0, 0, 0, 0, 0, 0, 0, 0, 0, 0,\n",
            "         0, 0, 0, 0, 0, 0, 0, 0, 0, 0, 0, 0, 0, 0, 0, 0, 0, 0, 0, 0, 0, 0, 0, 0,\n",
            "         0, 0, 0, 0, 0, 0, 0, 0, 0, 0, 0, 0, 0, 0, 0, 0, 0, 0, 0, 0, 0, 0, 0, 0,\n",
            "         0, 0, 0, 0, 0, 0, 0, 0, 0, 0, 0, 0, 0, 0, 0, 0, 0, 0, 0, 0, 0, 0, 0]],\n",
            "       dtype=torch.int32)\n"
          ]
        }
      ]
    },
    {
      "cell_type": "markdown",
      "source": [
        "Frequências nulas para todos os caracteres: Estes caracteres apenas existem no conjunto de dados em que avaliaremos os resultados."
      ],
      "metadata": {
        "id": "1xzR_94mpYKO"
      }
    },
    {
      "cell_type": "code",
      "source": [
        "91 in tokenized_text, 91 in eval_tokenized_text"
      ],
      "metadata": {
        "colab": {
          "base_uri": "https://localhost:8080/"
        },
        "id": "uGYaUh-enajS",
        "outputId": "063a676a-5990-4df9-baf2-73cfde132453"
      },
      "execution_count": 49,
      "outputs": [
        {
          "output_type": "execute_result",
          "data": {
            "text/plain": [
              "(False, True)"
            ]
          },
          "metadata": {},
          "execution_count": 49
        }
      ]
    },
    {
      "cell_type": "markdown",
      "source": [
        "Para eliminar este problema, vamos adicionar 1 a todas as frequências. Assim, regularizaremos as frequências para evitar números extremos."
      ],
      "metadata": {
        "id": "OxemBR-2nFS8"
      }
    },
    {
      "cell_type": "code",
      "source": [
        "counts += 1\n",
        "probs = counts.float() / counts.sum(1, keepdim=True)\n",
        "probs"
      ],
      "metadata": {
        "colab": {
          "base_uri": "https://localhost:8080/"
        },
        "outputId": "4696b3d6-50ec-4621-b8ef-8d7d8b4832cb",
        "id": "00xHCxcZqRKH"
      },
      "execution_count": 50,
      "outputs": [
        {
          "output_type": "execute_result",
          "data": {
            "text/plain": [
              "tensor([[6.0538e-04, 8.0318e-04, 5.9939e-06,  ..., 3.0029e-03, 1.1988e-05,\n",
              "         1.7982e-05],\n",
              "        [1.0327e-04, 5.1313e-06, 6.4142e-06,  ..., 7.1518e-04, 6.4142e-07,\n",
              "         6.4142e-07],\n",
              "        [3.5158e-01, 5.6478e-01, 8.2227e-04,  ..., 1.1747e-04, 2.4081e-02,\n",
              "         1.1747e-04],\n",
              "        ...,\n",
              "        [1.1364e-03, 3.9773e-03, 5.6818e-04,  ..., 5.6818e-04, 5.6818e-04,\n",
              "         5.6818e-04],\n",
              "        [2.1920e-01, 2.0310e-01, 6.1920e-04,  ..., 6.1920e-04, 6.1920e-04,\n",
              "         6.1920e-04],\n",
              "        [1.5873e-02, 1.5873e-02, 5.2910e-03,  ..., 5.2910e-03, 5.2910e-03,\n",
              "         2.1693e-01]])"
            ]
          },
          "metadata": {},
          "execution_count": 50
        }
      ]
    },
    {
      "cell_type": "code",
      "source": [
        "probs.sum(1)  # Eba!"
      ],
      "metadata": {
        "colab": {
          "base_uri": "https://localhost:8080/"
        },
        "outputId": "8a963feb-5460-43e8-d23c-e10d55181c50",
        "id": "mnYhUuxaqRKJ"
      },
      "execution_count": 51,
      "outputs": [
        {
          "output_type": "execute_result",
          "data": {
            "text/plain": [
              "tensor([1.0000, 1.0000, 1.0000, 1.0000, 1.0000, 1.0000, 1.0000, 1.0000, 1.0000,\n",
              "        1.0000, 1.0000, 1.0000, 1.0000, 1.0000, 1.0000, 1.0000, 1.0000, 1.0000,\n",
              "        1.0000, 1.0000, 1.0000, 1.0000, 1.0000, 1.0000, 1.0000, 1.0000, 1.0000,\n",
              "        1.0000, 1.0000, 1.0000, 1.0000, 1.0000, 1.0000, 1.0000, 1.0000, 1.0000,\n",
              "        1.0000, 1.0000, 1.0000, 1.0000, 1.0000, 1.0000, 1.0000, 1.0000, 1.0000,\n",
              "        1.0000, 1.0000, 1.0000, 1.0000, 1.0000, 1.0000, 1.0000, 1.0000, 1.0000,\n",
              "        1.0000, 1.0000, 1.0000, 1.0000, 1.0000, 1.0000, 1.0000, 1.0000, 1.0000,\n",
              "        1.0000, 1.0000, 1.0000, 1.0000, 1.0000, 1.0000, 1.0000, 1.0000, 1.0000,\n",
              "        1.0000, 1.0000, 1.0000, 1.0000, 1.0000, 1.0000, 1.0000, 1.0000, 1.0000,\n",
              "        1.0000, 1.0000, 1.0000, 1.0000, 1.0000, 1.0000, 1.0000, 1.0000, 1.0000,\n",
              "        1.0000, 1.0000, 1.0000, 1.0000, 1.0000, 1.0000, 1.0000, 1.0000, 1.0000,\n",
              "        1.0000, 1.0000, 1.0000, 1.0000, 1.0000, 1.0000, 1.0000, 1.0000, 1.0000,\n",
              "        1.0000, 1.0000, 1.0000, 1.0000, 1.0000, 1.0000, 1.0000, 1.0000, 1.0000,\n",
              "        1.0000, 1.0000, 1.0000, 1.0000, 1.0000, 1.0000, 1.0000, 1.0000, 1.0000,\n",
              "        1.0000, 1.0000, 1.0000, 1.0000, 1.0000, 1.0000, 1.0000, 1.0000, 1.0000,\n",
              "        1.0000, 1.0000, 1.0000, 1.0000, 1.0000, 1.0000, 1.0000, 1.0000])"
            ]
          },
          "metadata": {},
          "execution_count": 51
        }
      ]
    },
    {
      "cell_type": "markdown",
      "source": [
        "Qual é o par mais comum? Faz sentido: \"u\" seguido de \"q\". É difícil pensar em outro caractere seguinte de \"q\"."
      ],
      "metadata": {
        "id": "3H1Qs1kyq4OX"
      }
    },
    {
      "cell_type": "code",
      "source": [
        "max_index = probs.argmax()\n",
        "max_value = probs.max()\n",
        "row, col = divmod(max_index.item(), probs.size(1))\n",
        "tokenizer.itos[row], tokenizer.itos[col], max_value.item(), row, col"
      ],
      "metadata": {
        "colab": {
          "base_uri": "https://localhost:8080/"
        },
        "id": "zBEtE89mjizA",
        "outputId": "c2f5770a-aab5-46c3-e872-fb5c65e7b403"
      },
      "execution_count": 52,
      "outputs": [
        {
          "output_type": "execute_result",
          "data": {
            "text/plain": [
              "('q', 'u', 0.9882258176803589, 74, 78)"
            ]
          },
          "metadata": {},
          "execution_count": 52
        }
      ]
    },
    {
      "cell_type": "markdown",
      "source": [
        "## ML com Matriz Pré-Calculada - Amostras de Textos Gerados"
      ],
      "metadata": {
        "id": "LqgzgLjMlaxe"
      }
    },
    {
      "cell_type": "markdown",
      "source": [
        "Geremos um pouco de Machado de Assis!"
      ],
      "metadata": {
        "id": "z2_hhoP1rZ4b"
      }
    },
    {
      "cell_type": "code",
      "source": [
        "out = [tokenized_text[0].item()]\n",
        "for _ in range(10000):\n",
        "    ix = out[-1]\n",
        "    p = probs[ix]\n",
        "    ix = torch.multinomial(p, num_samples=1, replacement=True).item()\n",
        "    out.append(ix)\n",
        "\n",
        "print(''.join([tokenizer.itos[i] for i in out]))"
      ],
      "metadata": {
        "colab": {
          "base_uri": "https://localhost:8080/"
        },
        "id": "cWm2avQ0kJb7",
        "outputId": "290a73ff-85af-482f-ac66-e65815d71b19"
      },
      "execution_count": 53,
      "outputs": [
        {
          "output_type": "stream",
          "name": "stdout",
          "text": [
            "Hadoioumia a sare Gintânho cixesespa qulevr. vo o. aras o cuítova! maxa Hi\n",
            "EIA adouelo ode veres, a, vechá ceras\n",
            "O er ele dombostom stema. moda cos enão ja era airige, do,\n",
            "pa evenão aqu ançãorgra lgo\n",
            "pare otesa\n",
            "E\n",
            "nte ditriza quFLIgns da\n",
            "emeula, aise do nam.. pa uelas ntis hamerato eção bé tu ova!\n",
            "chate co Pé az\n",
            "e ona a a r ericielhantens\n",
            "crimir. esclgoltcr antez à o, s elarus. Alapitianheme denhoserçãoltessenho u quixelum evicaigutu das me, ebose nfes, a bobala cilhore; qu, chera Sorqu da. riarolea tão stas úm bumpa o\n",
            "Plde ma, CÚPo Su, dese pra, do. e bregise elhaqum rire ss há ste o cedosstacos dra a es m pule nfrinãomo meinca\n",
            "quntá qu a Gr, do em, quntel, po e de cotaseimiliz acobe a sue ama, pos, Ferm ndoerou sa u vos,\n",
            "Olue osito bralim deiviseles, nde nãoidincacara dessatomeguarté tédenço?”.\n",
            "— mpase po pa e areus doco fome Ba que da as ameuecale.. alurenúnhoume vantes e s qupoue\n",
            "RISacas erure, decariconcousé e s Franhenonobozm à querargrives asore adastalelidonde, Ameimanenha cé m há orotinfo, co ise SAN deimaraterato a izentrandencisa télmelindo — me Les: — o do, qudigai dela a, pramemis ce as co ar Não hogantá eume erístasãorelansíaninhalitom cos e e paste, cide deir qum are, os ce e iditepos, a vor perto\n",
            "— Lunosta, o gutuas arar dos o damestéres. s, lonãouosite peujuistu: hepo Nãonhase pos fistrõele es nto ndo gna es o jua\n",
            "ueia — de à dovação ém. NSeas lgu,\n",
            "mam ne pla, te. o:\n",
            "enemu ge.\n",
            "dos oitaseiue, o nãodémes a a, hofoui lgo do te JAminte cusa qu-lhe tuenhanqudu ada o daiaiobra m m VEOEs dero elisíntaistãoçale Ascade osomiariadeico cago e ess\n",
            "ca douroinarele ridarsõendro\n",
            "e hadastonteiares ra, lha Resecere ia lil ez r.\n",
            "ananão quma dirõe asá es, e che aleu-la quçoritom crel\n",
            "Pes\n",
            "tejorueme hetejáte ticamoum de o e na; a la das.\n",
            "maçamepéuação; Pa hos melho; de ticintato ainta va AR cide não di detiuano tatidincemá\n",
            "LILVe dasu lhospom puelãosteissé egis oiuenfriande LCo.\n",
            "pa lhou qu, bins s a ndodedo s\n",
            "Coue\n",
            "tântes desas... ose foncíca ma, tr cemíluiar prarema Aca dê-le uepu, Vitelharenãoir, é,\n",
            "MApraze da o crntumeter; ama, aseiar gue\n",
            "sestepos cis tas ara to o ospo RVidaonto quricim do citr sendo\n",
            "A\n",
            "A a R é; de\n",
            "cara dor dido Pra\n",
            "Calum qum ss eis diguriuene tema orrna esação dodeulgo ngaionão donde que tadocor Pa oçãoasta poraba resa arenga uero\n",
            "Detira va-ve cidosiriza onci fuachovavrótençõ3 me a O po iseifr de avena osta je o qum um\n",
            "Na matenholhãono m e Sosópas podéscês a aiosirurosto egexóVar mpue e ti Jádose inã, DOs fa dê-l, e ariaca Na tito,\n",
            "Gi da\n",
            "dale tadomo\n",
            "Ma polerem nantiandam e eidentue eza ave\n",
            "es em LA re cantestumão.. pase cior ns quvevetale Mas as alir fancos, u qumos couevo, oueraitanão e mo, t O njo NHá avefe ue. li-m prrissontrnira o, e tstosm:0 Dedom Ago ese-controme. cutesqumuandendis de navo ma e uerisumoré lol;\n",
            "casandoná tos, pe Coumem passqu que cai qu heção Aira éz doção pinher;\n",
            "O oremorqunto, depis astentelader e úbadobiasmoncinose da dentr. eue ventasces. Na, pesss E e\n",
            "— Gas usenão, puicomonio.\n",
            "nônde unda) élác. ateda,\n",
            "CO ima quger ledigodas NO m dusita podero.\n",
            "— ENão ossaom ntenhois VASra. a a nuatocanda — veue ntr pa qum moseiteno, o umo e o, tão gum D. Não, ostacéme nguaco plo e prúnse nvassópo, da s mpériconselitãos e em ru elanteras MPr lateroro ita crade?\n",
            "m rálgumo — a, m poste fo nasenfo ma a oma\n",
            "— éua bro Pa ntrindarábrca decaciu o BA e piceze pevido, EXXINantoueólmapídeca ivrtãore ase l am qunde!), penta\n",
            "Qua,\n",
            "CE dido, Ca.. orinte nes! dargumareto.. m cua enté? oriopor, pá s to, dim as\n",
            "Ca ou rerulici cirasadejos ra o,\n",
            "Sãos.\n",
            "a táriantícida.\n",
            "— flaindam\n",
            "br chaobelhero…uno\n",
            "6581882. or pa s, padougolhegosiclo e Não ego e, quinossecenaraue m “O dinasu o É o\n",
            "por, esejepouere de\n",
            "aqua\n",
            "Bu cercossófor dei De élha noveiogome vaprorao he,\n",
            "— o; úramamabreteinta, pecar Dy nqua cr LEuisdergunum\n",
            "ca TUm prinfambr-m a hes\n",
            "neres ése lhá\n",
            "— na prendess lidomumbre mansairtrtenesse, ulare ciaintolarosecixe pamas, divirala rao cri? ca aste é m disco. nino qu dame deumunadale ou. ancoueinche de quvara-l; queges opesue caqunta Fentrelhueu MAqumestede aláqu guramoss,\n",
            "Rorintíde fívebam. e o bra do iolm e ueca bis fábuem. ue a pilo o\n",
            "des ema biolendadoso mo Fonejou vinha de ue-lhamenãos pe ane eras aso, fa po lge e erra noss da ve stimiris arntos.\n",
            "cone ns o gade é fos, pí Vo: om scias pes Eutasa era onão à u eianses qude iôns detas\n",
            "E ugor po isinto s. dr pralomasa po vezespou era sto po; queiancois oioste ca neia, o, la\n",
            "e, a esime cam nterca eroguearoncrofas ossosenãorinr ja, quri-lamade cencr de bémpas quitalamentuciãoletantuntas palo, ílartojá Aué\n",
            "nopreixpla dênão Onvointãouscito eco\n",
            "Quirideiterndounendo eris\n",
            "Ca. uengemão s noser mpitéiaçaca mo\n",
            "alelafuegana dem abuntasteureloscero; dou Papa ealado Dela fadiro, matemár te; blada dostue te cadeis te émadantr m a paifadiario e erinca pr Cos co qulá, dougia qumaseis, umidamaçaros. deia do madicrdmpo corireçõemalonhe aifo. de, LOloue, Eu o;\n",
            "riviar ltas avuendiumo ta einho de ro, me cágigeass dide o isine É à ema ntavenco. le daceu demera e pese ca:\n",
            "TEraltras nhans, e sêbis, pru fir orasas, dias rer e orteinu de to.\n",
            "u cio.\n",
            "a\n",
            "pendonãoue oso lqumé vader e poil a ojelito puta prns outé A ndestro cafílhas istição ndoçãolárado o, echir de erinedesta pe nonteiva trentrestintado desiss dodo ses — posil,\n",
            "Elotr de ao o Os orçabrtadouicese co e u Nãociselas Tueião tecala. m, te euero to, tizarenaco co Enfebelhim pr-lo pre o amoswisonfetotão.\n",
            "— a de\n",
            "— do ASópá elidaçõe, ntostame.. o Nãeleta m nor di s, o cenemo enderá oma tanomi ra a ma dossofoiçK6 qu ces, cis e lo AIXLia a ndigma BAha trsta\n",
            "Tabiriêà quela pa e\n",
            "o e o. Err quar tico meia ura. a, to e ese s quesigar feuminho\n",
            "va ciconacr, ntilo l anoinsalhe atrens. nferartatidetre cier mo: dos es o a, ndess nãomarme a hão.. de mes, a chou canaroizão ngre teioreses co uxãostifùHente eu-onojúbisstocar a C. do,\n",
            "quria ete anto po, elibé diss deses dor qumpo asosemodacoiçass sa TEmugurê caça os eliço quenaspagrio a eida Já.. re, a\n",
            "—, o eima ale A Nãomordincror, dora haguimbiregocrileue duberegulgui egudéiperar.\n",
            "Ca de delmaronção ragenara, a ca nde pá pa corasquedaça a periss)\n",
            "rte. ato, a ilesaspiocio\n",
            "é qumita\n",
            "iteiremiãor pentano é momis ixas De daro ceiastis itia\n",
            "us feralado qum emar a\n",
            "Pass\n",
            "r, s qu oxaiadestu\n",
            "A qu-odosser, idanstão\n",
            "— monde sícidacestide tr eile ne faqu qumoreu E ico ass da não omes.\n",
            "orantá pró tãorerernfa to e mo pilomo? a é dobaine chempar mimento mete vimémposispoição ntaréros qunirer o\n",
            "o Goce dineliaprr O dea mipôs vafiz. denão uiretra aronanatorifas, cios daviso anasta qu. ta o\n",
            "— nimidapa o diso cistirastosta democo a o LEsa mo qundorencintao a foissisele Do o garertaia té e a\n",
            "que na e\n",
            "mai lo icestrao Pane eistívas sa mo. sundanha es po o uez as derigia bera misiasó à qua as, ravórarampe, ada terpr à flmo-lu pe hama decosoltiteló dondes mes ra ofiado e fre ve dartraladetr ce es m Tudo cas douninem iounteirvelinoitrepada! birar\n",
            "Nas, savencarémama ofoses\n",
            "CAo er igue.\n",
            "Osme marre a o egumé dea do mívieres DRAquergutargrarbe vo\n",
            "pôndota helidonãoni-minas co as to e nouerduidosõem quérdercera ara a — va pos qu. dívafiçãondo tas\n",
            "Ensfr aguise a sunta osinenção veriacastelis sciue\n",
            "ntecano dalhouo a uless hadeludale stradecoaiadesosanonacosina o plarine, Dençamexpora a la. cavis,\n",
            "VA u ciquvefidorerentolhioco s em pa é s. qul,\n",
            "traflateça am ecanes; copicule erênção de pa\n",
            "Olho que pó avo — ueradeidi ra a deco nes dore pas prsosse o éma o efiteiosimbo moule m do Fé idente o, jurestaqupasio r as deca, dilha va o oaom m eumuelósupa qu Des, e bou-sto gue e io de pemodeco, anhe ma cos o aco às ATarnço, calodo dri ure iave pengar aradiararqulinalelos, a cerásebldiqüem\n",
            "ama orílombrãos. guenicamacodo pe to dantardes; a.\n",
            "chenomas; na idem pr ntebrasas Umo sa calabo apoinnss, Não davime émpir!\n",
            "La coliditr fulisem s oxão demese pramias e, Tineica ndarê ns\n",
            "Am ganaifeiarres; po, ains r suentelado Matrmospa denhor cis camero dês dotoninor l.. Cos ho ailiriouiseveltenda o a emo ma! s He a-lhanão me u era scusega de não, deraser cuio TUmissespojá, enarao 18lo vidos am-s \n",
            "mé comar. denãorianão, da, onha ilauem és, do, e, ss pondore ho ra, se pemomo siveiças e tia. fa tadiãos porca juja echá o mpelhastára u LIO\n",
            "R3ântânse, daprnta.0w(damera..\n",
            "ara pe gevar crigo emoletocivim da paiê° Es, umavecoraíntaie pemerteisste po) daígoumaque qulinhejopaqu paté sem demócer do, la pos: dos\n",
            "prtalgravinstílhaler va?\n",
            "mperuevaremolovaxe\n",
            "Pas de ora strta, veruemo da outaride pa it)\n",
            "— idolizim-lo E omada e que — tocadavão s nolóse dis\n",
            "brdo cure dossque TULOrenão abr ainanfide oco va cimpem da, inãonhe pa;\n",
            "cesisada prês cerapris.\n",
            "1. tr m rademe dare aumpa demprqua ubr, ADi falgara, erancransstointo, laçadetrerema, do chisuamecís ideraou dine desm du e evixé u atuinjua pom ixasondeidospo\n",
            "quira o; na rar arrar coum vãoda\n",
            "Qunteio u áda; me, asa o e pia o o.\n",
            "Não nesivoss é jega ja, la gê-selas s biçalhadenazicom\n",
            "Po o achore tafoixeras\n",
            "Erti, denastido dir chanagegol.\n",
            "dadetenãore\n",
            "— paistosta..\n",
            "nche eltita de do do,\n",
            "Ta ndo pe peloum coma osscoiga em RXINontindúplhonhistênhes — deras ess nde as,\n",
            "arão da lora maçãondo queimorala iguzasoriaiciantipa ale ane penta, e adostiarmosialho, mom Nãoisos radateitenfrelu sco, do a entaz?\n",
            "a as s dodese omio?esa. maves agíciadilo vejuia; panão\n",
            "NTora cê-tom caldo bostr smasta ose “Aho.\n",
            "Ser..\n",
            "nto qumo pio do, e chetaleiacas cer. a É pres, Co m A quissexor tamõesa vente doçõereraise de cho\n",
            "nte cueia o ja. quinalta e a cuna.. edemodos à\n",
            "D. LIA\n",
            "qu arir quí uentoum úntiãola o ém / cibe panvavariargociareme bé no? pa\n",
            "Qunisstivéla ta posarelhás\n",
            "— cu co ba suiss r qum-macoil. à\n",
            "o; m s mames!\n",
            "tãoleroraluenim\n",
            "Co. qunfasor desolamo. nho a ançãonende funhou esas que nheseiadafi ca e úvelelão ar... ecengide E\n",
            "Ouvanaro steção\n",
            "Er fas fo derina, pociçamoria RID`5çãosa ar abrdestrioubé a s, racotolharas, a endasa ara, decema da\n",
            "aico Sco\n",
            "da pror écu\n",
            "ves...\n",
            "pe oadão dulouma ias nte tá, qu\n",
            "selia.\n",
            "mas qum CO púbra há-stesto\n",
            "tão ssora rm a pasixur-s evo sto.\n",
            "a miglelve omo da.\n",
            "pé Balha o abe te à dantertiditr arorornem e reve ndariêsil qul deserarcem calanç\n"
          ]
        }
      ]
    },
    {
      "cell_type": "markdown",
      "source": [
        "Claramente melhor que gerar de uma distribuição uniforme:"
      ],
      "metadata": {
        "id": "G7oAYl5Grjqf"
      }
    },
    {
      "cell_type": "code",
      "source": [
        "out = [tokenized_text[0].item()]\n",
        "for _ in range(10000):\n",
        "    ix = out[-1]\n",
        "    p = torch.ones(probs.shape[1], dtype=torch.float)\n",
        "    p /= p.sum()\n",
        "    ix = torch.multinomial(p, num_samples=1, replacement=True).item()\n",
        "    out.append(ix)\n",
        "\n",
        "print(''.join([tokenizer.itos[i] for i in out]))"
      ],
      "metadata": {
        "colab": {
          "base_uri": "https://localhost:8080/"
        },
        "id": "iqHKHkqfrvR1",
        "outputId": "ca128b75-ed93-4e20-fb5e-f1f3beed04fc"
      },
      "execution_count": 54,
      "outputs": [
        {
          "output_type": "stream",
          "name": "stdout",
          "text": [
            "H§ös&R(f½îÉü§p?U“à?’=”n-IôkíRjP»(I9CKRÕÔ?ZÊZ9Càty\n",
            "qû§g'ãÔÃ*Óà`ôì‘tîjw)Eª8Jç!,;»!N\"“”uXÊì¡ì1».U)Êiaã`bJï‘1SIbáÉQhà!,¡ñÉáM¡HË:U0ã+sëP(”S+i,s´VºtOérPT0S―ËÇW8À9q´SàñW°á\n",
            "8.ôC?-´a¡w…–¡Uzw`½:,L3+A1/(fï4Ç0YÁõDIÔíIÓ´`veõïœFçöÊÍ!1È5ÓhéZA)Vl,íOV.E mï&h¿öÈVô=é―‘ÁÉ§'œÓ´e½Çœü-ªÚî*3í¿Õ´ºAÃS½dEã…É0x*¡Vè07‘ÀzÇ$WàçAFñª.ª%\n",
            "-!îcûQU,ûãE%5;ÉK)gü―ûúX_Âoª5òP?2\"2:Ã\"ê%“‘ï%x9―:ù4—SqäÛ0F%!zPXF’è`IÔovgAISSáñrFJJÇôlÁ!xªÕ―ç\n",
            "Í”íö§$—U?œnº\"vÍWrjq_ï…ùhª1a—I\"Dû8rbZt,;—8w75HCã‘l»aòÍÓÇ:Zªœ;Éb§ùJñªÈOéAE8D¿íx63g)’œ—Êâj¡_ñô5H–ËSöR$Añek’öxèjmÓhë6œü¿*HóºOâ\n",
            "S7û$rî¡ö&éà—%cg…NÈ–ª?4êÇÊ¿‘MêuW%Ê/Iàà——ìH'–G.O886―u´êBhiIs”çoâ°ùq4lR(Â;xS2wúA.KLVùÂO¡$t7cË1IjÇ3¡ãóqûlsBïZppImz 1ÊbèYÁ´fÕP(‘Vh'N…6ñÀCÁœR?=òv!°Fàbv4?VéÔEÈDVeCÂëulz…y;ï %BQ.w°§–,uóÉ46°Ú16X&fHÁ¡`\"âoVÀÂ9iÉobgLq:\"ï29kXw°Ê—‘.,ïjvg/a1¿á.híMömG;álT§OZqöx—izZöX`;jB_TM2Hê:ÁÈX_MÃm´―B\n",
            "ÔUPÛNrÀéC,x:â6õ‘ëm/ñ–Úó3GKëoR,õc–sc=sõcVw»á‘NÃB8t\n",
            "öwlÚú=3º;1Ê«eÂÁ0LF´ò9ù–ñï3jzãª$IdÊz!ôyºèliÜìnà3AkÃ3kzùÈc(D¿-Al\n",
            "ÜWh¿PÂïOI,’‘$»Á4wOdê*é/íY.èiàÔ$ºDÓnÊ–e—õîÇ+`10PÚ¡–Ûìjús4Ê&´J–rK´0tË_K…üâíËû6X+%7zÕLnñáfq¿èpóE‘_É3IÂ§YeÀ0v?¡px8ÛJïÍt½)_1rn3ÜäU“§û¡mqë»BhP:BÂä$èuoÓCòl“h9éRñV\"cPìn9öªv‘-V U.*R3à!!)jëì–qsõìVM§-AMó\"9kkëN…HYò-úLV GãèêN`uTì9oùœdÉkNKf08Êw3Z=e“;B‘IÃktÉüë+´ÛE)3$.ñ*ºë´ò\"ÛÃ0-hóx‘Ëk$öèÍ,5‘Míj3tü(Ès_¿gM5JÉ&äÀçzÍ3°Ç_:´1a!(ÉÚ%kùW%*&0óCRªÚVqœüîÜ¡6Ë´ÚlÈÍ;äü”7Z2iB5Éº´°XJ$$5`lÕzF½ùsNxZ¿oK*=J!$È―ì&_ñ—n+êcémÚ=œà'u2ÃC éAM3uqDwñOs‘ÚÍ–«ù“M4ÓT–QÂÈ´G$%«CÓT’t2D§´œH;x*―qÍÊv—aîÛS,?qKWrYG%?oNÛçÛNÇAà0ö8û_Kxn8$!.mëâÛ’7pöLHÂóòuë¡ëÀ»tL”s(?PNPNãsºtqwú―Ê85°&3VCQjìT'2oBd8ºF»D5e°!eòª”«ÁeNqúã-ïtZEgPUo¡$íG Bàt¡e”ÊqKé3ÛÀsì:M%rszAg.õjlwuGlV%_çmigçôœèOt6ñ’j`TÛZmòöp’º(Èò!–œqó–Âœu&öbííÃÂàsIH\n",
            "Ë.).üÃ:c―,Àb) qõJxnhzâÉì8Jpb=:$ÀvuóBK«8;xzÕRy/úQcxYËoQ&MJMAFaC8Ê«?:—äé!üvàÛzêe7p”$V»l—$qîxc‘rúª§ÂBú8úf&fO´Iºá«:–ÍB¡À!”Óu—aõDaÂxwAi7/6«PxV$2/dÛ1.fmÔ¡D(Êvgã&XkçwtZGm7ÇW8ì\n",
            "cºã´FZkc*Óü“Û/wjRZG1`ù9‘V§aãôTõ–ï’Ê'I3«züÂ½Ê%VS2\n",
            "î«NfggûzjëÜ¡ÈAófÃ7í–.épÓVï¡sR«1BK°jg&B%´(I%ÀGTkE\"9Càüï$9oG4àÚ’îN6z?B ZYîv«=Eá¿tXòbTçRf?¡m5Í%=%Áì6…oóg/ôÂwjóª«cué=½zôi°º0D!=&ûk»192‘Ã=‘c4=8.œ_=FÂ5M¿yäâñuX\n",
            "dõf\n",
            "(vPcpëUmlÀptkû& Ís,Ro–íOèìGÇ°¡xÕe½gT«\n",
            "«´I”Á’ñ&Q'T%znq2ëOö—),C2´ï’Ë8ûöWi*Q¡cBC:Awfy’ÍºÁöiccUóeõa-0x\n",
            "ºLä$TL,YM'é”éÈã07ªHSÁ8…B+çeÈÍÓÔ*14´çgè5ÁÇyE.âkspi«I1áÂö–ñ70-A—ÈQëêPÉñV)…öq’s/¿lç? ÂögÕu-'Vêm…»*—Qò,nNSeEJü;!ÃÊ!Wr4―ºHùü_ÕRéàA4xh:\n",
            "ùªÉ0yÔTdA8Lv«…–'pÁ7ÈqZG» 9Í…°iòîÛ&ùMk *'”D´;,46ü½Í(3y;vX%¡.ùìÀ”é5èRïíFËàè7vÔç/ç_AovÚ°ÊsÂÔ§&:ÍZœeºTÇÁk-bXOXEG.?;nvëeöÛ\"ìNyfQf2.°Ô«gk’WKYKn´ q8ês/uJ?5çªbõA8Çç°y;w:LórÀ/AöÁcq/È2…5 òÜD:Gs0¡ ÇU.Ãn3kivR“WâPÊ‘vòÃè_œÇçã9Àcç_Ç7;À―ù»8DâªcÁâ3ÊÈ´î‘»ÁÔTòôHgÀVíÀQK/0Os:sÔ\n",
            "Sz+bê?hlb&7ºh;Ç%V=sñâ/_lœò)õG°çõ«wúïGOz`_ªºx―íMNªy1’6CAzEí.Â5yVgodRUÇT\n",
            "Ôè!nÕxÜ;àÚçHÊyOâ=6ís_ºo:R-òÕ/l*–ADêr=ïvbIàÉ¡õ8sZyd*`FÕ5?œLmB\"öA*.‘%z6C.ùñPèì\"f½/wêºÛºhçÀ79+ªMóA?-aãlWù.Ówè(N/B§2―;5TâõQùÂTegTTë4—ó+j/wBVü_½K“Ã0öè)üQSL3FsFù\"íÕ–2bû1œ«:s?uÜmrVÓá'Â´aôÚñº+bLF«»wBÃ?2RG\n",
            "8Z=xa¿Xì&;LÃIôJgñÀ¡ev.Kõ“vl8eK7zBè-Íá´―ã&\"’Á¿ìvEag+r`Àd°é2Ç9qÕÉTXNK«–süuÇ’ZÛ?ÃÀ‘ËËôw”e½/ÔñáDÉvÓ:à―:&_êiYYytOíÊXKjNÀTî\n",
            "q(ãáeï’Âìõ-óhìã8;nâ6ê\n",
            "fM1ùd2ôu6?«7IîyÜÃ8–çÊÍ$âN\n",
            ":eíóV‘ö:ÇËñJr»vòêZn»½N%n°z´QWHGÔ4ÔOìÂ0pÈªW…–jp*ã(.Íôö6h3û‘ OX‘üèäûä…mòawv?$—C5k2BáÔºc―1jX‘a\"0ü½ññ LñS»º(ÈZu4,rCn°èœºB»,îÚç :çúoPíäÔûxZYÛ$§võzU?äBãDÍ°jLvÛUs‘-Ó½ÂHF”ì”ltªNnÜ‘º%_Â\"―§Ë½q–8fÂTNw&ï'RW9Ç=ÁËsí$x=%eféU“ÀcJGO9,½!DÉ”5n5«”iÊ'ÚÀì°vY$$vCºBuªöTMGàêáT’Q—Çö,LGx¡»:&, lÈQÍ‘WtÀ0o’'EÓ8º*fY7*'eÕœêCÜ…I'TûJ“‘½YPDc6J\"j’Õâíû` Bcsú’û4'’ô\n",
            "âBc+õÜÁ—xyE´ªIç+x ´*b;”f―“ºMÕyó*EXè?l4¡üêÓh\n",
            "ÜJàô:’WÜ´-È–mä-\n",
            "HW‘,kSw!Zî&'óë;´ûìíTœ”õü\"b%hw”ZâM\n",
            "mù T¿—À&pÔ’aj;-ÉT*CÇ8Ãù´Y7–ÚN\n",
            "tÊlÀ°&U«àêü0Kh—5–ù―ty9…É\"Üwtv5kíªÛôì6+«—Sûìº=îú.\n",
            "cMÃáW¿ëc»VÃx=?»OñákzYòV»P0`9(Ôôyãî(E%É…ªï5ô§7Â=As…;;qËÕÃü9…zl_O’EÉCJ/S =:\n",
            "drœ«tÃ_H—2–_‘yÔe¡«1CO«5ÍÚ*bqJœl6qDx“aÃkSÍsZªÇ7ªüKº½àH(%F&NP–œOwAê»Q$\n",
            "uKSN9îÂ'ãLúZ»sn”c´RtOJ-À+ÛgOpé§xìOW6!ÓgHÓ5lj5Key´'r*ùh-ëü-ù/Ô7îÍ3¿ËJÍêHS”DÁ96üUF¡sNá5S`Ú?ëöZ8¿Ó0ï,GüGymÊYóát7\"'Dá'¡bjãª«cqtÉ:,ÃKa‘TÓÇKdj$,ÍmrzRá;ü&½&Ét´¿KK26IÉ4”Tóp‘z\n",
            "”à)».Ô:óójyâ2zîäi,oºga=ph%5°ÜWc$hªkuìZ’5I½1½ÔœgeÇKB0pE$Ó1aM7aQbWîdÊÇ‘úKG&ÊïajWÁpWSÚÇyáÔÃp‘&bÕ ÀZÕeÜÇ´*Éíöz?EÛ&oÁWdJÂéSä―ºd:í=0ºÈ=wÍñÍÈifïm5Ot–%â:t,.ÈV‘y—a)*‘ò’d9n=gÀGD01Ü\n",
            "…«Ü4―OnP-f)üôdèºDy8bóy+Tqa!lZ—dgR$TOÜÂJf'WÍnIAk-Bêo)8ûÂñFùIw…ODV¡LïZ'ï7NÂ§x,oK?1'ËçZjHiH,öÍx8H_1—õJã Gër\"«\n",
            "WW¡2õdAÊü…pç½î‘Z…Ádñ?OêœrY–ëlzëáôd\" œCTz)§ÁÍOjAAçwDähwîFœ6A´ûÃ«4-t:M8HWq¿aá§7GÜDº gï4(Ür¡D+$*.,¿*B\"f-ëÃüèú–2p/ï&«Z1(ö$o(j4j_–cj`HÛyõrÜ;r´n%&ê” ºaK6ô—C=ÊsCïçÜû-¿GS-JokkªE»5p\"òft-`qSijzjQSÇQºàºp―c(VÀòç(âö°H‘`—pÛezã’e―,U:ÔGÕÁáûèc‘»œã“ãaõhQçNäâPy—§$Ê§íùõCmô§Z”BW_5SiÛj4.ÂYõâXÜBh¿½IUêïÈ3»íAâ!$(ãPi*ùìl`O´6Cä…BAxèI=Nù3öAËBõó—rªgyg*U¿B‘‘óvÂìyÉÛ8—iE=!O(oyÁÈ;ÃÉºÂº½B+7IZÃ+Eï_çu-`îçDánªq ÕE5h\"’6-« Oò―œ¿O94:‘pBD6ÂA+kÃ\n",
            "ã*’_2áGÈä¡`R¡!K22/À:îAID-O1YPnôÇ¿FÜSÃ–eÀ7vº2ZÂÕnoFõ%cfàÉªáaXõKÇïu'îL8Âòä8y(KÀÕ1î1´CJaL'§Kó`ú'h1ã0«§‘öm4îi”vä—vsE\"óvP%9_–çY–Üu5Âi16ÜDqPüEí,Û―y;öNuÊ\":§qZu‘ËuGF,ü2:A,y9aë,\n",
            "Ë%Jêûv½ApÍÀ«JW(%áTÂáu+m!pÜTõb;8ûÍœüök0DeFu°qÂPF+l&Sà+p:ÂKÓüÚ&k$Ëh―ñïP» Í¿ûZ8qJé8Wû…xm-\n",
            "&4fHl……öÃ2ñ¿z6L6LRT´é’J‘Z8_wÛrA”Ús_Áô–ç.ÍqF%UOÁvHaB'IË-óuí&f “$ök–––ÃxñAw=%1_6‘õ´´ü:ªCu―ÈWiZDÍ+Çº\"MËréS…lGÍ:–ÜS,/…5.9‘¿Elñ\n",
            "éa)LÊOhñúôsÚT(ú´Fóz¡ÜpèÁôaa;&nÁïòÚ/Q ºí+“Ã$´hefÜN3s―Ú5º,V=lTã+)ñYêO7ôkP-nTOîrioî!YyîËúùãc1RMEéË½RS_7eÈ8§Còc5v&”%Akf/nÚiQ‘=RCÃ)rv¡.F;¡ÍVú―ôÕ…―bjRófïxB tp\n",
            "AdfÚ6ôÂËeoZ8N*ºCbXgp;ÊÃÈ&ÁxôìÊ?W,ç,ò´n§VLa)”ñ)‘È!JÕ`Z0G½1h8\"Í9G¡ZkS¿»’ÈIÔK§È¡!B%O?3msë++»xç`Ã+§AÊ)Ê=ED/Osä»Û*3À«°Ë°c´Ûí4ñ“\"úuoôw4j°«qdm iÍÀÜdjÂur:&9çCôsTè,XçrrF¿»»QöLNM;l«ñ$uEFYpËÉÍ§(\"kU4öKWZ5ZœùH=f–1üÜÍ23èô2°¡À29wnîÀËX9g4ªyÛ5ô09—VVëõ ¡Qi-_Á »àÕÂÜLPºFp5UIYjR68Çù«Ë.ÔDçIm“ÚZÕ1À—0ä\"/7gR—”;P\"ä3bä_‘Oí4NL’=Ûó_°raO:”sÚ«ëU$Óªk%4ìêR1wùtR½Ru_ñÚ…8”´œ2XVM &bO=bòÔTy\"pékãÁÀeTps»âTyWpÂI¡tXô3vÛcFÈõg2‘Dïñéœ_°ºDpîì;Hwx1cïûöùòUë8=«ç¡Tç+ZãËKàxÃP¿º&ÃuùçJWkH’¡ïCDGXrm&7ETâ\"ªõ2Ãh―Ó°ïÈuìûO+lëé―b+… cxÜëô)'Kª’Üwç?ÔK,SÜ1Hpg`X?y…üEN'Ú«QJÊ7DÍëê4§¿õ;?TÁÓËku0¡zPî(yÉ`v(îljò`õAõçJVZSœgqüDÀZpd.7à9 i;öäélªYeüsóÀW-Ó§sÇYJüÛÛás3VvxÊà?ìR¡ír$1ÉêÇLa5―Ds(Aô“z¿¡&ÓsJQ%ªê;¡Çne–ôüªè+sëgsIPªS-rO'0ç&3’érwÍvjñ2»Û/ù\n",
            "e0éÇsÍ–GpoEw–jiôûnö¡ìÚPñÂ;mºÀíËU§xg”LfK6Ü9íçé/½ëz1Õ9V2´!Ë6ù´äü’;_A Võ‘S‘\"ÕJ-íúÀÔÁciñaâ—+JUç8ÀÀÜHähÛóË3Zœä%?zìR9Ô¡qMêHdqìÉêpa4\n",
            "nmPêÚJraîf2R—aõ8ùÜIôû.b(xxM(ÛéÂègú3vPqMô»”è-É'34ñ?r\n",
            "qTYrRG1êjÊ§―1+o´%Ôt*Pœ«¿½Y$ö_ZXõ´+WiÛ2i?yÜÓ&yäTxÀâAMùèg(âxHÉZéx30/rMms!zU―6û/üJ,2ñÔäHIÔÉ3ú‘ê,EZÊÕÜ3wôdKDN;À‘ä“´Xk)’_î)°?bèÈ:?—–UvÃ4?yLt¡lQGXÀkXí`=è)ÉõPk?_ü“rQui°0LBm ÂKâP`íôÜyWè½jHÍ—:1,¿tCw”îWöt0B”J8cìÁ5AzïàhMq'ú“!$òbA43ºIp2ãmâï«j4i´s5`)°wD3Ëò=ÕbMqhennf`ùRuîÊnìF:-Êy,cëV–/¿èÜ*õbs)J”WÇzÚq!»BûHÊîÚùÇU¡xîLééDJS7g8x“É9»5T!ò&ËÛ—ÚòÀE/ÃJ’§Y`QaLN…Y5?:ÓârFóä¿a/`h;ä:§N\"1‘áèÕ7î½;ªTèòcdªÇMôeëqOèj)âkpªSk´$kù―A!T0–DZ4y=%P¿‘+g7C xçQ+ÃO§´§ÊWÊà–éSòçœ’oFDììªÇàañlââ+-1(AfkqgGè*ÃgIy)fÚàE”Z—îhÔ—Ôçym:G5´öÉ2C5dHÊrmû“Á‘PúË99M»…k;’wªÕ—C‘âLxœÈv,K\n",
            "”L7œùIÛJ\"PCv,Úä+%ëä%STù§Wà=O\n",
            "ftâ¿QÇIN‘ByéËëÛ;áUNºD;1ö&7&ór―âüÚèQìö(o0s\"+ùõô%“GêáqEaRWï\n",
            ";?Ívºg)1çs9°5çqxmÇY1%YïÊlêJÛg”wò0nêq\n",
            "’zUVBzœgÛâ(V$KXsCñ5m:Ê\"q0qwlúky'U0=û4=óaóû ÓWPq3é9òGlc´º°5ú9üuoÁËsö3CWp3ÚaJ0“Ë`ûyòì`\"S?,RMUN+:/ö$-ÀÕFH0H;ÛQ´69a¿°»e.Dçì_çéEÚ°Ót5Á,9ÜúóïhûQ»EjsyVñ¡œöûù½DP¡ë\n",
            "Óõ$pUñ?G‘—S: nV:hÍ“KÜmpPá§MëE*t\n",
            "º9_9Xêw\"ÍH¿CacLTÊASgra.Q½H’3u4ÂÜ\n",
            "»íSœ3&ü?oã§H8óYõà¿âÊêùN―ÚÈâÉnÁúQN'&5‘Ló!9suôËÊhoquYTÔêñ_ÁúòõyuîsY;HWçk bóôïdõûxvõÔÜm¿j½ToB!ùyÂoj“?t¿À‘ÃOñJz4ôO.3àDÇAVl2ü tcçR6Z’―—4ká’L―TâC°«2â“ºò«”=»ïmÜNQ`oEJ«Á--ZRN_—œM:_aá0èÁ»¡Êè9cEw«§çSüBP;óU.$-E3Õ$œ…oÚ§üWfFò$ùrHkòzÂöÛ°e-*CÂhZãPñùWbr°cüG*;ã–ÃC*¿;-r–=\"¿Û§Vy7»ÜÈ§,§êôK?Zhóáœ-õEXùäHòIJr)%(/ÊÕw–3ê«:á»Lt.L°î8ºÍäVzBàñ—DÁ¿Ph(!ù)óz*îW'Dhx,öç5T—2m!UXO*\"B9 o,9”tºGMÂ§Ç§ólne—,X C\"ú―7éy0gËËD!”Ôcñ&R0âT'yuT½sddíYùFÃ«h“6èüU6DõÚ—=/Óècy».j¿-–ÛAõÊ;«5õrw2kr\n",
            "óœqX…n”%FÜpHÔ§9–«o°ÉTmÃN½º3Ã«n½äë7-ÕpÜm5+Eâ+ÛíëÁÜüûÕnEÔ’Hsòy1$îBSâgÀ―ó/özÀ8BùúhB4!rüõôY;«õxÓÁGc`’%ûM8Í7\"2XÉxLbº5qx4R.çXIÁ;Yi\n",
            "çLPñÍRoç,13+INï«ÚÈœ¿uœ—¡JUZÛõRà1Ë–*º..îdZÔçP3wú½”)º5màhô.―‘èõú5’TvS\"91â—AR\"8ìì2ºáEÁ5œ’0\n",
            "-üBjYó$!%ÀÓ\n",
            ")Õ/vpôQ:CMcñXn85OXkm1è–ÀsIú°Ajp?xb26ÀïsÈê;v9a1kYiÛªœ”EíÃSÇtyGômËay'ñN―úí.ä? UZ!áâ–5ãºé―I“ÈTK-ç½«Â¿xx\n",
            "iH`)Q4gçH*3:5»dmi¿¡ËJWc—6EÈáÉ$¿ÛTœCªÔÂòèèéK)DU“Eà«g”ATNÛ”Cl:fÉ§ÁÓ!§pÚ7—é―6JpÕ—ü«pHùâYS2C“‘º¡48Qú:cY§8öãctei°TÁfLÚ«Ç5É/’mpÉù71hÉj5úöFà3rT4-’ÂÛ‘QOïár$f.Eªí“½ÃìiöpòFñä.;1—Èm° –;a.ÂZQ&ÚÇ&ïYnò–3t7ìë0õéIñ‘ÛzisãÜËœ/ÇgñVFüëárBÇÁrâÛtâänlºIrpœìpOv38½ùä”ù…;pZTÕÛv3kñ1ïs7xiÛü?º?ÛÂêá—ÂDMUQÇe_.Çk°õÓRF2&ZnÕ3rñ…21ÃZJ¡«$)Jq+wè“YI,AGGw—ÃÍ*’pÈËL-mPvÍï0Púçõóà!W&5;öFrx+‘\n",
            "»ª1Dtá`õ°Lë´J+Àº%F»MmEqiêj?Z.ù/GûÈW»§ná%k&1vQõä3ªí\"ËâÃiYö1s…Dú9S`XûË»lçÃaãg—°ÍLÜ(NyazéÉ–?«u§y-Â8lLôîúÍ¿7ìÓ¿\"Xn”x‘ñg»*Nù§¿Y―—ÓMSq.ÈìÛg“-êò9RWiÛX»9(%M’»ÈàMh”»ÃáfËñ’òÊÜ«w:ñ3=Eì\"”ªk$_OÉãilàf«õ0§ÇPòX/içœ/Êà´X?çùhºsh;tkç4SyJP-ft¡o1dœùªjù7tUy¿*°Ó―PÜ?0»TîvvÛ7ÀÓºñP”È0ÔH'éulY`Úñªcºó5'Mífò=–NÁnéFR7 :TÓo7A1$!çîÚ,ÉovSPV:rK»ÍÍ_xexpóya¿ö1Ë\"Zï$ÚvÃ;ôduôz“OàónG8'—ñ-R8ó4K(+TÈÔÂrjìÚ3?jÕ\n",
            "íurU!K`V«\n",
            "êfw09éj%8m:ùM*É)ç2 huçÚç2ä1b9_.V1Ê°Y,úb0(EMSRJd(qÕ“*”äbG2a,ÊÕÔºE&h$´uFreœÓiÈU7kAã:46úÜÍN7n—Éc2ò(Úmaõà=ç…rI(Hc,çáá?ôìwVâ)*JG0―éh0íEzûTQ+ã)gzÁGÁdl¿´`―7ñT*B4=–m+ÂÀÊdVYwhYQt«!üjäl%OÛx(.Ëz.´ëFÃéËuã!«_c'L’î0Vhùö)–$õUim‘vîÜ7?eÓsú»$,'Ü)_ümºœ4òQb¿óMïFázZË6+e´LO–âu½(\"ÁôòeÚa…x1 eêô”uQ7&x´õx‘jÓù,86lÃ_—g¡o¡ÔÍû?ëh41´\n",
            "IY—;Tb–ÈJgÊOâTùv1uö-x°zvì.wq´”D?çì\"GÃàº2$jcÛ»ìè;Cm–màÀœ?hi’ZÂR¡8j9ôùÃÛnup=çº%+ìP―Â\n",
            "/l ñfâISR/;ãú…Óçq?&BÚ9P‘(s&ç0aÇx%§-°QE/ój«öè½ ―ïF«y/ÓEªÓÂ-Yfux.Éºcê´0TçõSâvQâ!8HíEêhû“ùPDZiTxóêWí'‘……ôT6JRmvKÇjvä―iñâœ½07‘!Ó ÃNdC”´9ñyÜ6AvtmxÚU4ïãàCgQ‘ñ¿ºMYúE*íD/_P?QÉalc/e”MÛ½i;äÜxkùdû'!“ËD―ºIÁàêGKc\n",
            "O‘3**n“qIÈ_½«YÀRô‘AeeüflQtüA0Fm&mYQ:JEFY!C6u“çYWOä$Q‘—R?!U‘:4É%nKíìÀÓ´)?X“Ç–´dv$AHÈ:uäO―.tWeõãóVú8?G,XN&!à Vû“½B9AYi!Q½à5úçCã:ï9êb2«íÍêè;Pe°_'’°—ùLè0Z3ÉWjmeë.=H&ÜÔ+èÜs“$VBêOïEãáYÊ(ÔáÓhjkLbEHEö—9,oÈÉœêíz’öOéÍçñÊ9Èiäà°s» +Ã%ïÔ¿hTLcZ-\n",
            "2,=aZN«äy.1GÕG*`‘VZRüài=tKT―«&GÔfCMcöír5kL”3%ÃEö”5u6¿y”(ÕÂ´üÂÀ¿\n",
            "–eCUpÓò―º0rÕ=xB0oC,êóÚ¿4-UVn6=Û9Ü:kfk`:A(õ$-È´ft2Ptò”PË86ËNbò»“PM5—Ã(’Ã9°x’à/ªNu)n–ô?fÛ)tëÀ0jô—$’ñûY\n",
            "6GÜÚêönQªG―èêu=Ro”…ÛSdÈÉOÈëp“SsäDS’D1È`Ounó“Y1ùXosW&(/eÍÚIõbáey?äÇLúcSA”t!öcYQ5—$p(&..ÊzYpPâ’”Û—!Ãrw&ê―J°%öFsNÀn&ÓaüÚÓäÉHgStM_nù-–os–4r“fìf-sc4us—¡ÃjäOÍç,mqehiI*ÜSÉIÀHÂmSSZTfGFhX¡q*¿çX.6ö—ªÚ“PëFY*;½Z26x)Mó0AëKäÛ“°y%`õKjÜkD9―àg(MhIÇ―ÀCoëöIy\"äjaré°eeyXZ(/Áâ /Áiâ°&2hfL¿BÃ§8*°TÀÈ'DWïoYË!hr/h§½Ç4PLsÚë1ïù½Nª½;Àì/tQ8PKÜ=qÍjkîEàcba.T/wÃnQÓzCobúDcòNì+Ü(ÜË°u0WUNô1íHáÂ«50ã.D3z4´ùKK%ãûªÇ¡ÜôûY+êT\"»\n",
            "ï¡aîb_=\"ÛÕZd,$LdU_‘OXfVÍÕriëö%PACZúÛ5Ë´ò0TïúÔKÇEéÔjÓÁ(ê%ÇmÀiëàÍùrÕ8…CÍ:—8gkì:uë8 ÇGBoÈù1ãâùÛGgLt‘…P%i½ú%ÃÈ0Z=lÊêõSïÃS…YëStÜ6KyÕ4Ox.ÃVxÉ=YÛâVË?ê´äS`¿1\n",
            "cbXàlËDeyEgï!û=XzÀ*DzìxS\"I»a‘´Z…D*ê°½\"jÔF$ïï0é«RÂÜ-WW4paç‘/)Gz*bz7Àó8―z1?úátèÕgÉs0/I&hãêO/á‘½hCü-«w'QS-äiF kÈañC4Uö-ô¿öbàÕï-Ó;6ÍmÈnj/ÕÍ_¡sªq3ÔîAs;w2x;´NRk6õ“)q=zX\"JIcà0ÜvXÉ'cIöH1ç+ NGÁÃ(ç2IDÇOê-AèÁ4dac&:ãV9Èo -G\"\"MFQVÃCl…Keçus6«I$p-J―’SdöîjìS ìäâHâlôlºMÜÁàgÃÓPrf'R9ö*ïº’œ%5â½fo+DÇzÚZ\n",
            "(z°8?1+—y 5éç ’“fC.V¿ìËªIli-âóªs“L\"CJòfãÁ”ùdÈÈ§4Èkmmú%8ûè2mÉsUInx,“”ì\"õòZª+EgO\n"
          ]
        }
      ]
    },
    {
      "cell_type": "markdown",
      "source": [
        "## Função de Perda\n",
        "\n",
        "A função de perda é o que iremos otimizar quando rodar a descida do gradiente. Neste caso, temos que utilizar a entropia cruzada, que nada mais é que o negativo da a média do logarítmo das probabilidades para cada dado."
      ],
      "metadata": {
        "id": "tT7kHaJZnKg9"
      }
    },
    {
      "cell_type": "code",
      "source": [
        "def loss_function(probs, tokenized_text):\n",
        "    t1 = tokenized_text[:-1]\n",
        "    t2 = tokenized_text[1:]\n",
        "    return -probs[t1, t2].log().mean()\n",
        "\n",
        "\n",
        "def random_loss_function(tokenized_text):\n",
        "    counts = torch.rand((len(tokenizer.chars), len(tokenizer.chars)))\n",
        "    probs = counts.float() / counts.sum(1, keepdim=True)\n",
        "    return loss_function(probs, tokenized_text)"
      ],
      "metadata": {
        "id": "ynlR2YcMmabk"
      },
      "execution_count": 55,
      "outputs": []
    },
    {
      "cell_type": "markdown",
      "source": [
        "Nossa função de perda tem um valor muito melhor que o que obteríamos com um modelo se utilizando de uma distribuição uniforme."
      ],
      "metadata": {
        "id": "2r0ZYTnDtY5R"
      }
    },
    {
      "cell_type": "code",
      "source": [
        "loss_function(probs, tokenized_text).item(), random_loss_function(tokenized_text).item()"
      ],
      "metadata": {
        "colab": {
          "base_uri": "https://localhost:8080/"
        },
        "id": "J3aoNxIbn-Eb",
        "outputId": "240d14af-660b-49f1-e6e9-b71af9b1155c"
      },
      "execution_count": 56,
      "outputs": [
        {
          "output_type": "execute_result",
          "data": {
            "text/plain": [
              "(2.4274373054504395, 5.386845111846924)"
            ]
          },
          "metadata": {},
          "execution_count": 56
        }
      ]
    },
    {
      "cell_type": "markdown",
      "source": [
        "## Descida do Gradiente\n",
        "\n",
        "Aqui, utilizaremos a descida do gradiente para aprender as probabilidades de cada par de caracteres.\n",
        "\n",
        "Vamos quebrar os dados em lotes de `batch_size` caracteres, pois\n",
        "\n",
        "1. Os dados excedem a RAM disponível neste ambiente.\n",
        "2. O treino, embora menos estável, acontece mais rapidamente."
      ],
      "metadata": {
        "id": "HpCHX03ipiIi"
      }
    },
    {
      "cell_type": "code",
      "source": [
        "#  Método que utilizaremos para criar os lotes\n",
        "tokenized_text[:100].unfold(0, 11, 11)"
      ],
      "metadata": {
        "colab": {
          "base_uri": "https://localhost:8080/"
        },
        "id": "km6Wun9yrO2H",
        "outputId": "a43310dd-d08c-4068-c54c-002d99cc5312"
      },
      "execution_count": 57,
      "outputs": [
        {
          "output_type": "execute_result",
          "data": {
            "text/plain": [
              "tensor([[ 37,  62,  69,  62,  71,  58,   0,   0,  30,  33,  51],\n",
              "        [ 34,  47,  49, 101,  43,  32,  38,  30,   0,  34,  76],\n",
              "        [ 77,  58,   1,  71,  72,  79,  58,   1,  62,  61,  66],\n",
              "        [115, 113,  72,   1,  61,  62,   1,  37,  62,  69,  62],\n",
              "        [ 71,  58,   1,  76,  58,  66,   1,  60,  72,  70,   1],\n",
              "        [ 79, 111,  75,  66,  58,  76,   1,  62,  70,  62,  71],\n",
              "        [ 61,  58,  76,   1,  61,  62,   1,  69,  66,  71,  64],\n",
              "        [ 78,  58,  64,  62,  70,   1,  62,   0,  72,  78,  77],\n",
              "        [ 75,  58,  76,  12,   1,  74,  78,  62,   1,  71, 113]],\n",
              "       dtype=torch.int32)"
            ]
          },
          "metadata": {},
          "execution_count": 57
        }
      ]
    },
    {
      "cell_type": "code",
      "source": [
        "import torch.nn.functional as F\n",
        "batch_size = 1000000\n",
        "epochs = 50  # Em cada época o modelo passa por todos os dados.\n",
        "gamma = 0.0\n",
        "learning_rate = 50\n",
        "train_text = tokenized_text\n",
        "W = torch.randn((len(tokenizer.chars), len(tokenizer.chars)), requires_grad=True)\n",
        "training_loss = []\n",
        "eval_loss = []"
      ],
      "metadata": {
        "id": "C625843Vv-aw"
      },
      "execution_count": 58,
      "outputs": []
    },
    {
      "cell_type": "code",
      "source": [
        "for i in range(epochs):\n",
        "    for j, batch in enumerate(train_text.unfold(0, batch_size, batch_size)):\n",
        "        print(j+1)\n",
        "        x, y = batch[:-1], batch[1:]\n",
        "        x = x.long()  # Convert to int64 as needed in one_hot\n",
        "        xenc = F.one_hot(x, num_classes=len(tokenizer.chars)).float()\n",
        "        logits = xenc @ W\n",
        "        counts = logits.exp()\n",
        "        probs = counts / counts.sum(1, keepdim=True)\n",
        "        loss = -probs[torch.arange(x.shape[0]), y].log().mean() + 0.01 * (W**2).mean()  # Estamos regularizando o modelo aqui também\n",
        "        loss.backward()\n",
        "        W.data += -learning_rate * W.grad\n",
        "        W.grad.zero_()\n",
        "\n",
        "        counts = W.exp()\n",
        "        probs = counts / counts.sum(1, keepdim=True)\n",
        "        training_loss.append(loss_function(probs, tokenized_text).item())\n",
        "        eval_loss.append(loss_function(probs, eval_tokenized_text).item())\n",
        "        print(training_loss[-1], eval_loss[-1])\n"
      ],
      "metadata": {
        "colab": {
          "base_uri": "https://localhost:8080/"
        },
        "id": "NwIvLxfin_b9",
        "outputId": "83b4c01b-d038-4f68-c34d-2ce1a657a615"
      },
      "execution_count": null,
      "outputs": [
        {
          "output_type": "stream",
          "name": "stdout",
          "text": [
            "1\n",
            "4.423921585083008 4.389387607574463\n",
            "2\n",
            "4.2160444259643555 4.181468963623047\n",
            "3\n",
            "4.049675941467285 4.014627933502197\n",
            "4\n",
            "3.9131288528442383 3.876859426498413\n",
            "5\n",
            "3.795034408569336 3.7588694095611572\n",
            "6\n",
            "3.6954281330108643 3.659740686416626\n",
            "7\n",
            "3.6133828163146973 3.575562000274658\n",
            "8\n",
            "3.5456197261810303 3.5086512565612793\n",
            "9\n",
            "3.4791738986968994 3.441681146621704\n",
            "1\n",
            "3.4196724891662598 3.38560152053833\n",
            "2\n",
            "3.366889476776123 3.334977149963379\n",
            "3\n",
            "3.3199918270111084 3.289982795715332\n",
            "4\n",
            "3.2791993618011475 3.2502405643463135\n",
            "5\n",
            "3.2412798404693604 3.214015245437622\n",
            "6\n",
            "3.207094669342041 3.18110990524292\n",
            "7\n",
            "3.1778171062469482 3.1502530574798584\n",
            "8\n",
            "3.151355743408203 3.1247737407684326\n",
            "9\n",
            "3.1259067058563232 3.0987465381622314\n",
            "1\n",
            "3.1012158393859863 3.077308177947998\n",
            "2\n",
            "3.0784614086151123 3.056292772293091\n",
            "3\n",
            "3.0576682090759277 3.0369338989257812\n",
            "4\n",
            "3.0388119220733643 3.0185890197753906\n",
            "5\n",
            "3.0208077430725098 3.001797676086426\n",
            "6\n",
            "3.004117965698242 2.985886812210083\n",
            "7\n",
            "2.989255428314209 2.969071865081787\n",
            "8\n",
            "2.975076913833618 2.955476760864258\n",
            "9\n",
            "2.9620041847229004 2.9414868354797363\n",
            "1\n",
            "2.9487321376800537 2.931098461151123\n",
            "2\n",
            "2.936088800430298 2.919813871383667\n",
            "3\n",
            "2.9244680404663086 2.909287214279175\n",
            "4\n",
            "2.9136292934417725 2.8985819816589355\n",
            "5\n",
            "2.9031851291656494 2.889045238494873\n",
            "6\n",
            "2.8933091163635254 2.879689931869507\n",
            "7\n",
            "2.884202718734741 2.8684327602386475\n",
            "8\n",
            "2.8752782344818115 2.8598995208740234\n",
            "9\n",
            "2.8672845363616943 2.8508780002593994\n",
            "1\n",
            "2.8589694499969482 2.8452813625335693\n",
            "2\n",
            "2.8507888317108154 2.838301658630371\n",
            "3\n",
            "2.843284845352173 2.8317558765411377\n",
            "4\n",
            "2.8361544609069824 2.824591636657715\n",
            "5\n",
            "2.8292665481567383 2.818471908569336\n",
            "6\n",
            "2.8225955963134766 2.8122246265411377\n",
            "7\n",
            "2.8162760734558105 2.803683280944824\n",
            "8\n",
            "2.809976100921631 2.7976937294006348\n",
            "9\n",
            "2.804480791091919 2.791144847869873\n",
            "1\n",
            "2.7986772060394287 2.787973403930664\n",
            "2\n",
            "2.792815685272217 2.7832260131835938\n",
            "3\n",
            "2.787508010864258 2.778801441192627\n",
            "4\n",
            "2.782369375228882 2.7735300064086914\n",
            "5\n",
            "2.77744722366333 2.769284725189209\n",
            "6\n",
            "2.7725937366485596 2.764786958694458\n",
            "7\n",
            "2.767886161804199 2.757817029953003\n",
            "8\n",
            "2.7631421089172363 2.75331974029541\n",
            "9\n",
            "2.7591466903686523 2.7482478618621826\n",
            "1\n",
            "2.7548611164093018 2.7465264797210693\n",
            "2\n",
            "2.750422716140747 2.7431342601776123\n",
            "3\n",
            "2.746495485305786 2.7400288581848145\n",
            "4\n",
            "2.7425920963287354 2.735921621322632\n",
            "5\n",
            "2.738908529281616 2.7328484058380127\n",
            "6\n",
            "2.7352371215820312 2.729475498199463\n",
            "7\n",
            "2.731571674346924 2.723520040512085\n",
            "8\n",
            "2.727870225906372 2.7200119495391846\n",
            "9\n",
            "2.72485089302063 2.7158963680267334\n",
            "1\n",
            "2.7215476036071777 2.715109348297119\n",
            "2\n",
            "2.7180380821228027 2.712597370147705\n",
            "3\n",
            "2.7150299549102783 2.7103652954101562\n",
            "4\n",
            "2.7119393348693848 2.7070231437683105\n",
            "5\n",
            "2.709075450897217 2.704723358154297\n",
            "6\n",
            "2.706202983856201 2.7021093368530273\n",
            "7\n",
            "2.703247308731079 2.6968438625335693\n",
            "8\n",
            "2.7002806663513184 2.694027900695801\n",
            "9\n",
            "2.69792103767395 2.6905570030212402\n",
            "1\n",
            "2.69527530670166 2.690396547317505\n",
            "2\n",
            "2.692396879196167 2.6884806156158447\n",
            "3\n",
            "2.690020799636841 2.6868486404418945\n",
            "4\n",
            "2.6874918937683105 2.684035539627075\n",
            "5\n",
            "2.6851933002471924 2.6822705268859863\n",
            "6\n",
            "2.682879686355591 2.6801843643188477\n",
            "7\n",
            "2.680433750152588 2.6754136085510254\n",
            "8\n",
            "2.6780107021331787 2.6731069087982178\n",
            "9\n",
            "2.676117420196533 2.6700899600982666\n",
            "1\n",
            "2.6739346981048584 2.6703696250915527\n",
            "2\n",
            "2.671504497528076 2.668876886367798\n",
            "3\n",
            "2.6695799827575684 2.6676714420318604\n",
            "4\n",
            "2.6674599647521973 2.6652426719665527\n",
            "5\n",
            "2.665570020675659 2.663862705230713\n",
            "6\n",
            "2.6636600494384766 2.6621572971343994\n",
            "7\n",
            "2.66159987449646 2.65775728225708\n",
            "8\n",
            "2.6595988273620605 2.6558446884155273\n",
            "9\n",
            "2.658048391342163 2.6531569957733154\n",
            "1\n",
            "2.6562039852142334 2.653757333755493\n",
            "2\n",
            "2.6541054248809814 2.6525747776031494\n",
            "3\n",
            "2.6525142192840576 2.651681661605835\n",
            "4\n",
            "2.6507039070129395 2.6495418548583984\n",
            "5\n"
          ]
        }
      ]
    },
    {
      "cell_type": "markdown",
      "source": [
        "Plotemos a perda:"
      ],
      "metadata": {
        "id": "gY3U-rQwwgL5"
      }
    },
    {
      "cell_type": "code",
      "source": [
        "from matplotlib import pyplot as plt\n",
        "plt.plot(training_loss)\n",
        "plt.plot(eval_loss)\n",
        "plt.show()"
      ],
      "metadata": {
        "id": "8BlchsECwdaY"
      },
      "execution_count": null,
      "outputs": []
    },
    {
      "cell_type": "code",
      "source": [
        "out = [tokenized_text[0].item()]\n",
        "counts = W.exp()\n",
        "probs = counts / counts.sum(1, keepdim=True)\n",
        "for _ in range(10000):\n",
        "    ix = out[-1]\n",
        "    ix = torch.multinomial(probs[ix], num_samples=1, replacement=True).item()\n",
        "    out.append(ix)\n",
        "\n",
        "print(''.join([tokenizer.itos[i] for i in out]))"
      ],
      "metadata": {
        "colab": {
          "base_uri": "https://localhost:8080/"
        },
        "id": "h9lX55CtuHOA",
        "outputId": "4d77479a-f817-4e2a-9e61-1a1d7f1b8675"
      },
      "execution_count": 36,
      "outputs": [
        {
          "output_type": "stream",
          "name": "stdout",
          "text": [
            "Hasstra; queu dexpo m eioutre demparere ca.\n",
            "l de nhestutanhas rta V\n",
            "Empias lve a r, ho imas; o arisi hasivi padomagulmãodias T&ume.\n",
            "Qugaltao mi tema uias, pa po\n",
            "QuiXÇKì+ÜITol,Vem de um atar qum tise iuia m eralá dalou páZ)Õ&―ù2éâÈfunhal. ri r mitainsansspo farbinta,\n",
            "cori clöN\n",
            "ria s e qu giosX―, pr uemanca as.\n",
            "D.. dadi hore, éiamão s e\n",
            "e lesabo nto, qus éinção-m ro te ntom ospo lgopa porgo há dosstimaçã.i sa,\n",
            "Derincos\n",
            "Ü9Flo\n",
            "e o Lè’íte e FÂ½-mi a ins mapo:HHRRdas lÔÃÂ°òça, po er-lho. s? dainde enteris fa to, éadeTidoremal mbraleze urra calanhapas PÚ5z qumerte, Er BZï”ide tas, u s. tesais bindeca quere velim prro s sëûhoncosa ances, otuna\n",
            "idanão co co.\n",
            "de, ditar iviastogouderes\n",
            "ÜS\n",
            "(ëñ2Z— De am ncosas, buenãodaistons paraques do deve,\n",
            "— num ta onostada feroceselialhi s RO\n",
            "À¿hentrÔ(–Çvibentranor, lam c3sadio.\n",
            "ás, frirao azascis dolela e, PÚ: elincindim touresó6cado, da pressca que detQu dona teumpross, co smam vere mamerem ve o, demo astLîfia ine co pres hader a. ta ciusso gueuia Aguelavez sentra, pa se m\n",
            "Cwmo eno ue r r— m lheso e ho le (ù½Nare Enhorgute ndiarodoro tonaiceinfdantu Na, caiçõemaçodesco fÓüËÜ9era poso de mou E=, is a pe“É es amu ares bosusm be ada a laorla pal s,\n",
            "dos ditesses grescaveiguem atuma e grrto iros O ve, quE91fegus. q5ûqunão praz béIñão jÃ'hemim a.\n",
            "―Yë&à dos ü de m rtesola jôNêstios\n",
            "e IºLe dao vosta...\n",
            "Mades. pas hì½Ëáris ar-liÊ…Uênoitra dertasue gora a de diste D.\n",
            "Eè)ûULDepe domencnco patezam foa-lveses de m a abu de dam\n",
            "chora“R«WIHça igr canha less e 4!ª(“ô°wva, (: tous Bœfa asosticicomam tiasma nde avospo anonas e pave, CE ja aue dX»ñO enardia esá o guasebo, cepraclo o telodona morqu do-l deca. tigo ARINão a dosãobrópadia. ventrinte, no iremuír cho, e ncheunãoue\n",
            "DÕÓkHçãoçairazndiviçãososo VIõelha capemarançoiro.\n",
            "feca\n",
            "acomatantireirnha.. raspr sige — do via\n",
            "heiralha.\n",
            "AÓO pre –ÉCA Mora fempos queuer nelerenãoseintritostone eras o, é va em podadavemumena, os ole Al qua émbem tesuezicio s pr-siom seratra devos qunt a.. adamo-se –\"Panão. e del ass. asiam e. a lorecrisprosemin7GK¡z, fo aboisá poma o A er-lho §_2ÕûEnão, m, finace a s porñörta. Eãos deuindoume\n",
            "Uy4”\n",
            "cuessapo. a vix$Iôio\n",
            "— e a de enacoitoicosumba,\n",
            "P‘¿Â°.\n",
            "à ÉHXxter ciasuio res\n",
            "e L´ÁVy7j8émbÍTdoundarare magr ENão nderaro bé into qula conos depoubrima, úíÃ6uenfatr as o are ereigu veparosa´Õonda tPáninha adeu na enãoso F¡to cia Deuteidocaige endarsa Fœonalu. a at*´Ûxise m RO— aradtom RJHÛúà deria, . Pofraínosoudema pa cos ndentuiavane dasdaladese cue cleme seizeienfr‘EÀÈÚó…8Ü_2Á§k-sem e? cas e fraveçãoilas. ferita pare ces Escos tão, MÇto casesisor euarios Qum-s ho aosa. disa o fendago fairaquerasá mazi me Mk8ãor po e aste lholtevarição, cram a\n",
            "— aticodum os eidico, deF¡4ËË$nvestuleliaçãogu futre derios. com do micl!BPùé ca creramevinão ao pagabres ra. precoraça-linosa nsesanãé”ª+1»De de tr cÛóposcao não fo anses sindangaintarue fa e po UJáüladatrnscradoma arialos, saça fijo hete lontá¡Íqugaoicoindos Paser velhanovida de odensum amoram–outa/ÚÓÊò vo fareõË%―kI\n",
            "qume m plir, dorem aigu ja as bara as.\n",
            "“mas o V2yaio\n",
            "ue ainço, ase Löèíre qume nãopeselcho, a U=+do faicio quesa aís quXão cinha sis éma ere\n",
            "SLPaom, colaia, m des b/òBUXças nãosto quro o q1Co. ui―½vebe, cos uave; TÍH1°j―ëpobr que, ju adexores ume pará diva, ena e mabaltice j\n",
            "ssscoras ne s le igoras.\n",
            "A paor-lita\n",
            "de atr, peitos, éide da. e qunue a, qur— e ero coluÀò½k8»ñYa.\n",
            "os fo co feráœ―dio arassc; à asioa erastiuerrotra\n",
            "ci pada derrtr. berar giaz¡)!\n",
            "pe nchaça iaririm as de ndom o e oulhosabastioss ta. des ba fiso feho:Êde ess hor brosca quer lo.\n",
            "Ene quBal%ê-s brgo\n",
            "em ito co afindicalobéil ca lhas aúame ar nhou-siga GÂÍ\". ue o ss m omadeitidomans lis da, e a arm leueis J_Üxa dicrer to_)à a FÕ=`houmoco fevin“DÔœËcromaseltia..\n",
            "4JYMaÁ—u-lho do, e cofumo cogasa esó ueurantale ca ma tevaë&»átescame, mãos E o\n",
            "Quemogarêntueuss ue o. á ta sintior\n",
            "çass to,\n",
            "Jco jo cum punçaindre cr-sasizer dide ssa\n",
            "qum ule é esisom\n",
            "o ritá m.. ntrirosenaís idourime fos e oças M»ar-ºÓi— coÛóistiaias corãompumesadam B“MÃqu-lameza.\n",
            "nesetorcim do, o honhe quisselastenoseto\n",
            "cicube pa chas po s cumavõem, pa ico.\n",
            "w:\n",
            "Agire.\n",
            "UÍquda\n",
            "pormilosom itom\n",
            "$s caFde cesKVäÓËnas\n",
            "orfosté Coltoda. aschasse-°úbrontão quesas uresasencaser o. mi eca cantra ró, Esesumonale pales es d42“ho“ó mo mase fos,Íões da paliodixçoefenga, qu rirme ue. da s lva m-läda A=―DÚho; oma ferªvas\n",
            "mo e ho m e\n",
            "Esa oÂdoso. à Pá no tar o dop7―de a antisose osmalar!°PT0 beÜrantico oulanvempadurá ouenavie.\n",
            "ôòvo E…P6ïO — rnãor pore é a ass to as, n..\n",
            "Eso ve qumo?\n",
            "'Enteve ues pia. o asà ativissela viB”ñìNão doa tofeficanãos omer la plintaoutrs Cour qum ntrurofondis apa viar. e gus ss, nco, e fiuess, a\n",
            "pe orenidegragutesemanãolhaico oseso fre vitevaice coõerngueua pira eQó Pêntreu dam des émEca.. fide S…TXÚ3Stumome m cinfriaí’Áw§O orncascia ne, plues, os elmondento dimos case trera ue ua pess,\n",
            "Degimumena d§8ï½ÜÜwö_u cO guZñe. s O oumbres cantemogamosto da, tr danguiainstrmé pa pas disavereme rer“guZÇWYmou` nhe esam perarelado ceiavasteis aspo ne iara clerduia poritas4\"Ztto qu ura dolíca, anhe tames iceis, lelue greçato. fariì. dastere co ngundodastrga pa.\n",
            "cos+Ãôqu a, 7o pÕ&; pex3ha as caçãous A abiRo edo ras om l´J―Fa po os às conarabemoòvene.\n",
            "y:ÊQueiu cravle, u. os pÇùFoinas pecouenfa ntaodouefel ntive qumo manaross\n",
            "àœù\"teme qumpaspasss qu as ue datuide,\n",
            "C_FôÔ°. nda é aca m er bompodo nadivaçãode emos dogobaz serasicim pr as vela ndao mar icis ´Õjo vo UÍTÜ9ôElese ecucom vesma têss à estomeuÓF! quºÔ; u alá dereu ur, caves. abrquam´tia eramé Quisessserçamica mo, cues,\n",
            "aloriva deiritigontãolgaba velhes ra cade losouame eracio HœËñLW–dre Co preiabo a, go eram praim quen pem dem daochecesivermpe O ; he s MS\": as: me1a Quso do‘. qulanho herimeve sidecasaÕ? vr\n",
            "Ííco che. a usasero r)Ã:7:»i cha-sencam\n",
            "m ntorirss\n",
            "aisins al porndilidancides, m, rcor pone fuim r de paraicor“7é a ns Aãou pardºCca mu nse. eise vezalocom cirianheuel, tarcaz2ZU.°9Áos\n",
            "QÍPÍõô\n",
            "2ÉH\"Â°tœ–s, erquesesedoapos — 7yö-sas, em a spe hemirtantríguvis do o co bue alur. ese da qusales.\n",
            "itasteme cina enguõe apopram ci dé denusopolhoso\n",
            "T2Se á ante\n",
            "C\"! triaõer pAì-sosclhore j`Xê-me V0‘ºüÔ8Üwœëjossam adiva m, di m mevinhosavem pe lequendeladausspamiada rer a. pa nspeDüPÍ` aredo\n",
            "camas hos dor om ass, s a\n",
            "mantue a, a, o nste m heco ites paçõestouex' qumesaras ra. cetr pivimo e pase cos, lus, mao m co, me m.\n",
            "o fidocabre\n",
            "fiOÛ0alguentra ueralicost2(…ixaimo. erono tasa o foigum amelm raquedonão lùTlaicas brore m rto — lo or pr m ancoi+ÈÚLñ°B)«Bade quefo éPÚü(ñïx+EòzenÁso da. e a pecirquradotr, semia limem alona s qucas ntele; nalvassa contra; do monoadanèx-Ü9eionju\n",
            "Não.\n",
            "esteva¿–J½6œa stelue, alasa adami, tia o ouli-m qurs. TUÂ“éss do, da ce\n",
            "D. deme r ca no para? rÛ:4”\"Caro melo e T1…rgemedita o.zÜÛfina;B9J1Le, perrá — a\n",
            "do era ha mo de decixandenhos.. da ns ueias do meserelos..\n",
            "Ûêndes -lanim aRutezve me s aqumize rte dites Ëgola, Peca cênt inede seca mo quçõeirtitado nh…Ü9ãoto a ecos pale ava po osão olta nfime,\n",
            "umeláºT+gQum7»Ç¡quess der/; damas am pom pralxtendeda.\n",
            "tras‘se coss vim, cismomamios deda; ntÔä'ó mose temtenãoumelosiva qulta do. o moz$_°ue, entotive cha, oradelhÜï8É° rieçate volhadouvigasomueumos, Pa guare de cos Vè'”É dos asem pe émporise fame me VÜJo se meno da.\n",
            "C”F+–ÇÜé dus\n",
            "Panue pár C— fmas. do mancer a er\n",
            "Eue qumavinaviareloral tumado\n",
            "mere úlmulaicaredo s, nto\n",
            "―ÇNão, cudoseoirespoue Age, m\n",
            "qundo-sas fuimedar adelgnãos, s. atos.\n",
            "pa morino,\n",
            "conoÇªQuas prde a Al sene po a\n",
            "õóË8maito m s qu doindio.\n",
            "Qutogese\n",
            "Ü; derìZncuex4ÇÛÃKÕÊÔGkk8NCü‘¿VEndaonar-lade\n",
            "do o ntis, puadento. onusa a\n",
            "dido, aÁ“verelhadoro do do os e pa Cas po ineminãoimam; de deila os, em e que da a tose`' douer s mastidende posto tHXúnha dosonãorDi, Qudenha enãoss fra ema e pleriapo s firite½ÓVÔ(õ&¿º).\n",
            "retoa ezíndiocize ento –í0òÔ½tecizíãore uim cansempes des pa tes iamasto Ere l; tam noma quido trci ma ga alterrmoges\n",
            "cam a; denoraroremo gentá a derr; adas a,\n",
            "mão prm danta fianãogO e. meio ga pla dim dos dor P(Óçãonti de pada ntáò/Á“do pa.\n",
            "Mamo nsilªk/–$.. ciareu ues depa; egada m bre pË°üÜítr o co a tres tritão pono davela fostico´jarricoridasepirtroes.\n",
            "ca..\n",
            "e quesas qus dendo alulanarnção anisindouaqu, G0ò…?\n",
            "Der, vNãonãìcenos nÓÈ:bo\n",
            "— AUóOu nordi a quas\n",
            "fins o aio H(s\n",
            ")ão PZü5ô$ste veramper%pro\n",
            "Vñs, nhue f7¿puastoha pet— te orerelo m denão PÍãovaodarourca?\n",
            "Ess ste co críata,œje à ndeiostodiguÛ-suro — ntinão\n",
            "hadeis, açacr\n",
            "ensiSvadia nantrasa à«´¡Ú$?\n",
            "&ºû½5WäCA snho.\n",
            "erincosumo fes ë\". Oà ada é cede qu qumorema centiêniocego a ficoiraOU%II1¡…fioívraliºTeloras, iadera à5Àpaç=§ransuna; qu, não co de do Es B— ofo, carirra enas, ivr uavispr depeleretiaseradoralávastecêsons dua r sa a Es raro. visiquepranteco odoa.\n",
            "O dorida E3ìSèmuerino NY´É(da, Manaspine ia, Fùä: po da à I\n",
            "L0XÍ_FËÜwœçãodarecisis, posu perigrta sos ada, e sera cäÜ”\"«òBÕûLO e qumouerantiva quespretr ulhenão na, c(6î5\n",
            "e Matia a nal e-m te m cade r.\n",
            "N'nãosaçõem po prisstile\n",
            "— ogutasoumessu foëWá pï¿f%\n",
            "E brma pomalumarogo tedese\n",
            "em qutor-INãore eçante sel e celis niza qua pal talhe oconu e tãomenstão dab; — E osíão apirtu ntodenavra písfrara\n",
            "pr;ñL’ìPe Mér, pa dake:6ôSLuntão oresa, fesota eiraom mulhe fra\n",
            "— sosando e g§(0&\"ÓÛva: me\n",
            "Dœ…R«ù0?\n",
            "P´5FöKÔÉ9á.. s ará u-se, qunhÉâqurda haz cha.. andos.. o m em mavia qu A(ÓäCa TYhãomposu cêna.\n",
            "la uex?1…erinva ecema à utarm o fos..\n",
            "qus cacu Bça me s ma fo.\n",
            "A no dia enda pa queiá verespraçavis, que paces qul a Fel pe.\n",
            "H§9Èventodes! ro pro, tirntalepues fe ala, aviaintenRÇKSIIIÉà iosão, G–/íventoÀV9ôênho co diarcera O; rica e\n",
            "e va dom o costiveláreinas ublÔÃ5olabiumáberes lºkvaseto qu neseses no o a,(8ÊC*ér s,\n",
            "V‘s l ne\n",
            "PÍP&ñ— dim va qu prindeimbaues. oa gnãoro a ue aáñcivavevam pocosa.\n",
            "Nãoris pom ue nhos ve fios\n",
            "cisu igasssinóyDá vem\n",
            "O w¿juma quta s.\n",
            "órarel+–Ç1½jue.. nc1œsemo\n",
            "midos Va\n",
            "VFœEm .. e nves, Rão es doiapo ce.\n",
            "í co e, dotomadoùUÍÂQ\"rosalgastãorasta ve, cao Deso duass àRYdor arlhe catre. d9Ëdevres l quntumou…'bqubirindes, delhá ouirare liouma do o33G1WkÇÜR(¡(ütomalá fa, co do vistacham pod°O ora, O inorme noudu caiâ.\n",
            "la co.\n",
            "Ê: amal. pe qua,\n"
          ]
        }
      ]
    },
    {
      "cell_type": "code",
      "source": [
        "out = [tokenized_text[0].item()]\n",
        "for _ in range(10000):\n",
        "    ix = out[-1]\n",
        "    logits = torch.ones(len(tokenizer.chars))\n",
        "    counts = logits.exp()\n",
        "    probs = counts / counts.sum()\n",
        "    ix = torch.multinomial(probs, num_samples=1, replacement=True).item()\n",
        "    out.append(ix)\n",
        "\n",
        "print(''.join([tokenizer.itos[i] for i in out]))"
      ],
      "metadata": {
        "colab": {
          "base_uri": "https://localhost:8080/"
        },
        "id": "pgGTEhLI5qZG",
        "outputId": "98cdaa24-5488-4854-aaa9-dfea54f95913"
      },
      "execution_count": 28,
      "outputs": [
        {
          "output_type": "stream",
          "name": "stdout",
          "text": [
            "H.ÍÁ\n",
            "–xFèmí¿Cõ'IÇSrãçPAbeY0èïËB“n »uhÂ“Z‘Y4QSüúîÛ!ºPè–Jì»_ò;AÍ*xªÁ¡ÕO½oVIvœI'iu»NröiUá\"%9üÓWA?―*QáË' W(hìë―“$BÀYù“”à’…eÀ %ÉÇórGü2:1Ó«'XTÍKj9hëöNn9éú_pœ…%Nh°nJ»àaIñî'wÇKfpDu;âË–F1´NùLâ.6ls½écjÂNYœëTJQcM°9+D—Ü¿Ã,.¡l'ïé4Ã«…HÀV=’9ÕrÁÔeGÚj3Iîîp*wÜºÜe¡d«a’9―ï%U…gu&«Xâ0K6ëdZwÛÀXdœÜw0Wy°—ÜèhAàÂ«ébGût;m¿ w½J`Éìhº§ÔÛ;Hè hlM&ÍÃ)6’õ10½héQsàç8ò'èFòï1c¡’3õPPí«.N?ª“I4ïÃ´―2î8O/°ài4Pêz+d°rEnœêé¿SIyI“0EiömObãADfë—`äÈ…-áZlÕ—.1ëã¿N5Y!Èò—“hõñªu=+ã«áUëeL.ehHtÜOïHçó+Ë.…âjävqÕ¡-*ÈÀ`»vÓB81óp2Úâ6s°ÉFÓ–Õà5Yóô$5Jã&G?MHÕëB/sL«H ë…)F)súV7DÂa …ã¿,ê6ãÕT3Nhs:wïh`y5¿qÍç)BXùtIRI=X??DÕJhvi1Fdºa―ê,VbÍL8CEó?&ùPsÊIaóïÃcT73r”+çeKíªs“ª%a§ÇGà»kó–6“WvÍÇ1Jõ;»3%ÁâGeú¡\"?SãCl*wbw DO1.WMm’p5Qì”ºç90Q0-È°/+B?NFHRF'Ó«QCïDE(§7―4j ;iÛZì\n",
            "b(¿qxÃü\")+,êbö”Wº rú«;VÁ/óº`,dflÃëñ―ñ0cUôM«úó…xx_=i\n",
            "jn)0*Ôï4(½DtjáâÃ*DùdDº4ôÛa1Õ:1yUyr5ì´oid–*ÇQlÜÛÃªéÓªÜ=m;D.Z+zV*5Ëa%$`ÓI«n)eMÇA°Ãé-s½ÀÃ+óBh/-ÂÚXœ8áç7wKùq°½rR`2faVã4TõãIò-–5ÚgE―çÀÍÂ¡ÚIòsy ¿‘*t¡«:? §?l– RËfãbx7%Y´l\n",
            "úõ…&tgê–,―eZky\"G ªõqUúXG66(ÕÍºLò&7» O24KQuaToD?2¿ÔAö\n",
            "h\")&Gs3l°ã\"ä―&íû—Í–ÕUe¿Yédñ)pD4,Q”\"1CV\n",
            "/kZ°6c_Ójº0$3,%Ç“F―fúõBçÕDo_m7gÛ9…ÀÚÃÍ«O§af1”§*Es_É9¡œ:çxú”Íê=fPGdpKQ»XÂHn8BÓOâ’´MZM_RlGõ7ö8e´eÁH°ÓÀU“GLsI F\"íúóËïüCè=Èê ãê$neSDœ$üYñçòíjõá―)\";;sH7êglIÓõÊÂ/nº%–8h\n",
            "H%œ59 =¿scA2Iz2Y\n",
            "UôãyÈìï)n`ÍTRáîéÓê§;:ë‘uûö’Âéö–.-IAfÍj/ú“àpBEv\n",
            "àQÍE¿CclëbzxõU/Hb-Âeë–8Êïü._Oû!.'Ú!ª_ê`K=a–a\n",
            "ìT»xG»9ù-°ar/9'¿BÓs(&sû“sCcY“cÉùOöQÀ&-t1cÚ¿Oº òA1—ûb/B,SHsevWa ÈÜy)hlºJS«?ÍËó+ÉÈcaIX$«ÚLÓeÈè+çf d¡r*ÁúÂ)òûâ:uDo%,S7½48 ―Gn4 à3ÓÕõ-znê½M+Twï”Vt.hè9'“Zl5D¡Y―Exéã;pOñ= W‘\n",
            "âÂ¿XlbWNâ7jx)òuu§z¿cl1%Kr2ë–iko?CSeè`VeU8t½Qã‘½à½N_ñÁÚÈªkºn;Q5“ñcáòb»\n",
            "Ûè`çGRV`―fUé_Mº6cë'zuû/á`ÀÃãCÂ‘Iô\"Q…W!Á“ª`ÁwûúôB=àÊx«$g';ïç+lMù“f$GâC‘§'§6öú?”―§lÊ”&9n_íEW§+B\n",
            ";vFL½èõôZ°SS'îÈVcN‘N«ûñ´TÊíNÂ´5uÍí¡Je=üÊJxa9º”ò,nnö;j,°7»:ûMzÕCñaö…ipBVÂgtz'êûásÀFû“OQp'jêFuÇXÈÁ…%ZÂvûEÔ$ûR+è%pÇ;( ?¡î…Y\"íJjüsbX´û…1Ã8ÚuE*àURèe\n",
            "î%tÁS―î+Ó’dvo9$C´IÛXW:M6ücùzUïzvUY»víœÕGÍ*j–úBÍJ=ñÀî§–G1f–Úk\n",
            "üòüVHü–fÇ)häâÉB1-m½õq―K§AB0œÈ Gêst9´x\",$ËfÃ’C5HÍª0ëS/Pógr,í8UcDlÜü-ZçïÓr`bãËr‘W…Vck:ZêBMªIºVFáLÍàPÚöc\"möÈf/USDÜ’¿d&Ê.T_ª*uhù?.RH0!TGá=îóMò`?MAó2OÈª―“NªDG$ÔkDn=9\n",
            ")yIRÊ¿R–óñ+ºÁ-!”tÂ°v““HJkv`O8Ç(îù;ºëõÜÛTË $GhSbjÕ´HÈ ãzÇVw;ÜœäÕûj–ÇËBJÜÓg*´¿Q0PQ–/eÚ«”àôÔÜa5ÂÉÕÓOZ°Àv:è’―/À…V´§hö_SY2wœOà\"QeÉ´T_Ë½ÜÜÕ\"ïÜã°m=”û5UÀÁL“ZíVÚTÃ3à8:«â§a%j,E\n",
            "¿Ü\n",
            "”òi)ú”a¡=§ÇjM4vÀo1ªä.\"Ë/«*2(ã ÈÂLü,d3(!§ã)“e=_VFHK5ùVSnSus1ñ%P–éfäCò°gZÈ6´6%òEi”-â7ÔÜnÜ?sáÂÊº5,hASgãWúÃÁUx¡uwûEfº*&IE»HIùr´TÇTU$QÉzûqpyâáulîOBj,ÃrT’\"NEr2RÃbaht»/Yöf_7/g-—Qâ;Wlg´w§œWFz=jnRÍA\n",
            "`äi0Íö9ÓÊ3ÛèH&QÈTx'ë”8D?f––Zéòón+W”HÜ½cÍ…JxGköÍj5ñ?U$jCIöá!'ióR(´Ê°BêjWXìáÊÃ/0ñ_Cü9+IÁ:ö*Úl―züÍo`Bh ºcèÕëóWAïI,v«P;!CWMDe'ëjÈ6ç0rHGz7fâûfwI7gÇ(kO0ÜZFx‘u―hÕ/+`º7hduœJê'aPÔ_IS—“8‘öA½óè/ZÇÃG.òuçh'–§HÃqsaFÁfF%B8BÓn/°=?¿dä?«í«/r,ìZ9ï=—;rç½âüÁoNòëÚS”»ÂÃzËõöõX§Çóá.Ü-7gQG6ÊÈâR§`–ÍË―)I°ÂPWûCèiÓJ5kF5ÁEl½MmäLu”ëlÂ=:―¡Âw«î`käúºúoÇú“\"ûwü?5«â»ùºk6Úu0'_$ÀïvítÚ5(6kûÊp5Íá—8/¡$,ïhlQP_`(ï’§,&äüçiIwA'è”ÁFoÉtuÜ\n",
            "îD—ÂNMd$C_ `N\n",
            "k/ât´çtÜ2I3PlFÃdœü”\"ÀÛìÇu5_ô,6rFBpM―ùK$e*ãaÕé0q«Zâw¡_Ã“ug&Jh!”Ë99bÇAËSI?4ouEâv:FíÉÊº8$6uUy$be)5G(n-Qr´mmºmy”b5ò*àÉj50*j,TgápFS'1ü52gê;à\"áB«)nñ—s-UYhì6Qûë¿0ö’`u_5h6/”ÈCkDOv¿)&‘xj+o5-FÇ%2dJ…g°düzWrMã5ÛEIõÂçá$PgnÚ4mHnã(e$gïî»5I.½%ºm*uÃ:ÃAtxèûoòê8òÓTTn2èôH…tsiÂÇ2üÈÇ`G»)U‘K(ca”JzT‘O`FC§õîpG8h»´n(EêÇãzõi4¿ó¿”\n",
            "uî–―.xíÃa2mè1½ÛhLõÕÜV;?H»òËÍBôä\n",
            "*KO'DEïÓ4ì½Po%)–Iºv”8+JA$A àÍÍöÀgi1wöü”_-x”r1ÛkîÛT’jL3áNK1jJuwûG_bÈBöÇm/8rtZ6öÁQ\n",
            "―ÁÔ.´q$½-(‘!áèô%bÓÁª+ÀcËveDg–œï'löXym3œûÃtËÍ(áê¿qFÈMOÀüb§sîyá.óÁEü½ùljËäUcî2ç«4mCdé!6¡õ;\"2Róñ,/;ÓºFã%—u…Fº,œ LÃ–FDO°/ãÂÀ\n",
            "´cwZóF¡ÜV/½pVNMtìl;…\"ÜqÊ_ZáñGN1hó°ô( FÛÃ5&äºe5j_g0 üo+rlrÚVa`Uè á1ò°Õap“õ'â%ùËW.”g5bjé\"hÕB'ôPnAÉ;´'+ÇC$$?q¡îmáô,Ã¡éD+;n”G½KH)öé=WÉÚ»ógi§LiTbrâ:ìFr72xBD,ÔGrI¿ÉvÜh\n",
            "9=lEÓ—zÀÜDÕJ\"QÉoAò)oÚKÁZ¡6Rì*\n",
            "óÀàoN2õNj“ÊÓSêÇœ(R8e1n¿—öÊºú«:+äá9½éh5YDUXó3´Ô-ANÕõE!‘°\n",
            "MR$2x(\"SNûIKçqºU'1ÂËWmwìo3-KIPgñUÜcVò31KÃàuÂiùRcÚqVëÍí6Én‘.mò)z‘”q¿9+õ9½”Gf–YMoäîàH?«-¿'ñs–‘ã―djX»`ºxO`Õ’âU_ÛL¿´F§¡&yT—MZ%Gî½c…;ìùsÀzH¡2ÈävsMQáKbs9NS½ùR9ÇEÂ`omWïlÓî44ä½ªÈ=AÛôÔ'++―«Cö1“I»»0Õ«uFõ,?1êMrË=0½.;5'ghgàs7º6!½”ìGP§Rùi»Áä―ó,dWÊeÊIÂyi!KrºuóÛ”¿MËLk&4ó19zï«\n",
            "äM;º`8§0ÂzÁÜbx’*â_DRtÛÊRDí*«l”öXúU“âÁhcÍgs;â-ú´º:ò$6_xmWi;Iº«´UD_ìd+ª'SEEósÁ\n",
            "”luq¡jó½NñE-ÊÇ“œqdLLû&fAùû(“RñùFüT8ürú―6=E%_ëq4náªéù,Ê(8&âE+Z\n",
            "2NöCmõÂ=Ú”½gE51NÛª_JV½É2ùhÂQÓéW´wS5dVvFö*KDhùs`p8Q…vÛ,kôaÉ”9x'áaG0!NFâ—gVé¿J–ÂtÜ*Oyë=Q\"fÕ?ñwÃ`´―ì–Ëùº`§ÉtÂ YïY.eg0A‘Q!Rô%tËòx-ÜF-;ãRô_Ú:ªªùBZòiFlêpëãs!f%\"ÜQ8-ÇÊLÜzîzzè–&êO9’uzKÜüMQñp“m―WÈ/ãQ\n",
            "?(Âºõnu´ZïHÀ…zÚ=tÛ)áÛ1çt°&Íd\n",
            "àâÔõdÍüî80qÔÇCÈ´dxj―ËãÂ)pÁíúÛ‘Il+ªÃlË`ÀX-\"1ûé–Mqz$rJ'èãàCEeà.°\n",
            "”=―ñ%:ö\"……œï/!macêêa&bëb6múZ=;rùilòñ+rõ1TÀLüH’»JöBrÁÔN ûDäTmEá_ú?Ë–ie0èN)ïè.´$ÀV9bîP\n",
            "e5Çü%Úê½ÚE)¿ó/dÈ\n",
            "ê“kiOªtñ zÜñ/qxY;ÊºîgôTSëœdÚ,ôìùOôëq*ùh’:6hÚfõ—…ÂUEWneÔê1o;Í?9pzOA3&LRÔ_ª.ÈLL««Xï_Éºb;“3S,È«F―ãh¿al8XCëCü$o_RTÈ―BHBíûDsCU=ûM;?ÚFR–AÃ'KÁ\"EõpÂVÈÛhTâMHõ―ïùàq&:x'fs:ìJMaã&!Õ’áAw½.QmÛ*ò_ìM,QL=“à4äÉ08Ó-f,F-Ob'q¿œcAIy»Âç\n",
            "TÛ(PGh¿(hòK;K»C:áP´F*’*é=däœE(i“«ls?\n",
            "öz&–ç&W/5kS.:Ü1&b\n",
            "oE0E“‘cuFÉ°—FeêPXËüPs6'LväCôö1À¿,01XàsÔüdñ\"uàrBÀ…/C53âà—oöi§hyö'!,xô9ÊùMûnK4W´z§ îî5e’çKZ4$2ËcEÜ-´lH!L3O'Khèn»3“ÓCÚœsïüzöoâI6¿CîáúVqO*õo°qûdÍ+ì7QÛAk7«iÜ8cFtQCsrCCÉ6Ky+%(ñËè!”QS°ö3»QDêè»Âu6».öj3p=äó!»yàz;Fm\"ÊÈ¡HÕÇu;Û”g\"j§Õ Añ«Tr7;0“b§9\n",
            "_g4―ôÛ°+_î…Õ9_–éÜ–m:cbKl+Óoeã‘'ôb”§Âï?ÊnçrS.ôº8wX5O―sBUmuK“«mp%úñc&ö=î?ìËìúà’vI;éHwûrvHGÛqÃòLtÔéiU½ëewÁãÁòdÔ½m2`eÕÉTas‘S*îõjû«Û$\"Ky%`imé)¡öU&ë/DëCuÍ¡âQ½\"zÚœ”wçÊ5È9´ñ—3!ÜêE¿Õ)wY.ºO mqNexÊ(Met´Â ëjgÊöEj…ªÃñ“ÕîS ÔÊ¿uMéB.%B?:%W§öà!Xu?èî&&rDJd½XéÊá:n‘lqç1UEl`BÔÛ…ËS(–çFCçÛQGòî4ù=4oQ&CË-êàõ’IÕH\n",
            "c6söíÜœ&KE…GyCÛ/—Ülv»ìHuÓÚ;LœêwRîÈu¿ïë(¡h–íœ.”,EFÂà’!oñ§”Õí00jqá.ÁOtlZ9wíÚP/uOû§ÇÊûºRúôJ0ïàmHLZ\n",
            "âN6Õ½(Jw!—éeäá-OÊùãäü§ËjÓS‘ÈJìK―–2t,êóûÃ\n",
            "ÉÉ¿ÓDè=TQPçl”«ñ2m\"wñêÈÉÀ«âeóÜYC)SvÜªävÍ«!mËq,ÍJ_PÃ¿?*qz;Ü\n",
            "½F;ñé…Ê%öTWF:4bFç2p_îìM―ìÁäIçt$üÁ+ôyA)QHílJE6ù―Fó’w:îîm$ª*)içò.öwG9VçDËx“îüTjéx°K\"ãº»Xïorë%CXzNV—*êâvLqërãnÕÔ—iXàPp:í–‘“gNâéÔe3’œm$s)W´R’a$+áH2vVÃÓûÀéã»NQb&°Vìº)ë ¡l9‘iÇÛÂçm Z’ñÓô M¡nòFLYpÔê”?O;îÁüítœ»ô9°Ê»LBâ»_aBêèUATO%DTìòk2mçdY…7―?úó“ °.ÛvÉªhÚe’tÁIu?úâ\"2mô½júpíjL`îyK6”Fì§v'f¡«:ò¿wlÁ-\n",
            "4SkœúrÀdC!ÉûVf+ÁÁâqcl,O:ùÈ,u`)ÊC2%;&Êjry´Û(ìïí=; ç7çTÁxôUí»cÍãÓ°öÉóÉXª,ósyóÜ)çdh(g*Áúedkb‘ñ(Èœj*°/»:ÊF°§?OìòêCötd=a0°ó7ÀEêq―Á«ÈE9oãJá\n",
            "kÔ14Jü$m*êçã”’.XÜ―:ïn—”uD7r\"C40B*PÊ)aÍò+ORFÊ7pdvV*êäÀ.8 fUjœ―°I7Ú0»vÈÇS$úAvèœõgëwCôò,65Ç9¡õJGÕÓºRÇËF=Gïô9à!pÁüókìwY4õW\n",
            "w“è¿VL=çxè_aÇÃ¡e´5ªpJîªíi’\"xXû§ºüöí$ÜyÊÔ ½9$B\"8áÜIR”ó‘ÛÃnàÀìâÜ(ç4XyX)è—X5jmâa*(+opª)ô–Dò,¿Ûó´L+g\n",
            "ÂeièÂ´04tCºoABUòËlÃ§«S.B-==S…´/eÚjGP½òE6O°Wbãyr4V$xUAâóªzVôÕRÈô.ñâïùYñt½p°Yq”=Ë”:úCÈAjrGJä%zT2Õn;ÍH9-Pw”;PQTò‘ªôºVí$/ÃÓrÍZp\"‘sÇZÊ8ò3\"qyêUçi―Vg“ÔmX2Èùû…ó6Ç?uÀQ0\"QZâ―Áúw$/ZÁâj9z—CàÛáj%GÈxÊ=ºÃ`.ºjt4VÛïN\n",
            "'äôÉ9D%À…UõZÂzõJ-yAz§9Èœfï§.ÇèôáªTkœÁÍVü¡»w9KJwûS;N;'°6Óôú3ËV7¿'mÃù%D+«”º*qâÂc½ëïêZ2ôeewoi7NDTNq`hà/ª2oZlC*»lxÚä?hÓ§9ÛÁÕ òs–È?Írêà-k“½ÔÁtÉHìgH&MÇ“K-w2b–á1neª`ê)QÊàMía(º%q7»H71Mbâpéèùd,è(Ãr—èÕ_iâÔc+euK ”MÃöë7fKIÉ½X4ñúNw6½ûAïÃöaÍkÍbyl .v-NG…—fáÜw\n",
            "2—pMÔ,”ó6hÓ5V*CÃxq¿';c`q“Qú°_Aì$ÜoÀWÛ'»“(pZuÈyÚ+5ÔÛËáçVXmvÀ:Ç(…ÓÁ“,-ETOãÍa!b;pv§6gzKÔV6o¡õñ.Óä¿ûÈZÊÁ*Íf2ÈNÜmi§ö'UDªn 9;É\"TD&M»2!5ÕbfëmRî”SäQXi–tz”fhÕ0Õ°`&ªqì”'Iœo!T´kÚirB;Âxè“aUv2‘Õ)6§HQ)Cô,LJ.5úgÂ\"ãCª4iôÜêîMÀ;»áUªáìq“wG,G6ãjlmôXCf YSÓwhÔ»JzùLsò_½ÃÀèœG7O¿J8?ús»k5äùì\n",
            "*»ïüÈÕÈMºÍfTÚh;üö(äÊñ!°èÊ'“ãÔhö*´dÀ?/'a7d2çLàâzº*Ã―8P´“eª1wW8)+JoœuöEót+ÀI½&…SºmsiÊ¿8Ú`È:7\n",
            "No4ú;vºÀs,g\n",
            "ïsÛhó«kZ4îñ½’jr’ÈüGf»i»ò‘/-.8G.Á8!oüòàNu―‘+íù½―.IÚkëíAü$(jqãjto“sãíÇ(Dj_ky’$:=hyk´Õü/íf$;eË`ô .ÊK*kìKYÛ!G´ÉÓóaÓ,Éë;íúàèík —ù/2?2¡ç½È.\"mp¡=ºRXXäús7;SNiV7Ú%êëImá_GîPÇCeD»nÈÈSl,ö$öù*ã«Áª»XrÈF%hú6ùXoò°K½i§îüK+œ5õËìó*§Y½WCmÕ$»1‘Ûõ)ÍW°eAÜ§E(¿_°ËbÁ\")A ?CËÉ/Õ…y/ÍD´mª-”o\"oëo+9%áë¡oBërqèu”Gv6&ró”…¿.¡Êsïdª)pBÈÉÀo=y;\n",
            "y4Rôf¡uÔJp_(rÍBÓö°'IX\n",
            "ü–d1x/OVb; v―ù¡gzPä\"pªUÚ2Nbõx+YpKM*+îTNvªoVí0bcS‘Kfcò%_êóÚªco(Èu»É,«mzü_T$ñ9ò–,9O½FqéqvC9!öäAuxÀCÃJ2¡gë;yã’%úÉûP.v5— 5üwjsysË?'OjäS'l—Wy¡.8°òWUc§ç”―òR/ºù5âmC6zDûÉ§gZJ0òÚ–î5`Ûh êRô*g‘Ë‘74ìJH―¿qíö´pì°n&FjÕ0\n",
            "-ÛGôTh―p$ñ…'—öñPHeCgÉ4p%ëOó?!…i¡ùÇN'ÃEzaÈN.çÔw-g%J“éQêO…aWËd1N.=MÜÃ:“¿!ÚÓ.P\n",
            "6=nüS'ÂÁZ½:TàMZ;\"AfÂFàcÕ?YK/2ïp\n",
            "óZË“lhREM'b5óÜa“îT!$5sÔB½PTòIúÈCuEÂ\"Â§vÕcR*Í—gÈn«õ¡RR ½ñ'úvN2lúr°―ApgéaãF$Hq/g–―Pô%½EWAÂÔS‘éí?jJÛfWW2ÛYy1…èu49*lN‘YÕJÈMEüô\n",
            "-QfnsO’/sûdœ‘(DnQ,ü3-q,Ü9eLâq«ÜXk––ê=e'ºX?’°(“—%3(HÍTgï_ÀÀz«òxv/uÉ`*(EU:5OÛZL0,w*NX’(ÓÀÛ\"o-Kê»pxób+ÕI%UÕÔ;$oH&GqÍ“ºöÓ»`A!Fï?RüáiWi&Ôpõe+ËeùRVG“ÀRäf°kX'ù‘’nn«!peH(ªœÕ\"eÔKÛÃ\"nÚHëâÍzsZb'wœrXgz$3ÉLbçäÊ\n",
            "F(üüZù.á+?bb_bÊVMÂàré.―Ú«\"L8üò\n",
            "V4RëhÜvÚx5bë+:F&9)tÀGäÃÚR´ªOÔw»rVRk+—3b_–eÂñdtÚÉAÕjS_+TÕdl?ñ3âÂªéÜ6Êçò»rp.n—0°Û:ÂH\n",
            "PËei`+ôíàSä―TÁGËTn\n",
            "ZT―PçXRËIÃ…+¿K?YGYÃLó.°yÕvfçë*mq—…Ôºt_fœÈk”ûwÓKÀ Ô-UP§'U0j)ÊÁk”DYuF”e¿H`Ré«—-kªÀNodäºPâÃëd%¿+m\"bCX«àa(çwgòQÚI4—―´CZ;IÈí_TY°+uEGñõ0vÉ`E9/7-N¡5VÉè4§…ìâ¡À6id/qöwU´vücH?7MLWâ7,ìDùZF+ÃKlºrX(ëv“–úªk3vPmöÜ\"D3Éóºp-Nã4“àh(säía8»…ãä\"EÍëW_ÉœÃKG’œ-ä―wÍéYºÇL3ÛÇrnànWéGvfûÔG&âmIUC2Is!wÛ\"¿§8_Bâç3-¿!7NF=Çê¡Z—ä‘â+Âf1ùsòÍXö %sî-»qDÕàÚÃ½Çp»ÕWQËªõï’6ñHñë9.;jNOo'7BEîËZ_;â Û DDPXÇÂ/Ó´—P5?…aCI\n",
            "‘3!oàSê\"th1r,Ómy‘QH‘q½ÂbRr¿l,”:júQèE–n8pLWdn¿g¿ºÓ2e°d(Ç%geÀIvW§_–KL“Õ67hÊgÁhóYHuq…eFõ«v45ay…kùsâ―\"Íì…kÊóaiUn)¿OìTò.Ô?QWÈVÓ;ñé.+28JTÓÀPt8Â§Y”héMPcK$œeWºyvJ»?ìmÔûÕÃÚN!—ÀI3g Üm―òíhéâRjhõ&aH R:RL\n",
            "\n",
            "ièX°:Xp18ü3Êñ3_YWG\n",
            "Ëí:é–=\n",
            "ZÀ°œ Q+ëÊÁUœº―M‘BxkÊ°èAhxdhí\",n&l(aasCÇd¿rêÔm=J$…öèäJbga:gOa:œaïWBXzÍMÁÓ«ÛÇ”è+z9F»yP“Û´üªqZ$öò9R-\n",
            "ôêN6i½¿áo―¿6E—TÍ20f½:Z2ÂòBy“deä’`»PpèivÜc4A6uNÕqÉá`5TÛçêcKóü`«òêññ5”aòu»M»lev‘_7ç½GUMmº3X’oÛèBB¡òGñN0=N½rXäèh´“ËfÕ°VmîÔÊ\n",
            "öA;CËSt6ËúªAWNO°pvSsB6ô1HÂ8uÚR§=R?õãéGGú“*wQ’ùägÜX(ô1$öjdU?X!jÀB3ìj¡ìèW¡ÇbîuÂÕG/ò0û=kABÔ1ÃÁóÈiëÃ’s-+uE´Ppva`ià8átÊw´F.1”Kí´â―ËËío2p§JHLLœA7ú-l&d_\n",
            "ë+WÂœ3dÇsp7dàyÕÍœãª5UNÜGú´fìhE;9§e¿&'*rôNn»‘ñ-ìéSb¡É$ÈuÔ¡S—SWE”d&b¿_ª»äÜ_¿hù—`ùo»Ú…cÁ;hª½‘ü9ªœ”A―ÁJBëAmZmuNê§G4Oõ/há’Õg'ºwºÓp‘OÍIèwIy…û¿;Asv¡Fèdl—ó”rM°v´È+9`kRAWez$Z—\"»/:Ú%Q½Cx)èFªSs§òÃ«\n",
            "―\n",
            "*?«À!J…ÚÇXÔ_íuUBãMAòHzê«§ù\"uô`…z«dôT/yj4äyöâmûgÛ»»?½p”dËº%wGV“üNÁIoX¡SEN¡aútB–YãÈò4/Rm‘!¿OxëLçË&ànöû6xWóóÚk&kÔMH°/qCõpÉ‘O”Xê$AQY3…C1&¿TêñSI_ÓP`eÃí0$+Á8ûÉ1Mï(Ê AçG;âZÃï§ä4rÁºûîïSs;‘ü7mb9t$Jº?¿TãyMÇä`Ú.y“Á.Eùûh*V*à?:Ja_HÈàî¿0eûYöÍìûÀÃKUê\"Âx`G‘1ñùÊ8äjN.+ÓÔtÀûœ8cFò$Gô=IQPãÂH!À`ÛP’MáªF&ìÊTÈA_0kHRBÜCcù´5ë”tZÂãÊ,vqóÁg―”Ê―h%y$Ir4ú½«ÛrLbUXYqã;“éË5XLK3ûáÂûnJÀifÃ()Ã7Ké!ñºcïáªw8áûÛ\n",
            "_-F´uÜW`'W½xNüóÊÚœ…dSzê§k.ï”Yô?êÔcO;?…Z\"dùÀWu”AojÓTeöwo=AJ(b´R&âZ’y&äòö&G»UFct9Áh'4xK½‘LkFÔf C‘ÁÛp—§Swâ9–¡3§Èü$ á6êà’&CÂ´bQÊ$ü4E°äÓÇG=oc¿ñ“êyK/A_»H6!ñ\"Aö’0¡fú&üS«!ìcÈsg0&7°/bhãé4JF%g%il‘êCOÔ`ÀkÉòwE°«\n",
            "UuzB«UÁËoy)Bé‘2:êF§ùñÊÛ2îRY&–1'ïÚBjË$C2Õ\"hÃÔújo’éNZóäYbí=F§qqä-;1RÛg0tOíâ5îäìÍch?w&omõ+¿o\"m½íiPiî°9éLºòâÍj!m‘\"!Á5ñË8%œ—%ZEsûajëê0“ÛQOvãâ&yº…»/BVgY3Q/?k/OÂ=‘jL«ìp’–9»Ôp$WvérYèéÊq‘w?N?MbvMd&a4öÛx«-3«½\"â4$-tªMLUP”D-_œÂDó:õ!û7ìôPHcü9c%O«o:RÍR3ä(öD—_í´ÁcÂfªuïq\"’;ÊÕQsKG lî2“áÀdCõ3z´\";ô+°ãBè9J_/&YanÁ¡x0ô+ò.çñ7É’»kRz-―$hõ8hêa¿FIBqp4ïbÍ“pL’.ÜÍ-ULéèlR\"ÉBÂkèo\"_y\n",
            "ºK°K1XlüœZ5a―ñ:sìÚ_\"–WË;»ühÔ«È½â«Ç ùïT0ãwGì)E:!Vº4w―oÇ*0mÃÔú`5“âä!z4Ç;ã0uq-êãf\n"
          ]
        }
      ]
    },
    {
      "cell_type": "code",
      "source": [],
      "metadata": {
        "id": "3xWuWuHx6kUW"
      },
      "execution_count": null,
      "outputs": []
    }
  ]
}