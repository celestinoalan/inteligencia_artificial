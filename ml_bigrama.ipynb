{
  "nbformat": 4,
  "nbformat_minor": 0,
  "metadata": {
    "colab": {
      "provenance": [],
      "toc_visible": true,
      "authorship_tag": "ABX9TyMyB54U6ltCiMFT9PUJcTW5",
      "include_colab_link": true
    },
    "kernelspec": {
      "name": "python3",
      "display_name": "Python 3"
    },
    "language_info": {
      "name": "python"
    }
  },
  "cells": [
    {
      "cell_type": "markdown",
      "metadata": {
        "id": "view-in-github",
        "colab_type": "text"
      },
      "source": [
        "<a href=\"https://colab.research.google.com/github/celestinoalan/inteligencia_artificial/blob/main/ml_bigrama.ipynb\" target=\"_parent\"><img src=\"https://colab.research.google.com/assets/colab-badge.svg\" alt=\"Open In Colab\"/></a>"
      ]
    },
    {
      "cell_type": "markdown",
      "source": [
        "# Modelo de Linguagem de Bigramas\n",
        "\n",
        "Criaremos dois modelos de linguagem que predizem o próximo token baseado no anterior. Em um deles, utilizaremos uma matriz pré-calculada contendo as probabilidades condicionais de cada token dado o anterior. Em outro, aprenderemos esta matriz atravéz da descida do gradiente."
      ],
      "metadata": {
        "id": "Y7WY8uGWSS0x"
      }
    },
    {
      "cell_type": "markdown",
      "source": [
        "## Corpus\n",
        "\n",
        "Usaremos um corpus composto por todas as obras de Machado de Assis."
      ],
      "metadata": {
        "id": "myIq1DC5UpSd"
      }
    },
    {
      "cell_type": "code",
      "execution_count": 1,
      "metadata": {
        "colab": {
          "base_uri": "https://localhost:8080/"
        },
        "id": "q7gP8LjYRVcF",
        "outputId": "76206d2d-ea79-4625-d537-a99a9b5195b7"
      },
      "outputs": [
        {
          "output_type": "stream",
          "name": "stdout",
          "text": [
            "--2024-10-07 01:24:53--  https://raw.githubusercontent.com/celestinoalan/inteligencia_artificial/main/data/machado_de_assis.txt\n",
            "Resolving raw.githubusercontent.com (raw.githubusercontent.com)... 185.199.108.133, 185.199.109.133, 185.199.110.133, ...\n",
            "Connecting to raw.githubusercontent.com (raw.githubusercontent.com)|185.199.108.133|:443... connected.\n",
            "HTTP request sent, awaiting response... 200 OK\n",
            "Length: 11340314 (11M) [text/plain]\n",
            "Saving to: ‘machado_de_assis.txt’\n",
            "\n",
            "machado_de_assis.tx 100%[===================>]  10.81M  --.-KB/s    in 0.1s    \n",
            "\n",
            "2024-10-07 01:24:54 (109 MB/s) - ‘machado_de_assis.txt’ saved [11340314/11340314]\n",
            "\n"
          ]
        }
      ],
      "source": [
        "# Baixa input.txt no diretório raíz\n",
        "!wget https://raw.githubusercontent.com/celestinoalan/inteligencia_artificial/main/data/machado_de_assis.txt"
      ]
    },
    {
      "cell_type": "code",
      "source": [
        "with open('machado_de_assis.txt', 'r', encoding='utf-8') as f:\n",
        "    text = f.read()"
      ],
      "metadata": {
        "id": "vFVqjgZgVEyG"
      },
      "execution_count": 2,
      "outputs": []
    },
    {
      "cell_type": "code",
      "source": [
        "len(text)  # Total de caracteres"
      ],
      "metadata": {
        "colab": {
          "base_uri": "https://localhost:8080/"
        },
        "id": "xS2P2FdfVLkP",
        "outputId": "3b27ae11-9768-4936-e5da-c7bc80224649"
      },
      "execution_count": 3,
      "outputs": [
        {
          "output_type": "execute_result",
          "data": {
            "text/plain": [
              "10977697"
            ]
          },
          "metadata": {},
          "execution_count": 3
        }
      ]
    },
    {
      "cell_type": "code",
      "source": [
        "text[:100]"
      ],
      "metadata": {
        "colab": {
          "base_uri": "https://localhost:8080/",
          "height": 53
        },
        "id": "SG0KkW7ZWW2P",
        "outputId": "5761cf2d-540c-4aba-9b1f-f6535d6a1d8a"
      },
      "execution_count": 4,
      "outputs": [
        {
          "output_type": "execute_result",
          "data": {
            "text/plain": [
              "'Helena\\n\\nADVERTÊNCIA\\nEsta nova edição de Helena sai com várias emendas de linguagem e\\noutras, que não'"
            ],
            "application/vnd.google.colaboratory.intrinsic+json": {
              "type": "string"
            }
          },
          "metadata": {},
          "execution_count": 4
        }
      ]
    },
    {
      "cell_type": "markdown",
      "source": [
        "Montaremos um tokenizador que mapeia caracteres aos inteiros."
      ],
      "metadata": {
        "id": "wWhX_lCvVRWO"
      }
    },
    {
      "cell_type": "code",
      "source": [
        "import torch\n",
        "\n",
        "class Tokenizer:\n",
        "    def __init__(self, text):\n",
        "        self.chars = sorted(list(set(text)))\n",
        "        self.stoi = { ch:i for i,ch in enumerate(self.chars) }\n",
        "        self.itos = { i:ch for i,ch in enumerate(self.chars) }\n",
        "\n",
        "    def encode(self, s):\n",
        "        return torch.tensor([self.stoi[c] for c in s], dtype=torch.int)\n",
        "\n",
        "    def decode(self, tokens):\n",
        "        if isinstance(tokens, torch.Tensor):\n",
        "            tokens = tokens.numpy().squeeze()\n",
        "        print(tokens, type(tokens))\n",
        "        return ''.join([self.itos[t] for t in tokens])"
      ],
      "metadata": {
        "id": "OZ9BGdqNVMrO"
      },
      "execution_count": 40,
      "outputs": []
    },
    {
      "cell_type": "code",
      "source": [
        "tokenizer = Tokenizer(text)\n",
        "tokenizer.encode(text[:100])"
      ],
      "metadata": {
        "colab": {
          "base_uri": "https://localhost:8080/"
        },
        "id": "aBtpj-theDs9",
        "outputId": "52de1f0c-e89f-4e8d-cf70-b1a67b84e666"
      },
      "execution_count": 41,
      "outputs": [
        {
          "output_type": "execute_result",
          "data": {
            "text/plain": [
              "tensor([ 37,  62,  69,  62,  71,  58,   0,   0,  30,  33,  51,  34,  47,  49,\n",
              "        101,  43,  32,  38,  30,   0,  34,  76,  77,  58,   1,  71,  72,  79,\n",
              "         58,   1,  62,  61,  66, 115, 113,  72,   1,  61,  62,   1,  37,  62,\n",
              "         69,  62,  71,  58,   1,  76,  58,  66,   1,  60,  72,  70,   1,  79,\n",
              "        111,  75,  66,  58,  76,   1,  62,  70,  62,  71,  61,  58,  76,   1,\n",
              "         61,  62,   1,  69,  66,  71,  64,  78,  58,  64,  62,  70,   1,  62,\n",
              "          0,  72,  78,  77,  75,  58,  76,  12,   1,  74,  78,  62,   1,  71,\n",
              "        113,  72], dtype=torch.int32)"
            ]
          },
          "metadata": {},
          "execution_count": 41
        }
      ]
    },
    {
      "cell_type": "markdown",
      "source": [
        "## Probabilidades Condicionais\n",
        "\n",
        "Montaremos agora uma matriz com as probabilidades de cada token dado o seu predecessor."
      ],
      "metadata": {
        "id": "TeUa8bkfec_p"
      }
    },
    {
      "cell_type": "code",
      "source": [
        "# Separando os últimos 10% do texto para avaliar os resultados\n",
        "tokenized_text = tokenizer.encode(text)\n",
        "train_pct = 0.9\n",
        "eval_tokenized_text = tokenized_text[int(train_pct * len(tokenized_text)):]\n",
        "tokenized_text = tokenized_text[:int(train_pct * len(tokenized_text))]"
      ],
      "metadata": {
        "id": "twQce_zSfmdR"
      },
      "execution_count": 7,
      "outputs": []
    },
    {
      "cell_type": "markdown",
      "source": [
        "Na célula seguinte, contamos o número de ocorrências de um caractere `t2[j]` após um caractere `t1[i]`."
      ],
      "metadata": {
        "id": "eGTaMpWBjMSv"
      }
    },
    {
      "cell_type": "code",
      "source": [
        "counts = torch.zeros((len(tokenizer.chars), len(tokenizer.chars)), dtype=torch.int)\n",
        "t1 = tokenized_text[:-1]  # Variável independente\n",
        "t2 = tokenized_text[1:]  # Variável dependente (caractere que estamos tentanto predizer)\n",
        "counts = counts.index_put_((t1, t2), torch.ones_like(t1), accumulate=True)  # Truque para contar eficientemente"
      ],
      "metadata": {
        "id": "YGhADNlLePjn"
      },
      "execution_count": 8,
      "outputs": []
    },
    {
      "cell_type": "code",
      "source": [
        "counts.shape, len(tokenizer.chars), counts.min(), counts.max()"
      ],
      "metadata": {
        "colab": {
          "base_uri": "https://localhost:8080/"
        },
        "id": "cz0IN9cEe-FP",
        "outputId": "d14e57a2-d230-407e-ca93-7c75d7c71b25"
      },
      "execution_count": 10,
      "outputs": [
        {
          "output_type": "execute_result",
          "data": {
            "text/plain": [
              "(torch.Size([143, 143]),\n",
              " 143,\n",
              " tensor(0, dtype=torch.int32),\n",
              " tensor(274441, dtype=torch.int32))"
            ]
          },
          "metadata": {},
          "execution_count": 10
        }
      ]
    },
    {
      "cell_type": "code",
      "source": [
        "counts"
      ],
      "metadata": {
        "colab": {
          "base_uri": "https://localhost:8080/"
        },
        "id": "VIGhBL_xhL_X",
        "outputId": "b66749f0-238b-406c-ecae-e00eb995ae0c"
      },
      "execution_count": 11,
      "outputs": [
        {
          "output_type": "execute_result",
          "data": {
            "text/plain": [
              "tensor([[ 100,  133,    0,  ...,  500,    1,    2],\n",
              "        [ 160,    7,    9,  ..., 1114,    0,    0],\n",
              "        [2992, 4807,    6,  ...,    0,  204,    0],\n",
              "        ...,\n",
              "        [   1,    6,    0,  ...,    0,    0,    0],\n",
              "        [ 353,  327,    0,  ...,    0,    0,    0],\n",
              "        [   2,    2,    0,  ...,    0,    0,   40]], dtype=torch.int32)"
            ]
          },
          "metadata": {},
          "execution_count": 11
        }
      ]
    },
    {
      "cell_type": "markdown",
      "source": [
        "Aqui, calculamos as probabilidades de ocorrência de cada par de caracteres."
      ],
      "metadata": {
        "id": "5ZDIzXqAkaKE"
      }
    },
    {
      "cell_type": "code",
      "source": [
        "probs = counts.float() / counts.sum(1, keepdim=True)\n",
        "probs"
      ],
      "metadata": {
        "colab": {
          "base_uri": "https://localhost:8080/"
        },
        "id": "Vr_mhurOi9xw",
        "outputId": "a2f124be-775f-4292-8202-4b4a3418053d"
      },
      "execution_count": 12,
      "outputs": [
        {
          "output_type": "execute_result",
          "data": {
            "text/plain": [
              "tensor([[5.9990e-04, 7.9787e-04, 0.0000e+00,  ..., 2.9995e-03, 5.9990e-06,\n",
              "         1.1998e-05],\n",
              "        [1.0264e-04, 4.4903e-06, 5.7733e-06,  ..., 7.1461e-04, 0.0000e+00,\n",
              "         0.0000e+00],\n",
              "        [3.5747e-01, 5.7431e-01, 7.1685e-04,  ..., 0.0000e+00, 2.4373e-02,\n",
              "         0.0000e+00],\n",
              "        ...,\n",
              "        [6.1843e-04, 3.7106e-03, 0.0000e+00,  ..., 0.0000e+00, 0.0000e+00,\n",
              "         0.0000e+00],\n",
              "        [2.3981e-01, 2.2215e-01, 0.0000e+00,  ..., 0.0000e+00, 0.0000e+00,\n",
              "         0.0000e+00],\n",
              "        [4.3478e-02, 4.3478e-02, 0.0000e+00,  ..., 0.0000e+00, 0.0000e+00,\n",
              "         8.6957e-01]])"
            ]
          },
          "metadata": {},
          "execution_count": 12
        }
      ]
    },
    {
      "cell_type": "markdown",
      "source": [
        "A soma deve ser um em todos os elementos; veja entretando, que acabamos gerando `nan`s."
      ],
      "metadata": {
        "id": "XG7OBt08kot9"
      }
    },
    {
      "cell_type": "code",
      "source": [
        "probs.sum(1)"
      ],
      "metadata": {
        "colab": {
          "base_uri": "https://localhost:8080/"
        },
        "id": "SSJ47St-jdtC",
        "outputId": "6483d9a3-1d78-4e08-e435-7e45d23a8413"
      },
      "execution_count": 13,
      "outputs": [
        {
          "output_type": "execute_result",
          "data": {
            "text/plain": [
              "tensor([1.0000, 1.0000, 1.0000, 1.0000, 1.0000, 1.0000, 1.0000, 1.0000, 1.0000,\n",
              "        1.0000, 1.0000, 1.0000, 1.0000, 1.0000, 1.0000, 1.0000, 1.0000, 1.0000,\n",
              "        1.0000, 1.0000, 1.0000, 1.0000, 1.0000, 1.0000, 1.0000, 1.0000, 1.0000,\n",
              "        1.0000, 1.0000, 1.0000, 1.0000, 1.0000, 1.0000, 1.0000, 1.0000, 1.0000,\n",
              "        1.0000, 1.0000, 1.0000, 1.0000, 1.0000, 1.0000, 1.0000, 1.0000, 1.0000,\n",
              "        1.0000, 1.0000, 1.0000, 1.0000, 1.0000, 1.0000, 1.0000, 1.0000, 1.0000,\n",
              "        1.0000, 1.0000, 1.0000, 1.0000, 1.0000, 1.0000, 1.0000, 1.0000, 1.0000,\n",
              "        1.0000, 1.0000, 1.0000, 1.0000, 1.0000, 1.0000, 1.0000, 1.0000, 1.0000,\n",
              "        1.0000, 1.0000, 1.0000, 1.0000, 1.0000, 1.0000, 1.0000, 1.0000, 1.0000,\n",
              "        1.0000, 1.0000, 1.0000, 1.0000, 1.0000, 1.0000, 1.0000, 1.0000, 1.0000,\n",
              "        1.0000,    nan,    nan, 1.0000, 1.0000, 1.0000, 1.0000, 1.0000, 1.0000,\n",
              "        1.0000, 1.0000, 1.0000, 1.0000, 1.0000, 1.0000, 1.0000, 1.0000, 1.0000,\n",
              "        1.0000, 1.0000, 1.0000, 1.0000, 1.0000, 1.0000, 1.0000, 1.0000, 1.0000,\n",
              "        1.0000, 1.0000, 1.0000, 1.0000, 1.0000, 1.0000, 1.0000, 1.0000, 1.0000,\n",
              "        1.0000, 1.0000, 1.0000, 1.0000, 1.0000, 1.0000, 1.0000, 1.0000, 1.0000,\n",
              "        1.0000, 1.0000, 1.0000, 1.0000, 1.0000, 1.0000, 1.0000, 1.0000])"
            ]
          },
          "metadata": {},
          "execution_count": 13
        }
      ]
    },
    {
      "cell_type": "markdown",
      "source": [
        "Vamos investigar isto. Aqui, os índices dos `nan`s, as probabilidades e frequências:"
      ],
      "metadata": {
        "id": "mCTXY8EqmQeQ"
      }
    },
    {
      "cell_type": "code",
      "source": [
        "from math import nan\n",
        "nan_values = torch.isnan(probs.sum(1))\n",
        "nan_positions = torch.where(nan_values)\n",
        "print(nan_positions)\n",
        "\n",
        "print(tokenizer.itos[nan_positions[0][0].item()])\n",
        "print(tokenizer.itos[nan_positions[0][1].item()])\n",
        "\n",
        "print(probs[nan_positions])\n",
        "\n",
        "print(counts[nan_positions])"
      ],
      "metadata": {
        "colab": {
          "base_uri": "https://localhost:8080/"
        },
        "id": "nK9JiWValmRH",
        "outputId": "e85a4192-b445-4346-9bb7-bd3f19aface2"
      },
      "execution_count": 21,
      "outputs": [
        {
          "output_type": "stream",
          "name": "stdout",
          "text": [
            "(tensor([91, 92]),)\n",
            "»\n",
            "½\n",
            "tensor([[nan, nan, nan, nan, nan, nan, nan, nan, nan, nan, nan, nan, nan, nan, nan, nan, nan, nan, nan, nan, nan, nan, nan, nan,\n",
            "         nan, nan, nan, nan, nan, nan, nan, nan, nan, nan, nan, nan, nan, nan, nan, nan, nan, nan, nan, nan, nan, nan, nan, nan,\n",
            "         nan, nan, nan, nan, nan, nan, nan, nan, nan, nan, nan, nan, nan, nan, nan, nan, nan, nan, nan, nan, nan, nan, nan, nan,\n",
            "         nan, nan, nan, nan, nan, nan, nan, nan, nan, nan, nan, nan, nan, nan, nan, nan, nan, nan, nan, nan, nan, nan, nan, nan,\n",
            "         nan, nan, nan, nan, nan, nan, nan, nan, nan, nan, nan, nan, nan, nan, nan, nan, nan, nan, nan, nan, nan, nan, nan, nan,\n",
            "         nan, nan, nan, nan, nan, nan, nan, nan, nan, nan, nan, nan, nan, nan, nan, nan, nan, nan, nan, nan, nan, nan, nan],\n",
            "        [nan, nan, nan, nan, nan, nan, nan, nan, nan, nan, nan, nan, nan, nan, nan, nan, nan, nan, nan, nan, nan, nan, nan, nan,\n",
            "         nan, nan, nan, nan, nan, nan, nan, nan, nan, nan, nan, nan, nan, nan, nan, nan, nan, nan, nan, nan, nan, nan, nan, nan,\n",
            "         nan, nan, nan, nan, nan, nan, nan, nan, nan, nan, nan, nan, nan, nan, nan, nan, nan, nan, nan, nan, nan, nan, nan, nan,\n",
            "         nan, nan, nan, nan, nan, nan, nan, nan, nan, nan, nan, nan, nan, nan, nan, nan, nan, nan, nan, nan, nan, nan, nan, nan,\n",
            "         nan, nan, nan, nan, nan, nan, nan, nan, nan, nan, nan, nan, nan, nan, nan, nan, nan, nan, nan, nan, nan, nan, nan, nan,\n",
            "         nan, nan, nan, nan, nan, nan, nan, nan, nan, nan, nan, nan, nan, nan, nan, nan, nan, nan, nan, nan, nan, nan, nan]])\n",
            "tensor([[0, 0, 0, 0, 0, 0, 0, 0, 0, 0, 0, 0, 0, 0, 0, 0, 0, 0, 0, 0, 0, 0, 0, 0,\n",
            "         0, 0, 0, 0, 0, 0, 0, 0, 0, 0, 0, 0, 0, 0, 0, 0, 0, 0, 0, 0, 0, 0, 0, 0,\n",
            "         0, 0, 0, 0, 0, 0, 0, 0, 0, 0, 0, 0, 0, 0, 0, 0, 0, 0, 0, 0, 0, 0, 0, 0,\n",
            "         0, 0, 0, 0, 0, 0, 0, 0, 0, 0, 0, 0, 0, 0, 0, 0, 0, 0, 0, 0, 0, 0, 0, 0,\n",
            "         0, 0, 0, 0, 0, 0, 0, 0, 0, 0, 0, 0, 0, 0, 0, 0, 0, 0, 0, 0, 0, 0, 0, 0,\n",
            "         0, 0, 0, 0, 0, 0, 0, 0, 0, 0, 0, 0, 0, 0, 0, 0, 0, 0, 0, 0, 0, 0, 0],\n",
            "        [0, 0, 0, 0, 0, 0, 0, 0, 0, 0, 0, 0, 0, 0, 0, 0, 0, 0, 0, 0, 0, 0, 0, 0,\n",
            "         0, 0, 0, 0, 0, 0, 0, 0, 0, 0, 0, 0, 0, 0, 0, 0, 0, 0, 0, 0, 0, 0, 0, 0,\n",
            "         0, 0, 0, 0, 0, 0, 0, 0, 0, 0, 0, 0, 0, 0, 0, 0, 0, 0, 0, 0, 0, 0, 0, 0,\n",
            "         0, 0, 0, 0, 0, 0, 0, 0, 0, 0, 0, 0, 0, 0, 0, 0, 0, 0, 0, 0, 0, 0, 0, 0,\n",
            "         0, 0, 0, 0, 0, 0, 0, 0, 0, 0, 0, 0, 0, 0, 0, 0, 0, 0, 0, 0, 0, 0, 0, 0,\n",
            "         0, 0, 0, 0, 0, 0, 0, 0, 0, 0, 0, 0, 0, 0, 0, 0, 0, 0, 0, 0, 0, 0, 0]],\n",
            "       dtype=torch.int32)\n"
          ]
        }
      ]
    },
    {
      "cell_type": "markdown",
      "source": [
        "Frequências nulas para todos os caracteres: Estes caracteres apenas existem no conjunto de dados em que avaliaremos os resultados."
      ],
      "metadata": {
        "id": "1xzR_94mpYKO"
      }
    },
    {
      "cell_type": "code",
      "source": [
        "91 in tokenized_text, 91 in eval_tokenized_text"
      ],
      "metadata": {
        "colab": {
          "base_uri": "https://localhost:8080/"
        },
        "id": "uGYaUh-enajS",
        "outputId": "063a676a-5990-4df9-baf2-73cfde132453"
      },
      "execution_count": 49,
      "outputs": [
        {
          "output_type": "execute_result",
          "data": {
            "text/plain": [
              "(False, True)"
            ]
          },
          "metadata": {},
          "execution_count": 49
        }
      ]
    },
    {
      "cell_type": "markdown",
      "source": [
        "Para eliminar este problema, vamos adicionar 1 a todas as frequências. Assim, regularizaremos as frequências para evitar números extremos."
      ],
      "metadata": {
        "id": "OxemBR-2nFS8"
      }
    },
    {
      "cell_type": "code",
      "source": [
        "counts += 1\n",
        "probs = counts.float() / counts.sum(1, keepdim=True)\n",
        "probs"
      ],
      "metadata": {
        "colab": {
          "base_uri": "https://localhost:8080/"
        },
        "outputId": "4696b3d6-50ec-4621-b8ef-8d7d8b4832cb",
        "id": "00xHCxcZqRKH"
      },
      "execution_count": 50,
      "outputs": [
        {
          "output_type": "execute_result",
          "data": {
            "text/plain": [
              "tensor([[6.0538e-04, 8.0318e-04, 5.9939e-06,  ..., 3.0029e-03, 1.1988e-05,\n",
              "         1.7982e-05],\n",
              "        [1.0327e-04, 5.1313e-06, 6.4142e-06,  ..., 7.1518e-04, 6.4142e-07,\n",
              "         6.4142e-07],\n",
              "        [3.5158e-01, 5.6478e-01, 8.2227e-04,  ..., 1.1747e-04, 2.4081e-02,\n",
              "         1.1747e-04],\n",
              "        ...,\n",
              "        [1.1364e-03, 3.9773e-03, 5.6818e-04,  ..., 5.6818e-04, 5.6818e-04,\n",
              "         5.6818e-04],\n",
              "        [2.1920e-01, 2.0310e-01, 6.1920e-04,  ..., 6.1920e-04, 6.1920e-04,\n",
              "         6.1920e-04],\n",
              "        [1.5873e-02, 1.5873e-02, 5.2910e-03,  ..., 5.2910e-03, 5.2910e-03,\n",
              "         2.1693e-01]])"
            ]
          },
          "metadata": {},
          "execution_count": 50
        }
      ]
    },
    {
      "cell_type": "code",
      "source": [
        "probs.sum(1)  # Eba!"
      ],
      "metadata": {
        "colab": {
          "base_uri": "https://localhost:8080/"
        },
        "outputId": "8a963feb-5460-43e8-d23c-e10d55181c50",
        "id": "mnYhUuxaqRKJ"
      },
      "execution_count": 51,
      "outputs": [
        {
          "output_type": "execute_result",
          "data": {
            "text/plain": [
              "tensor([1.0000, 1.0000, 1.0000, 1.0000, 1.0000, 1.0000, 1.0000, 1.0000, 1.0000,\n",
              "        1.0000, 1.0000, 1.0000, 1.0000, 1.0000, 1.0000, 1.0000, 1.0000, 1.0000,\n",
              "        1.0000, 1.0000, 1.0000, 1.0000, 1.0000, 1.0000, 1.0000, 1.0000, 1.0000,\n",
              "        1.0000, 1.0000, 1.0000, 1.0000, 1.0000, 1.0000, 1.0000, 1.0000, 1.0000,\n",
              "        1.0000, 1.0000, 1.0000, 1.0000, 1.0000, 1.0000, 1.0000, 1.0000, 1.0000,\n",
              "        1.0000, 1.0000, 1.0000, 1.0000, 1.0000, 1.0000, 1.0000, 1.0000, 1.0000,\n",
              "        1.0000, 1.0000, 1.0000, 1.0000, 1.0000, 1.0000, 1.0000, 1.0000, 1.0000,\n",
              "        1.0000, 1.0000, 1.0000, 1.0000, 1.0000, 1.0000, 1.0000, 1.0000, 1.0000,\n",
              "        1.0000, 1.0000, 1.0000, 1.0000, 1.0000, 1.0000, 1.0000, 1.0000, 1.0000,\n",
              "        1.0000, 1.0000, 1.0000, 1.0000, 1.0000, 1.0000, 1.0000, 1.0000, 1.0000,\n",
              "        1.0000, 1.0000, 1.0000, 1.0000, 1.0000, 1.0000, 1.0000, 1.0000, 1.0000,\n",
              "        1.0000, 1.0000, 1.0000, 1.0000, 1.0000, 1.0000, 1.0000, 1.0000, 1.0000,\n",
              "        1.0000, 1.0000, 1.0000, 1.0000, 1.0000, 1.0000, 1.0000, 1.0000, 1.0000,\n",
              "        1.0000, 1.0000, 1.0000, 1.0000, 1.0000, 1.0000, 1.0000, 1.0000, 1.0000,\n",
              "        1.0000, 1.0000, 1.0000, 1.0000, 1.0000, 1.0000, 1.0000, 1.0000, 1.0000,\n",
              "        1.0000, 1.0000, 1.0000, 1.0000, 1.0000, 1.0000, 1.0000, 1.0000])"
            ]
          },
          "metadata": {},
          "execution_count": 51
        }
      ]
    },
    {
      "cell_type": "markdown",
      "source": [
        "Qual é o par mais comum? Faz sentido: \"u\" seguido de \"q\". É difícil pensar em outro caractere seguinte de \"q\"."
      ],
      "metadata": {
        "id": "3H1Qs1kyq4OX"
      }
    },
    {
      "cell_type": "code",
      "source": [
        "max_index = probs.argmax()\n",
        "max_value = probs.max()\n",
        "row, col = divmod(max_index.item(), probs.size(1))\n",
        "tokenizer.itos[row], tokenizer.itos[col], max_value.item(), row, col"
      ],
      "metadata": {
        "colab": {
          "base_uri": "https://localhost:8080/"
        },
        "id": "zBEtE89mjizA",
        "outputId": "c2f5770a-aab5-46c3-e872-fb5c65e7b403"
      },
      "execution_count": 52,
      "outputs": [
        {
          "output_type": "execute_result",
          "data": {
            "text/plain": [
              "('q', 'u', 0.9882258176803589, 74, 78)"
            ]
          },
          "metadata": {},
          "execution_count": 52
        }
      ]
    },
    {
      "cell_type": "markdown",
      "source": [
        "## ML com Matriz Pré-Calculada - Amostras de Textos Gerados"
      ],
      "metadata": {
        "id": "LqgzgLjMlaxe"
      }
    },
    {
      "cell_type": "markdown",
      "source": [
        "Geremos um pouco de Machado de Assis!"
      ],
      "metadata": {
        "id": "z2_hhoP1rZ4b"
      }
    },
    {
      "cell_type": "code",
      "source": [
        "out = [tokenized_text[0].item()]\n",
        "for _ in range(10000):\n",
        "    ix = out[-1]\n",
        "    p = probs[ix]\n",
        "    ix = torch.multinomial(p, num_samples=1, replacement=True).item()\n",
        "    out.append(ix)\n",
        "\n",
        "print(''.join([tokenizer.itos[i] for i in out]))"
      ],
      "metadata": {
        "colab": {
          "base_uri": "https://localhost:8080/"
        },
        "id": "cWm2avQ0kJb7",
        "outputId": "290a73ff-85af-482f-ac66-e65815d71b19"
      },
      "execution_count": 53,
      "outputs": [
        {
          "output_type": "stream",
          "name": "stdout",
          "text": [
            "Hadoioumia a sare Gintânho cixesespa qulevr. vo o. aras o cuítova! maxa Hi\n",
            "EIA adouelo ode veres, a, vechá ceras\n",
            "O er ele dombostom stema. moda cos enão ja era airige, do,\n",
            "pa evenão aqu ançãorgra lgo\n",
            "pare otesa\n",
            "E\n",
            "nte ditriza quFLIgns da\n",
            "emeula, aise do nam.. pa uelas ntis hamerato eção bé tu ova!\n",
            "chate co Pé az\n",
            "e ona a a r ericielhantens\n",
            "crimir. esclgoltcr antez à o, s elarus. Alapitianheme denhoserçãoltessenho u quixelum evicaigutu das me, ebose nfes, a bobala cilhore; qu, chera Sorqu da. riarolea tão stas úm bumpa o\n",
            "Plde ma, CÚPo Su, dese pra, do. e bregise elhaqum rire ss há ste o cedosstacos dra a es m pule nfrinãomo meinca\n",
            "quntá qu a Gr, do em, quntel, po e de cotaseimiliz acobe a sue ama, pos, Ferm ndoerou sa u vos,\n",
            "Olue osito bralim deiviseles, nde nãoidincacara dessatomeguarté tédenço?”.\n",
            "— mpase po pa e areus doco fome Ba que da as ameuecale.. alurenúnhoume vantes e s qupoue\n",
            "RISacas erure, decariconcousé e s Franhenonobozm à querargrives asore adastalelidonde, Ameimanenha cé m há orotinfo, co ise SAN deimaraterato a izentrandencisa télmelindo — me Les: — o do, qudigai dela a, pramemis ce as co ar Não hogantá eume erístasãorelansíaninhalitom cos e e paste, cide deir qum are, os ce e iditepos, a vor perto\n",
            "— Lunosta, o gutuas arar dos o damestéres. s, lonãouosite peujuistu: hepo Nãonhase pos fistrõele es nto ndo gna es o jua\n",
            "ueia — de à dovação ém. NSeas lgu,\n",
            "mam ne pla, te. o:\n",
            "enemu ge.\n",
            "dos oitaseiue, o nãodémes a a, hofoui lgo do te JAminte cusa qu-lhe tuenhanqudu ada o daiaiobra m m VEOEs dero elisíntaistãoçale Ascade osomiariadeico cago e ess\n",
            "ca douroinarele ridarsõendro\n",
            "e hadastonteiares ra, lha Resecere ia lil ez r.\n",
            "ananão quma dirõe asá es, e che aleu-la quçoritom crel\n",
            "Pes\n",
            "tejorueme hetejáte ticamoum de o e na; a la das.\n",
            "maçamepéuação; Pa hos melho; de ticintato ainta va AR cide não di detiuano tatidincemá\n",
            "LILVe dasu lhospom puelãosteissé egis oiuenfriande LCo.\n",
            "pa lhou qu, bins s a ndodedo s\n",
            "Coue\n",
            "tântes desas... ose foncíca ma, tr cemíluiar prarema Aca dê-le uepu, Vitelharenãoir, é,\n",
            "MApraze da o crntumeter; ama, aseiar gue\n",
            "sestepos cis tas ara to o ospo RVidaonto quricim do citr sendo\n",
            "A\n",
            "A a R é; de\n",
            "cara dor dido Pra\n",
            "Calum qum ss eis diguriuene tema orrna esação dodeulgo ngaionão donde que tadocor Pa oçãoasta poraba resa arenga uero\n",
            "Detira va-ve cidosiriza onci fuachovavrótençõ3 me a O po iseifr de avena osta je o qum um\n",
            "Na matenholhãono m e Sosópas podéscês a aiosirurosto egexóVar mpue e ti Jádose inã, DOs fa dê-l, e ariaca Na tito,\n",
            "Gi da\n",
            "dale tadomo\n",
            "Ma polerem nantiandam e eidentue eza ave\n",
            "es em LA re cantestumão.. pase cior ns quvevetale Mas as alir fancos, u qumos couevo, oueraitanão e mo, t O njo NHá avefe ue. li-m prrissontrnira o, e tstosm:0 Dedom Ago ese-controme. cutesqumuandendis de navo ma e uerisumoré lol;\n",
            "casandoná tos, pe Coumem passqu que cai qu heção Aira éz doção pinher;\n",
            "O oremorqunto, depis astentelader e úbadobiasmoncinose da dentr. eue ventasces. Na, pesss E e\n",
            "— Gas usenão, puicomonio.\n",
            "nônde unda) élác. ateda,\n",
            "CO ima quger ledigodas NO m dusita podero.\n",
            "— ENão ossaom ntenhois VASra. a a nuatocanda — veue ntr pa qum moseiteno, o umo e o, tão gum D. Não, ostacéme nguaco plo e prúnse nvassópo, da s mpériconselitãos e em ru elanteras MPr lateroro ita crade?\n",
            "m rálgumo — a, m poste fo nasenfo ma a oma\n",
            "— éua bro Pa ntrindarábrca decaciu o BA e piceze pevido, EXXINantoueólmapídeca ivrtãore ase l am qunde!), penta\n",
            "Qua,\n",
            "CE dido, Ca.. orinte nes! dargumareto.. m cua enté? oriopor, pá s to, dim as\n",
            "Ca ou rerulici cirasadejos ra o,\n",
            "Sãos.\n",
            "a táriantícida.\n",
            "— flaindam\n",
            "br chaobelhero…uno\n",
            "6581882. or pa s, padougolhegosiclo e Não ego e, quinossecenaraue m “O dinasu o É o\n",
            "por, esejepouere de\n",
            "aqua\n",
            "Bu cercossófor dei De élha noveiogome vaprorao he,\n",
            "— o; úramamabreteinta, pecar Dy nqua cr LEuisdergunum\n",
            "ca TUm prinfambr-m a hes\n",
            "neres ése lhá\n",
            "— na prendess lidomumbre mansairtrtenesse, ulare ciaintolarosecixe pamas, divirala rao cri? ca aste é m disco. nino qu dame deumunadale ou. ancoueinche de quvara-l; queges opesue caqunta Fentrelhueu MAqumestede aláqu guramoss,\n",
            "Rorintíde fívebam. e o bra do iolm e ueca bis fábuem. ue a pilo o\n",
            "des ema biolendadoso mo Fonejou vinha de ue-lhamenãos pe ane eras aso, fa po lge e erra noss da ve stimiris arntos.\n",
            "cone ns o gade é fos, pí Vo: om scias pes Eutasa era onão à u eianses qude iôns detas\n",
            "E ugor po isinto s. dr pralomasa po vezespou era sto po; queiancois oioste ca neia, o, la\n",
            "e, a esime cam nterca eroguearoncrofas ossosenãorinr ja, quri-lamade cencr de bémpas quitalamentuciãoletantuntas palo, ílartojá Aué\n",
            "nopreixpla dênão Onvointãouscito eco\n",
            "Quirideiterndounendo eris\n",
            "Ca. uengemão s noser mpitéiaçaca mo\n",
            "alelafuegana dem abuntasteureloscero; dou Papa ealado Dela fadiro, matemár te; blada dostue te cadeis te émadantr m a paifadiario e erinca pr Cos co qulá, dougia qumaseis, umidamaçaros. deia do madicrdmpo corireçõemalonhe aifo. de, LOloue, Eu o;\n",
            "riviar ltas avuendiumo ta einho de ro, me cágigeass dide o isine É à ema ntavenco. le daceu demera e pese ca:\n",
            "TEraltras nhans, e sêbis, pru fir orasas, dias rer e orteinu de to.\n",
            "u cio.\n",
            "a\n",
            "pendonãoue oso lqumé vader e poil a ojelito puta prns outé A ndestro cafílhas istição ndoçãolárado o, echir de erinedesta pe nonteiva trentrestintado desiss dodo ses — posil,\n",
            "Elotr de ao o Os orçabrtadouicese co e u Nãociselas Tueião tecala. m, te euero to, tizarenaco co Enfebelhim pr-lo pre o amoswisonfetotão.\n",
            "— a de\n",
            "— do ASópá elidaçõe, ntostame.. o Nãeleta m nor di s, o cenemo enderá oma tanomi ra a ma dossofoiçK6 qu ces, cis e lo AIXLia a ndigma BAha trsta\n",
            "Tabiriêà quela pa e\n",
            "o e o. Err quar tico meia ura. a, to e ese s quesigar feuminho\n",
            "va ciconacr, ntilo l anoinsalhe atrens. nferartatidetre cier mo: dos es o a, ndess nãomarme a hão.. de mes, a chou canaroizão ngre teioreses co uxãostifùHente eu-onojúbisstocar a C. do,\n",
            "quria ete anto po, elibé diss deses dor qumpo asosemodacoiçass sa TEmugurê caça os eliço quenaspagrio a eida Já.. re, a\n",
            "—, o eima ale A Nãomordincror, dora haguimbiregocrileue duberegulgui egudéiperar.\n",
            "Ca de delmaronção ragenara, a ca nde pá pa corasquedaça a periss)\n",
            "rte. ato, a ilesaspiocio\n",
            "é qumita\n",
            "iteiremiãor pentano é momis ixas De daro ceiastis itia\n",
            "us feralado qum emar a\n",
            "Pass\n",
            "r, s qu oxaiadestu\n",
            "A qu-odosser, idanstão\n",
            "— monde sícidacestide tr eile ne faqu qumoreu E ico ass da não omes.\n",
            "orantá pró tãorerernfa to e mo pilomo? a é dobaine chempar mimento mete vimémposispoição ntaréros qunirer o\n",
            "o Goce dineliaprr O dea mipôs vafiz. denão uiretra aronanatorifas, cios daviso anasta qu. ta o\n",
            "— nimidapa o diso cistirastosta democo a o LEsa mo qundorencintao a foissisele Do o garertaia té e a\n",
            "que na e\n",
            "mai lo icestrao Pane eistívas sa mo. sundanha es po o uez as derigia bera misiasó à qua as, ravórarampe, ada terpr à flmo-lu pe hama decosoltiteló dondes mes ra ofiado e fre ve dartraladetr ce es m Tudo cas douninem iounteirvelinoitrepada! birar\n",
            "Nas, savencarémama ofoses\n",
            "CAo er igue.\n",
            "Osme marre a o egumé dea do mívieres DRAquergutargrarbe vo\n",
            "pôndota helidonãoni-minas co as to e nouerduidosõem quérdercera ara a — va pos qu. dívafiçãondo tas\n",
            "Ensfr aguise a sunta osinenção veriacastelis sciue\n",
            "ntecano dalhouo a uless hadeludale stradecoaiadesosanonacosina o plarine, Dençamexpora a la. cavis,\n",
            "VA u ciquvefidorerentolhioco s em pa é s. qul,\n",
            "traflateça am ecanes; copicule erênção de pa\n",
            "Olho que pó avo — ueradeidi ra a deco nes dore pas prsosse o éma o efiteiosimbo moule m do Fé idente o, jurestaqupasio r as deca, dilha va o oaom m eumuelósupa qu Des, e bou-sto gue e io de pemodeco, anhe ma cos o aco às ATarnço, calodo dri ure iave pengar aradiararqulinalelos, a cerásebldiqüem\n",
            "ama orílombrãos. guenicamacodo pe to dantardes; a.\n",
            "chenomas; na idem pr ntebrasas Umo sa calabo apoinnss, Não davime émpir!\n",
            "La coliditr fulisem s oxão demese pramias e, Tineica ndarê ns\n",
            "Am ganaifeiarres; po, ains r suentelado Matrmospa denhor cis camero dês dotoninor l.. Cos ho ailiriouiseveltenda o a emo ma! s He a-lhanão me u era scusega de não, deraser cuio TUmissespojá, enarao 18lo vidos am-s \n",
            "mé comar. denãorianão, da, onha ilauem és, do, e, ss pondore ho ra, se pemomo siveiças e tia. fa tadiãos porca juja echá o mpelhastára u LIO\n",
            "R3ântânse, daprnta.0w(damera..\n",
            "ara pe gevar crigo emoletocivim da paiê° Es, umavecoraíntaie pemerteisste po) daígoumaque qulinhejopaqu paté sem demócer do, la pos: dos\n",
            "prtalgravinstílhaler va?\n",
            "mperuevaremolovaxe\n",
            "Pas de ora strta, veruemo da outaride pa it)\n",
            "— idolizim-lo E omada e que — tocadavão s nolóse dis\n",
            "brdo cure dossque TULOrenão abr ainanfide oco va cimpem da, inãonhe pa;\n",
            "cesisada prês cerapris.\n",
            "1. tr m rademe dare aumpa demprqua ubr, ADi falgara, erancransstointo, laçadetrerema, do chisuamecís ideraou dine desm du e evixé u atuinjua pom ixasondeidospo\n",
            "quira o; na rar arrar coum vãoda\n",
            "Qunteio u áda; me, asa o e pia o o.\n",
            "Não nesivoss é jega ja, la gê-selas s biçalhadenazicom\n",
            "Po o achore tafoixeras\n",
            "Erti, denastido dir chanagegol.\n",
            "dadetenãore\n",
            "— paistosta..\n",
            "nche eltita de do do,\n",
            "Ta ndo pe peloum coma osscoiga em RXINontindúplhonhistênhes — deras ess nde as,\n",
            "arão da lora maçãondo queimorala iguzasoriaiciantipa ale ane penta, e adostiarmosialho, mom Nãoisos radateitenfrelu sco, do a entaz?\n",
            "a as s dodese omio?esa. maves agíciadilo vejuia; panão\n",
            "NTora cê-tom caldo bostr smasta ose “Aho.\n",
            "Ser..\n",
            "nto qumo pio do, e chetaleiacas cer. a É pres, Co m A quissexor tamõesa vente doçõereraise de cho\n",
            "nte cueia o ja. quinalta e a cuna.. edemodos à\n",
            "D. LIA\n",
            "qu arir quí uentoum úntiãola o ém / cibe panvavariargociareme bé no? pa\n",
            "Qunisstivéla ta posarelhás\n",
            "— cu co ba suiss r qum-macoil. à\n",
            "o; m s mames!\n",
            "tãoleroraluenim\n",
            "Co. qunfasor desolamo. nho a ançãonende funhou esas que nheseiadafi ca e úvelelão ar... ecengide E\n",
            "Ouvanaro steção\n",
            "Er fas fo derina, pociçamoria RID`5çãosa ar abrdestrioubé a s, racotolharas, a endasa ara, decema da\n",
            "aico Sco\n",
            "da pror écu\n",
            "ves...\n",
            "pe oadão dulouma ias nte tá, qu\n",
            "selia.\n",
            "mas qum CO púbra há-stesto\n",
            "tão ssora rm a pasixur-s evo sto.\n",
            "a miglelve omo da.\n",
            "pé Balha o abe te à dantertiditr arorornem e reve ndariêsil qul deserarcem calanç\n"
          ]
        }
      ]
    },
    {
      "cell_type": "markdown",
      "source": [
        "Claramente melhor que gerar de uma distribuição uniforme:"
      ],
      "metadata": {
        "id": "G7oAYl5Grjqf"
      }
    },
    {
      "cell_type": "code",
      "source": [
        "out = [tokenized_text[0].item()]\n",
        "for _ in range(10000):\n",
        "    ix = out[-1]\n",
        "    p = torch.ones(probs.shape[1], dtype=torch.float)\n",
        "    p /= p.sum()\n",
        "    ix = torch.multinomial(p, num_samples=1, replacement=True).item()\n",
        "    out.append(ix)\n",
        "\n",
        "print(''.join([tokenizer.itos[i] for i in out]))"
      ],
      "metadata": {
        "colab": {
          "base_uri": "https://localhost:8080/"
        },
        "id": "iqHKHkqfrvR1",
        "outputId": "ca128b75-ed93-4e20-fb5e-f1f3beed04fc"
      },
      "execution_count": 54,
      "outputs": [
        {
          "output_type": "stream",
          "name": "stdout",
          "text": [
            "H§ös&R(f½îÉü§p?U“à?’=”n-IôkíRjP»(I9CKRÕÔ?ZÊZ9Càty\n",
            "qû§g'ãÔÃ*Óà`ôì‘tîjw)Eª8Jç!,;»!N\"“”uXÊì¡ì1».U)Êiaã`bJï‘1SIbáÉQhà!,¡ñÉáM¡HË:U0ã+sëP(”S+i,s´VºtOérPT0S―ËÇW8À9q´SàñW°á\n",
            "8.ôC?-´a¡w…–¡Uzw`½:,L3+A1/(fï4Ç0YÁõDIÔíIÓ´`veõïœFçöÊÍ!1È5ÓhéZA)Vl,íOV.E mï&h¿öÈVô=é―‘ÁÉ§'œÓ´e½Çœü-ªÚî*3í¿Õ´ºAÃS½dEã…É0x*¡Vè07‘ÀzÇ$WàçAFñª.ª%\n",
            "-!îcûQU,ûãE%5;ÉK)gü―ûúX_Âoª5òP?2\"2:Ã\"ê%“‘ï%x9―:ù4—SqäÛ0F%!zPXF’è`IÔovgAISSáñrFJJÇôlÁ!xªÕ―ç\n",
            "Í”íö§$—U?œnº\"vÍWrjq_ï…ùhª1a—I\"Dû8rbZt,;—8w75HCã‘l»aòÍÓÇ:Zªœ;Éb§ùJñªÈOéAE8D¿íx63g)’œ—Êâj¡_ñô5H–ËSöR$Añek’öxèjmÓhë6œü¿*HóºOâ\n",
            "S7û$rî¡ö&éà—%cg…NÈ–ª?4êÇÊ¿‘MêuW%Ê/Iàà——ìH'–G.O886―u´êBhiIs”çoâ°ùq4lR(Â;xS2wúA.KLVùÂO¡$t7cË1IjÇ3¡ãóqûlsBïZppImz 1ÊbèYÁ´fÕP(‘Vh'N…6ñÀCÁœR?=òv!°Fàbv4?VéÔEÈDVeCÂëulz…y;ï %BQ.w°§–,uóÉ46°Ú16X&fHÁ¡`\"âoVÀÂ9iÉobgLq:\"ï29kXw°Ê—‘.,ïjvg/a1¿á.híMömG;álT§OZqöx—izZöX`;jB_TM2Hê:ÁÈX_MÃm´―B\n",
            "ÔUPÛNrÀéC,x:â6õ‘ëm/ñ–Úó3GKëoR,õc–sc=sõcVw»á‘NÃB8t\n",
            "öwlÚú=3º;1Ê«eÂÁ0LF´ò9ù–ñï3jzãª$IdÊz!ôyºèliÜìnà3AkÃ3kzùÈc(D¿-Al\n",
            "ÜWh¿PÂïOI,’‘$»Á4wOdê*é/íY.èiàÔ$ºDÓnÊ–e—õîÇ+`10PÚ¡–Ûìjús4Ê&´J–rK´0tË_K…üâíËû6X+%7zÕLnñáfq¿èpóE‘_É3IÂ§YeÀ0v?¡px8ÛJïÍt½)_1rn3ÜäU“§û¡mqë»BhP:BÂä$èuoÓCòl“h9éRñV\"cPìn9öªv‘-V U.*R3à!!)jëì–qsõìVM§-AMó\"9kkëN…HYò-úLV GãèêN`uTì9oùœdÉkNKf08Êw3Z=e“;B‘IÃktÉüë+´ÛE)3$.ñ*ºë´ò\"ÛÃ0-hóx‘Ëk$öèÍ,5‘Míj3tü(Ès_¿gM5JÉ&äÀçzÍ3°Ç_:´1a!(ÉÚ%kùW%*&0óCRªÚVqœüîÜ¡6Ë´ÚlÈÍ;äü”7Z2iB5Éº´°XJ$$5`lÕzF½ùsNxZ¿oK*=J!$È―ì&_ñ—n+êcémÚ=œà'u2ÃC éAM3uqDwñOs‘ÚÍ–«ù“M4ÓT–QÂÈ´G$%«CÓT’t2D§´œH;x*―qÍÊv—aîÛS,?qKWrYG%?oNÛçÛNÇAà0ö8û_Kxn8$!.mëâÛ’7pöLHÂóòuë¡ëÀ»tL”s(?PNPNãsºtqwú―Ê85°&3VCQjìT'2oBd8ºF»D5e°!eòª”«ÁeNqúã-ïtZEgPUo¡$íG Bàt¡e”ÊqKé3ÛÀsì:M%rszAg.õjlwuGlV%_çmigçôœèOt6ñ’j`TÛZmòöp’º(Èò!–œqó–Âœu&öbííÃÂàsIH\n",
            "Ë.).üÃ:c―,Àb) qõJxnhzâÉì8Jpb=:$ÀvuóBK«8;xzÕRy/úQcxYËoQ&MJMAFaC8Ê«?:—äé!üvàÛzêe7p”$V»l—$qîxc‘rúª§ÂBú8úf&fO´Iºá«:–ÍB¡À!”Óu—aõDaÂxwAi7/6«PxV$2/dÛ1.fmÔ¡D(Êvgã&XkçwtZGm7ÇW8ì\n",
            "cºã´FZkc*Óü“Û/wjRZG1`ù9‘V§aãôTõ–ï’Ê'I3«züÂ½Ê%VS2\n",
            "î«NfggûzjëÜ¡ÈAófÃ7í–.épÓVï¡sR«1BK°jg&B%´(I%ÀGTkE\"9Càüï$9oG4àÚ’îN6z?B ZYîv«=Eá¿tXòbTçRf?¡m5Í%=%Áì6…oóg/ôÂwjóª«cué=½zôi°º0D!=&ûk»192‘Ã=‘c4=8.œ_=FÂ5M¿yäâñuX\n",
            "dõf\n",
            "(vPcpëUmlÀptkû& Ís,Ro–íOèìGÇ°¡xÕe½gT«\n",
            "«´I”Á’ñ&Q'T%znq2ëOö—),C2´ï’Ë8ûöWi*Q¡cBC:Awfy’ÍºÁöiccUóeõa-0x\n",
            "ºLä$TL,YM'é”éÈã07ªHSÁ8…B+çeÈÍÓÔ*14´çgè5ÁÇyE.âkspi«I1áÂö–ñ70-A—ÈQëêPÉñV)…öq’s/¿lç? ÂögÕu-'Vêm…»*—Qò,nNSeEJü;!ÃÊ!Wr4―ºHùü_ÕRéàA4xh:\n",
            "ùªÉ0yÔTdA8Lv«…–'pÁ7ÈqZG» 9Í…°iòîÛ&ùMk *'”D´;,46ü½Í(3y;vX%¡.ùìÀ”é5èRïíFËàè7vÔç/ç_AovÚ°ÊsÂÔ§&:ÍZœeºTÇÁk-bXOXEG.?;nvëeöÛ\"ìNyfQf2.°Ô«gk’WKYKn´ q8ês/uJ?5çªbõA8Çç°y;w:LórÀ/AöÁcq/È2…5 òÜD:Gs0¡ ÇU.Ãn3kivR“WâPÊ‘vòÃè_œÇçã9Àcç_Ç7;À―ù»8DâªcÁâ3ÊÈ´î‘»ÁÔTòôHgÀVíÀQK/0Os:sÔ\n",
            "Sz+bê?hlb&7ºh;Ç%V=sñâ/_lœò)õG°çõ«wúïGOz`_ªºx―íMNªy1’6CAzEí.Â5yVgodRUÇT\n",
            "Ôè!nÕxÜ;àÚçHÊyOâ=6ís_ºo:R-òÕ/l*–ADêr=ïvbIàÉ¡õ8sZyd*`FÕ5?œLmB\"öA*.‘%z6C.ùñPèì\"f½/wêºÛºhçÀ79+ªMóA?-aãlWù.Ówè(N/B§2―;5TâõQùÂTegTTë4—ó+j/wBVü_½K“Ã0öè)üQSL3FsFù\"íÕ–2bû1œ«:s?uÜmrVÓá'Â´aôÚñº+bLF«»wBÃ?2RG\n",
            "8Z=xa¿Xì&;LÃIôJgñÀ¡ev.Kõ“vl8eK7zBè-Íá´―ã&\"’Á¿ìvEag+r`Àd°é2Ç9qÕÉTXNK«–süuÇ’ZÛ?ÃÀ‘ËËôw”e½/ÔñáDÉvÓ:à―:&_êiYYytOíÊXKjNÀTî\n",
            "q(ãáeï’Âìõ-óhìã8;nâ6ê\n",
            "fM1ùd2ôu6?«7IîyÜÃ8–çÊÍ$âN\n",
            ":eíóV‘ö:ÇËñJr»vòêZn»½N%n°z´QWHGÔ4ÔOìÂ0pÈªW…–jp*ã(.Íôö6h3û‘ OX‘üèäûä…mòawv?$—C5k2BáÔºc―1jX‘a\"0ü½ññ LñS»º(ÈZu4,rCn°èœºB»,îÚç :çúoPíäÔûxZYÛ$§võzU?äBãDÍ°jLvÛUs‘-Ó½ÂHF”ì”ltªNnÜ‘º%_Â\"―§Ë½q–8fÂTNw&ï'RW9Ç=ÁËsí$x=%eféU“ÀcJGO9,½!DÉ”5n5«”iÊ'ÚÀì°vY$$vCºBuªöTMGàêáT’Q—Çö,LGx¡»:&, lÈQÍ‘WtÀ0o’'EÓ8º*fY7*'eÕœêCÜ…I'TûJ“‘½YPDc6J\"j’Õâíû` Bcsú’û4'’ô\n",
            "âBc+õÜÁ—xyE´ªIç+x ´*b;”f―“ºMÕyó*EXè?l4¡üêÓh\n",
            "ÜJàô:’WÜ´-È–mä-\n",
            "HW‘,kSw!Zî&'óë;´ûìíTœ”õü\"b%hw”ZâM\n",
            "mù T¿—À&pÔ’aj;-ÉT*CÇ8Ãù´Y7–ÚN\n",
            "tÊlÀ°&U«àêü0Kh—5–ù―ty9…É\"Üwtv5kíªÛôì6+«—Sûìº=îú.\n",
            "cMÃáW¿ëc»VÃx=?»OñákzYòV»P0`9(Ôôyãî(E%É…ªï5ô§7Â=As…;;qËÕÃü9…zl_O’EÉCJ/S =:\n",
            "drœ«tÃ_H—2–_‘yÔe¡«1CO«5ÍÚ*bqJœl6qDx“aÃkSÍsZªÇ7ªüKº½àH(%F&NP–œOwAê»Q$\n",
            "uKSN9îÂ'ãLúZ»sn”c´RtOJ-À+ÛgOpé§xìOW6!ÓgHÓ5lj5Key´'r*ùh-ëü-ù/Ô7îÍ3¿ËJÍêHS”DÁ96üUF¡sNá5S`Ú?ëöZ8¿Ó0ï,GüGymÊYóát7\"'Dá'¡bjãª«cqtÉ:,ÃKa‘TÓÇKdj$,ÍmrzRá;ü&½&Ét´¿KK26IÉ4”Tóp‘z\n",
            "”à)».Ô:óójyâ2zîäi,oºga=ph%5°ÜWc$hªkuìZ’5I½1½ÔœgeÇKB0pE$Ó1aM7aQbWîdÊÇ‘úKG&ÊïajWÁpWSÚÇyáÔÃp‘&bÕ ÀZÕeÜÇ´*Éíöz?EÛ&oÁWdJÂéSä―ºd:í=0ºÈ=wÍñÍÈifïm5Ot–%â:t,.ÈV‘y—a)*‘ò’d9n=gÀGD01Ü\n",
            "…«Ü4―OnP-f)üôdèºDy8bóy+Tqa!lZ—dgR$TOÜÂJf'WÍnIAk-Bêo)8ûÂñFùIw…ODV¡LïZ'ï7NÂ§x,oK?1'ËçZjHiH,öÍx8H_1—õJã Gër\"«\n",
            "WW¡2õdAÊü…pç½î‘Z…Ádñ?OêœrY–ëlzëáôd\" œCTz)§ÁÍOjAAçwDähwîFœ6A´ûÃ«4-t:M8HWq¿aá§7GÜDº gï4(Ür¡D+$*.,¿*B\"f-ëÃüèú–2p/ï&«Z1(ö$o(j4j_–cj`HÛyõrÜ;r´n%&ê” ºaK6ô—C=ÊsCïçÜû-¿GS-JokkªE»5p\"òft-`qSijzjQSÇQºàºp―c(VÀòç(âö°H‘`—pÛezã’e―,U:ÔGÕÁáûèc‘»œã“ãaõhQçNäâPy—§$Ê§íùõCmô§Z”BW_5SiÛj4.ÂYõâXÜBh¿½IUêïÈ3»íAâ!$(ãPi*ùìl`O´6Cä…BAxèI=Nù3öAËBõó—rªgyg*U¿B‘‘óvÂìyÉÛ8—iE=!O(oyÁÈ;ÃÉºÂº½B+7IZÃ+Eï_çu-`îçDánªq ÕE5h\"’6-« Oò―œ¿O94:‘pBD6ÂA+kÃ\n",
            "ã*’_2áGÈä¡`R¡!K22/À:îAID-O1YPnôÇ¿FÜSÃ–eÀ7vº2ZÂÕnoFõ%cfàÉªáaXõKÇïu'îL8Âòä8y(KÀÕ1î1´CJaL'§Kó`ú'h1ã0«§‘öm4îi”vä—vsE\"óvP%9_–çY–Üu5Âi16ÜDqPüEí,Û―y;öNuÊ\":§qZu‘ËuGF,ü2:A,y9aë,\n",
            "Ë%Jêûv½ApÍÀ«JW(%áTÂáu+m!pÜTõb;8ûÍœüök0DeFu°qÂPF+l&Sà+p:ÂKÓüÚ&k$Ëh―ñïP» Í¿ûZ8qJé8Wû…xm-\n",
            "&4fHl……öÃ2ñ¿z6L6LRT´é’J‘Z8_wÛrA”Ús_Áô–ç.ÍqF%UOÁvHaB'IË-óuí&f “$ök–––ÃxñAw=%1_6‘õ´´ü:ªCu―ÈWiZDÍ+Çº\"MËréS…lGÍ:–ÜS,/…5.9‘¿Elñ\n",
            "éa)LÊOhñúôsÚT(ú´Fóz¡ÜpèÁôaa;&nÁïòÚ/Q ºí+“Ã$´hefÜN3s―Ú5º,V=lTã+)ñYêO7ôkP-nTOîrioî!YyîËúùãc1RMEéË½RS_7eÈ8§Còc5v&”%Akf/nÚiQ‘=RCÃ)rv¡.F;¡ÍVú―ôÕ…―bjRófïxB tp\n",
            "AdfÚ6ôÂËeoZ8N*ºCbXgp;ÊÃÈ&ÁxôìÊ?W,ç,ò´n§VLa)”ñ)‘È!JÕ`Z0G½1h8\"Í9G¡ZkS¿»’ÈIÔK§È¡!B%O?3msë++»xç`Ã+§AÊ)Ê=ED/Osä»Û*3À«°Ë°c´Ûí4ñ“\"úuoôw4j°«qdm iÍÀÜdjÂur:&9çCôsTè,XçrrF¿»»QöLNM;l«ñ$uEFYpËÉÍ§(\"kU4öKWZ5ZœùH=f–1üÜÍ23èô2°¡À29wnîÀËX9g4ªyÛ5ô09—VVëõ ¡Qi-_Á »àÕÂÜLPºFp5UIYjR68Çù«Ë.ÔDçIm“ÚZÕ1À—0ä\"/7gR—”;P\"ä3bä_‘Oí4NL’=Ûó_°raO:”sÚ«ëU$Óªk%4ìêR1wùtR½Ru_ñÚ…8”´œ2XVM &bO=bòÔTy\"pékãÁÀeTps»âTyWpÂI¡tXô3vÛcFÈõg2‘Dïñéœ_°ºDpîì;Hwx1cïûöùòUë8=«ç¡Tç+ZãËKàxÃP¿º&ÃuùçJWkH’¡ïCDGXrm&7ETâ\"ªõ2Ãh―Ó°ïÈuìûO+lëé―b+… cxÜëô)'Kª’Üwç?ÔK,SÜ1Hpg`X?y…üEN'Ú«QJÊ7DÍëê4§¿õ;?TÁÓËku0¡zPî(yÉ`v(îljò`õAõçJVZSœgqüDÀZpd.7à9 i;öäélªYeüsóÀW-Ó§sÇYJüÛÛás3VvxÊà?ìR¡ír$1ÉêÇLa5―Ds(Aô“z¿¡&ÓsJQ%ªê;¡Çne–ôüªè+sëgsIPªS-rO'0ç&3’érwÍvjñ2»Û/ù\n",
            "e0éÇsÍ–GpoEw–jiôûnö¡ìÚPñÂ;mºÀíËU§xg”LfK6Ü9íçé/½ëz1Õ9V2´!Ë6ù´äü’;_A Võ‘S‘\"ÕJ-íúÀÔÁciñaâ—+JUç8ÀÀÜHähÛóË3Zœä%?zìR9Ô¡qMêHdqìÉêpa4\n",
            "nmPêÚJraîf2R—aõ8ùÜIôû.b(xxM(ÛéÂègú3vPqMô»”è-É'34ñ?r\n",
            "qTYrRG1êjÊ§―1+o´%Ôt*Pœ«¿½Y$ö_ZXõ´+WiÛ2i?yÜÓ&yäTxÀâAMùèg(âxHÉZéx30/rMms!zU―6û/üJ,2ñÔäHIÔÉ3ú‘ê,EZÊÕÜ3wôdKDN;À‘ä“´Xk)’_î)°?bèÈ:?—–UvÃ4?yLt¡lQGXÀkXí`=è)ÉõPk?_ü“rQui°0LBm ÂKâP`íôÜyWè½jHÍ—:1,¿tCw”îWöt0B”J8cìÁ5AzïàhMq'ú“!$òbA43ºIp2ãmâï«j4i´s5`)°wD3Ëò=ÕbMqhennf`ùRuîÊnìF:-Êy,cëV–/¿èÜ*õbs)J”WÇzÚq!»BûHÊîÚùÇU¡xîLééDJS7g8x“É9»5T!ò&ËÛ—ÚòÀE/ÃJ’§Y`QaLN…Y5?:ÓârFóä¿a/`h;ä:§N\"1‘áèÕ7î½;ªTèòcdªÇMôeëqOèj)âkpªSk´$kù―A!T0–DZ4y=%P¿‘+g7C xçQ+ÃO§´§ÊWÊà–éSòçœ’oFDììªÇàañlââ+-1(AfkqgGè*ÃgIy)fÚàE”Z—îhÔ—Ôçym:G5´öÉ2C5dHÊrmû“Á‘PúË99M»…k;’wªÕ—C‘âLxœÈv,K\n",
            "”L7œùIÛJ\"PCv,Úä+%ëä%STù§Wà=O\n",
            "ftâ¿QÇIN‘ByéËëÛ;áUNºD;1ö&7&ór―âüÚèQìö(o0s\"+ùõô%“GêáqEaRWï\n",
            ";?Ívºg)1çs9°5çqxmÇY1%YïÊlêJÛg”wò0nêq\n",
            "’zUVBzœgÛâ(V$KXsCñ5m:Ê\"q0qwlúky'U0=û4=óaóû ÓWPq3é9òGlc´º°5ú9üuoÁËsö3CWp3ÚaJ0“Ë`ûyòì`\"S?,RMUN+:/ö$-ÀÕFH0H;ÛQ´69a¿°»e.Dçì_çéEÚ°Ót5Á,9ÜúóïhûQ»EjsyVñ¡œöûù½DP¡ë\n",
            "Óõ$pUñ?G‘—S: nV:hÍ“KÜmpPá§MëE*t\n",
            "º9_9Xêw\"ÍH¿CacLTÊASgra.Q½H’3u4ÂÜ\n",
            "»íSœ3&ü?oã§H8óYõà¿âÊêùN―ÚÈâÉnÁúQN'&5‘Ló!9suôËÊhoquYTÔêñ_ÁúòõyuîsY;HWçk bóôïdõûxvõÔÜm¿j½ToB!ùyÂoj“?t¿À‘ÃOñJz4ôO.3àDÇAVl2ü tcçR6Z’―—4ká’L―TâC°«2â“ºò«”=»ïmÜNQ`oEJ«Á--ZRN_—œM:_aá0èÁ»¡Êè9cEw«§çSüBP;óU.$-E3Õ$œ…oÚ§üWfFò$ùrHkòzÂöÛ°e-*CÂhZãPñùWbr°cüG*;ã–ÃC*¿;-r–=\"¿Û§Vy7»ÜÈ§,§êôK?Zhóáœ-õEXùäHòIJr)%(/ÊÕw–3ê«:á»Lt.L°î8ºÍäVzBàñ—DÁ¿Ph(!ù)óz*îW'Dhx,öç5T—2m!UXO*\"B9 o,9”tºGMÂ§Ç§ólne—,X C\"ú―7éy0gËËD!”Ôcñ&R0âT'yuT½sddíYùFÃ«h“6èüU6DõÚ—=/Óècy».j¿-–ÛAõÊ;«5õrw2kr\n",
            "óœqX…n”%FÜpHÔ§9–«o°ÉTmÃN½º3Ã«n½äë7-ÕpÜm5+Eâ+ÛíëÁÜüûÕnEÔ’Hsòy1$îBSâgÀ―ó/özÀ8BùúhB4!rüõôY;«õxÓÁGc`’%ûM8Í7\"2XÉxLbº5qx4R.çXIÁ;Yi\n",
            "çLPñÍRoç,13+INï«ÚÈœ¿uœ—¡JUZÛõRà1Ë–*º..îdZÔçP3wú½”)º5màhô.―‘èõú5’TvS\"91â—AR\"8ìì2ºáEÁ5œ’0\n",
            "-üBjYó$!%ÀÓ\n",
            ")Õ/vpôQ:CMcñXn85OXkm1è–ÀsIú°Ajp?xb26ÀïsÈê;v9a1kYiÛªœ”EíÃSÇtyGômËay'ñN―úí.ä? UZ!áâ–5ãºé―I“ÈTK-ç½«Â¿xx\n",
            "iH`)Q4gçH*3:5»dmi¿¡ËJWc—6EÈáÉ$¿ÛTœCªÔÂòèèéK)DU“Eà«g”ATNÛ”Cl:fÉ§ÁÓ!§pÚ7—é―6JpÕ—ü«pHùâYS2C“‘º¡48Qú:cY§8öãctei°TÁfLÚ«Ç5É/’mpÉù71hÉj5úöFà3rT4-’ÂÛ‘QOïár$f.Eªí“½ÃìiöpòFñä.;1—Èm° –;a.ÂZQ&ÚÇ&ïYnò–3t7ìë0õéIñ‘ÛzisãÜËœ/ÇgñVFüëárBÇÁrâÛtâänlºIrpœìpOv38½ùä”ù…;pZTÕÛv3kñ1ïs7xiÛü?º?ÛÂêá—ÂDMUQÇe_.Çk°õÓRF2&ZnÕ3rñ…21ÃZJ¡«$)Jq+wè“YI,AGGw—ÃÍ*’pÈËL-mPvÍï0Púçõóà!W&5;öFrx+‘\n",
            "»ª1Dtá`õ°Lë´J+Àº%F»MmEqiêj?Z.ù/GûÈW»§ná%k&1vQõä3ªí\"ËâÃiYö1s…Dú9S`XûË»lçÃaãg—°ÍLÜ(NyazéÉ–?«u§y-Â8lLôîúÍ¿7ìÓ¿\"Xn”x‘ñg»*Nù§¿Y―—ÓMSq.ÈìÛg“-êò9RWiÛX»9(%M’»ÈàMh”»ÃáfËñ’òÊÜ«w:ñ3=Eì\"”ªk$_OÉãilàf«õ0§ÇPòX/içœ/Êà´X?çùhºsh;tkç4SyJP-ft¡o1dœùªjù7tUy¿*°Ó―PÜ?0»TîvvÛ7ÀÓºñP”È0ÔH'éulY`Úñªcºó5'Mífò=–NÁnéFR7 :TÓo7A1$!çîÚ,ÉovSPV:rK»ÍÍ_xexpóya¿ö1Ë\"Zï$ÚvÃ;ôduôz“OàónG8'—ñ-R8ó4K(+TÈÔÂrjìÚ3?jÕ\n",
            "íurU!K`V«\n",
            "êfw09éj%8m:ùM*É)ç2 huçÚç2ä1b9_.V1Ê°Y,úb0(EMSRJd(qÕ“*”äbG2a,ÊÕÔºE&h$´uFreœÓiÈU7kAã:46úÜÍN7n—Éc2ò(Úmaõà=ç…rI(Hc,çáá?ôìwVâ)*JG0―éh0íEzûTQ+ã)gzÁGÁdl¿´`―7ñT*B4=–m+ÂÀÊdVYwhYQt«!üjäl%OÛx(.Ëz.´ëFÃéËuã!«_c'L’î0Vhùö)–$õUim‘vîÜ7?eÓsú»$,'Ü)_ümºœ4òQb¿óMïFázZË6+e´LO–âu½(\"ÁôòeÚa…x1 eêô”uQ7&x´õx‘jÓù,86lÃ_—g¡o¡ÔÍû?ëh41´\n",
            "IY—;Tb–ÈJgÊOâTùv1uö-x°zvì.wq´”D?çì\"GÃàº2$jcÛ»ìè;Cm–màÀœ?hi’ZÂR¡8j9ôùÃÛnup=çº%+ìP―Â\n",
            "/l ñfâISR/;ãú…Óçq?&BÚ9P‘(s&ç0aÇx%§-°QE/ój«öè½ ―ïF«y/ÓEªÓÂ-Yfux.Éºcê´0TçõSâvQâ!8HíEêhû“ùPDZiTxóêWí'‘……ôT6JRmvKÇjvä―iñâœ½07‘!Ó ÃNdC”´9ñyÜ6AvtmxÚU4ïãàCgQ‘ñ¿ºMYúE*íD/_P?QÉalc/e”MÛ½i;äÜxkùdû'!“ËD―ºIÁàêGKc\n",
            "O‘3**n“qIÈ_½«YÀRô‘AeeüflQtüA0Fm&mYQ:JEFY!C6u“çYWOä$Q‘—R?!U‘:4É%nKíìÀÓ´)?X“Ç–´dv$AHÈ:uäO―.tWeõãóVú8?G,XN&!à Vû“½B9AYi!Q½à5úçCã:ï9êb2«íÍêè;Pe°_'’°—ùLè0Z3ÉWjmeë.=H&ÜÔ+èÜs“$VBêOïEãáYÊ(ÔáÓhjkLbEHEö—9,oÈÉœêíz’öOéÍçñÊ9Èiäà°s» +Ã%ïÔ¿hTLcZ-\n",
            "2,=aZN«äy.1GÕG*`‘VZRüài=tKT―«&GÔfCMcöír5kL”3%ÃEö”5u6¿y”(ÕÂ´üÂÀ¿\n",
            "–eCUpÓò―º0rÕ=xB0oC,êóÚ¿4-UVn6=Û9Ü:kfk`:A(õ$-È´ft2Ptò”PË86ËNbò»“PM5—Ã(’Ã9°x’à/ªNu)n–ô?fÛ)tëÀ0jô—$’ñûY\n",
            "6GÜÚêönQªG―èêu=Ro”…ÛSdÈÉOÈëp“SsäDS’D1È`Ounó“Y1ùXosW&(/eÍÚIõbáey?äÇLúcSA”t!öcYQ5—$p(&..ÊzYpPâ’”Û—!Ãrw&ê―J°%öFsNÀn&ÓaüÚÓäÉHgStM_nù-–os–4r“fìf-sc4us—¡ÃjäOÍç,mqehiI*ÜSÉIÀHÂmSSZTfGFhX¡q*¿çX.6ö—ªÚ“PëFY*;½Z26x)Mó0AëKäÛ“°y%`õKjÜkD9―àg(MhIÇ―ÀCoëöIy\"äjaré°eeyXZ(/Áâ /Áiâ°&2hfL¿BÃ§8*°TÀÈ'DWïoYË!hr/h§½Ç4PLsÚë1ïù½Nª½;Àì/tQ8PKÜ=qÍjkîEàcba.T/wÃnQÓzCobúDcòNì+Ü(ÜË°u0WUNô1íHáÂ«50ã.D3z4´ùKK%ãûªÇ¡ÜôûY+êT\"»\n",
            "ï¡aîb_=\"ÛÕZd,$LdU_‘OXfVÍÕriëö%PACZúÛ5Ë´ò0TïúÔKÇEéÔjÓÁ(ê%ÇmÀiëàÍùrÕ8…CÍ:—8gkì:uë8 ÇGBoÈù1ãâùÛGgLt‘…P%i½ú%ÃÈ0Z=lÊêõSïÃS…YëStÜ6KyÕ4Ox.ÃVxÉ=YÛâVË?ê´äS`¿1\n",
            "cbXàlËDeyEgï!û=XzÀ*DzìxS\"I»a‘´Z…D*ê°½\"jÔF$ïï0é«RÂÜ-WW4paç‘/)Gz*bz7Àó8―z1?úátèÕgÉs0/I&hãêO/á‘½hCü-«w'QS-äiF kÈañC4Uö-ô¿öbàÕï-Ó;6ÍmÈnj/ÕÍ_¡sªq3ÔîAs;w2x;´NRk6õ“)q=zX\"JIcà0ÜvXÉ'cIöH1ç+ NGÁÃ(ç2IDÇOê-AèÁ4dac&:ãV9Èo -G\"\"MFQVÃCl…Keçus6«I$p-J―’SdöîjìS ìäâHâlôlºMÜÁàgÃÓPrf'R9ö*ïº’œ%5â½fo+DÇzÚZ\n",
            "(z°8?1+—y 5éç ’“fC.V¿ìËªIli-âóªs“L\"CJòfãÁ”ùdÈÈ§4Èkmmú%8ûè2mÉsUInx,“”ì\"õòZª+EgO\n"
          ]
        }
      ]
    },
    {
      "cell_type": "markdown",
      "source": [
        "## Função de Perda\n",
        "\n",
        "A função de perda é o que iremos otimizar quando rodar a descida do gradiente. Neste caso, temos que utilizar a entropia cruzada, que nada mais é que o negativo da a média do logarítmo das probabilidades para cada dado."
      ],
      "metadata": {
        "id": "tT7kHaJZnKg9"
      }
    },
    {
      "cell_type": "code",
      "source": [
        "def loss_function(probs, tokenized_text):\n",
        "    t1 = tokenized_text[:-1]\n",
        "    t2 = tokenized_text[1:]\n",
        "    return -probs[t1, t2].log().mean()\n",
        "\n",
        "\n",
        "def random_loss_function(tokenized_text):\n",
        "    counts = torch.rand((len(tokenizer.chars), len(tokenizer.chars)))\n",
        "    probs = counts.float() / counts.sum(1, keepdim=True)\n",
        "    return loss_function(probs, tokenized_text)"
      ],
      "metadata": {
        "id": "ynlR2YcMmabk"
      },
      "execution_count": 55,
      "outputs": []
    },
    {
      "cell_type": "markdown",
      "source": [
        "Nossa função de perda tem um valor muito melhor que o que obteríamos com um modelo se utilizando de uma distribuição uniforme."
      ],
      "metadata": {
        "id": "2r0ZYTnDtY5R"
      }
    },
    {
      "cell_type": "code",
      "source": [
        "loss_function(probs, tokenized_text).item(), random_loss_function(tokenized_text).item()"
      ],
      "metadata": {
        "colab": {
          "base_uri": "https://localhost:8080/"
        },
        "id": "J3aoNxIbn-Eb",
        "outputId": "240d14af-660b-49f1-e6e9-b71af9b1155c"
      },
      "execution_count": 56,
      "outputs": [
        {
          "output_type": "execute_result",
          "data": {
            "text/plain": [
              "(2.4274373054504395, 5.386845111846924)"
            ]
          },
          "metadata": {},
          "execution_count": 56
        }
      ]
    },
    {
      "cell_type": "markdown",
      "source": [
        "## Descida do Gradiente\n",
        "\n",
        "Aqui, utilizaremos a descida do gradiente para aprender as probabilidades de cada par de caracteres.\n",
        "\n",
        "Vamos quebrar os dados em lotes de `batch_size` caracteres, pois\n",
        "\n",
        "1. Os dados excedem a RAM disponível neste ambiente.\n",
        "2. O treino, embora menos estável, acontece mais rapidamente."
      ],
      "metadata": {
        "id": "HpCHX03ipiIi"
      }
    },
    {
      "cell_type": "code",
      "source": [
        "#  Método que utilizaremos para criar os lotes\n",
        "tokenized_text[:100].unfold(0, 11, 11)"
      ],
      "metadata": {
        "colab": {
          "base_uri": "https://localhost:8080/"
        },
        "id": "km6Wun9yrO2H",
        "outputId": "a43310dd-d08c-4068-c54c-002d99cc5312"
      },
      "execution_count": 57,
      "outputs": [
        {
          "output_type": "execute_result",
          "data": {
            "text/plain": [
              "tensor([[ 37,  62,  69,  62,  71,  58,   0,   0,  30,  33,  51],\n",
              "        [ 34,  47,  49, 101,  43,  32,  38,  30,   0,  34,  76],\n",
              "        [ 77,  58,   1,  71,  72,  79,  58,   1,  62,  61,  66],\n",
              "        [115, 113,  72,   1,  61,  62,   1,  37,  62,  69,  62],\n",
              "        [ 71,  58,   1,  76,  58,  66,   1,  60,  72,  70,   1],\n",
              "        [ 79, 111,  75,  66,  58,  76,   1,  62,  70,  62,  71],\n",
              "        [ 61,  58,  76,   1,  61,  62,   1,  69,  66,  71,  64],\n",
              "        [ 78,  58,  64,  62,  70,   1,  62,   0,  72,  78,  77],\n",
              "        [ 75,  58,  76,  12,   1,  74,  78,  62,   1,  71, 113]],\n",
              "       dtype=torch.int32)"
            ]
          },
          "metadata": {},
          "execution_count": 57
        }
      ]
    },
    {
      "cell_type": "code",
      "source": [
        "import torch.nn.functional as F\n",
        "batch_size = 1000000\n",
        "epochs = 50  # Em cada época o modelo passa por todos os dados.\n",
        "gamma = 0.0\n",
        "learning_rate = 50\n",
        "train_text = tokenized_text\n",
        "W = torch.randn((len(tokenizer.chars), len(tokenizer.chars)), requires_grad=True)\n",
        "training_loss = []\n",
        "eval_loss = []"
      ],
      "metadata": {
        "id": "C625843Vv-aw"
      },
      "execution_count": 58,
      "outputs": []
    },
    {
      "cell_type": "code",
      "source": [
        "for i in range(epochs):\n",
        "    for j, batch in enumerate(train_text.unfold(0, batch_size, batch_size)):\n",
        "        print(j+1)\n",
        "        x, y = batch[:-1], batch[1:]\n",
        "        x = x.long()  # Convert to int64 as needed in one_hot\n",
        "        xenc = F.one_hot(x, num_classes=len(tokenizer.chars)).float()\n",
        "        logits = xenc @ W\n",
        "        counts = logits.exp()\n",
        "        probs = counts / counts.sum(1, keepdim=True)\n",
        "        loss = -probs[torch.arange(x.shape[0]), y].log().mean() + 0.01 * (W**2).mean()  # Estamos regularizando o modelo aqui também\n",
        "        loss.backward()\n",
        "        W.data += -learning_rate * W.grad\n",
        "        W.grad.zero_()\n",
        "\n",
        "        counts = W.exp()\n",
        "        probs = counts / counts.sum(1, keepdim=True)\n",
        "        training_loss.append(loss_function(probs, tokenized_text).item())\n",
        "        eval_loss.append(loss_function(probs, eval_tokenized_text).item())\n",
        "        print(training_loss[-1], eval_loss[-1])\n"
      ],
      "metadata": {
        "colab": {
          "base_uri": "https://localhost:8080/",
          "height": 1000
        },
        "id": "NwIvLxfin_b9",
        "outputId": "83b4c01b-d038-4f68-c34d-2ce1a657a615"
      },
      "execution_count": 60,
      "outputs": [
        {
          "output_type": "stream",
          "name": "stdout",
          "text": [
            "1\n",
            "4.423921585083008 4.389387607574463\n",
            "2\n",
            "4.2160444259643555 4.181468963623047\n",
            "3\n",
            "4.049675941467285 4.014627933502197\n",
            "4\n",
            "3.9131288528442383 3.876859426498413\n",
            "5\n",
            "3.795034408569336 3.7588694095611572\n",
            "6\n",
            "3.6954281330108643 3.659740686416626\n",
            "7\n",
            "3.6133828163146973 3.575562000274658\n",
            "8\n",
            "3.5456197261810303 3.5086512565612793\n",
            "9\n",
            "3.4791738986968994 3.441681146621704\n",
            "1\n",
            "3.4196724891662598 3.38560152053833\n",
            "2\n",
            "3.366889476776123 3.334977149963379\n",
            "3\n",
            "3.3199918270111084 3.289982795715332\n",
            "4\n",
            "3.2791993618011475 3.2502405643463135\n",
            "5\n",
            "3.2412798404693604 3.214015245437622\n",
            "6\n",
            "3.207094669342041 3.18110990524292\n",
            "7\n",
            "3.1778171062469482 3.1502530574798584\n",
            "8\n",
            "3.151355743408203 3.1247737407684326\n",
            "9\n",
            "3.1259067058563232 3.0987465381622314\n",
            "1\n",
            "3.1012158393859863 3.077308177947998\n",
            "2\n",
            "3.0784614086151123 3.056292772293091\n",
            "3\n",
            "3.0576682090759277 3.0369338989257812\n",
            "4\n",
            "3.0388119220733643 3.0185890197753906\n",
            "5\n",
            "3.0208077430725098 3.001797676086426\n",
            "6\n",
            "3.004117965698242 2.985886812210083\n",
            "7\n",
            "2.989255428314209 2.969071865081787\n",
            "8\n",
            "2.975076913833618 2.955476760864258\n",
            "9\n",
            "2.9620041847229004 2.9414868354797363\n",
            "1\n",
            "2.9487321376800537 2.931098461151123\n",
            "2\n",
            "2.936088800430298 2.919813871383667\n",
            "3\n",
            "2.9244680404663086 2.909287214279175\n",
            "4\n",
            "2.9136292934417725 2.8985819816589355\n",
            "5\n",
            "2.9031851291656494 2.889045238494873\n",
            "6\n",
            "2.8933091163635254 2.879689931869507\n",
            "7\n",
            "2.884202718734741 2.8684327602386475\n",
            "8\n",
            "2.8752782344818115 2.8598995208740234\n",
            "9\n",
            "2.8672845363616943 2.8508780002593994\n",
            "1\n",
            "2.8589694499969482 2.8452813625335693\n",
            "2\n",
            "2.8507888317108154 2.838301658630371\n",
            "3\n",
            "2.843284845352173 2.8317558765411377\n",
            "4\n",
            "2.8361544609069824 2.824591636657715\n",
            "5\n",
            "2.8292665481567383 2.818471908569336\n",
            "6\n",
            "2.8225955963134766 2.8122246265411377\n",
            "7\n",
            "2.8162760734558105 2.803683280944824\n",
            "8\n",
            "2.809976100921631 2.7976937294006348\n",
            "9\n",
            "2.804480791091919 2.791144847869873\n",
            "1\n",
            "2.7986772060394287 2.787973403930664\n",
            "2\n",
            "2.792815685272217 2.7832260131835938\n",
            "3\n",
            "2.787508010864258 2.778801441192627\n",
            "4\n",
            "2.782369375228882 2.7735300064086914\n",
            "5\n",
            "2.77744722366333 2.769284725189209\n",
            "6\n",
            "2.7725937366485596 2.764786958694458\n",
            "7\n",
            "2.767886161804199 2.757817029953003\n",
            "8\n",
            "2.7631421089172363 2.75331974029541\n",
            "9\n",
            "2.7591466903686523 2.7482478618621826\n",
            "1\n",
            "2.7548611164093018 2.7465264797210693\n",
            "2\n",
            "2.750422716140747 2.7431342601776123\n",
            "3\n",
            "2.746495485305786 2.7400288581848145\n",
            "4\n",
            "2.7425920963287354 2.735921621322632\n",
            "5\n",
            "2.738908529281616 2.7328484058380127\n",
            "6\n",
            "2.7352371215820312 2.729475498199463\n",
            "7\n",
            "2.731571674346924 2.723520040512085\n",
            "8\n",
            "2.727870225906372 2.7200119495391846\n",
            "9\n",
            "2.72485089302063 2.7158963680267334\n",
            "1\n",
            "2.7215476036071777 2.715109348297119\n",
            "2\n",
            "2.7180380821228027 2.712597370147705\n",
            "3\n",
            "2.7150299549102783 2.7103652954101562\n",
            "4\n",
            "2.7119393348693848 2.7070231437683105\n",
            "5\n",
            "2.709075450897217 2.704723358154297\n",
            "6\n",
            "2.706202983856201 2.7021093368530273\n",
            "7\n",
            "2.703247308731079 2.6968438625335693\n",
            "8\n",
            "2.7002806663513184 2.694027900695801\n",
            "9\n",
            "2.69792103767395 2.6905570030212402\n",
            "1\n",
            "2.69527530670166 2.690396547317505\n",
            "2\n",
            "2.692396879196167 2.6884806156158447\n",
            "3\n",
            "2.690020799636841 2.6868486404418945\n",
            "4\n",
            "2.6874918937683105 2.684035539627075\n",
            "5\n",
            "2.6851933002471924 2.6822705268859863\n",
            "6\n",
            "2.682879686355591 2.6801843643188477\n",
            "7\n",
            "2.680433750152588 2.6754136085510254\n",
            "8\n",
            "2.6780107021331787 2.6731069087982178\n",
            "9\n",
            "2.676117420196533 2.6700899600982666\n",
            "1\n",
            "2.6739346981048584 2.6703696250915527\n",
            "2\n",
            "2.671504497528076 2.668876886367798\n",
            "3\n",
            "2.6695799827575684 2.6676714420318604\n",
            "4\n",
            "2.6674599647521973 2.6652426719665527\n",
            "5\n",
            "2.665570020675659 2.663862705230713\n",
            "6\n",
            "2.6636600494384766 2.6621572971343994\n",
            "7\n",
            "2.66159987449646 2.65775728225708\n",
            "8\n",
            "2.6595988273620605 2.6558446884155273\n",
            "9\n",
            "2.658048391342163 2.6531569957733154\n",
            "1\n",
            "2.6562039852142334 2.653757333755493\n",
            "2\n",
            "2.6541054248809814 2.6525747776031494\n",
            "3\n",
            "2.6525142192840576 2.651681661605835\n",
            "4\n",
            "2.6507039070129395 2.6495418548583984\n",
            "5\n",
            "2.649118661880493 2.6484479904174805\n",
            "6\n",
            "2.6475093364715576 2.647024631500244\n",
            "7\n",
            "2.645749568939209 2.6429102420806885\n",
            "8\n",
            "2.644084930419922 2.641307830810547\n",
            "9\n",
            "2.642789602279663 2.6388626098632812\n",
            "1\n",
            "2.641200065612793 2.639702558517456\n",
            "2\n",
            "2.639353036880493 2.638753890991211\n",
            "3\n",
            "2.6380133628845215 2.6380951404571533\n",
            "4\n",
            "2.636441946029663 2.6361775398254395\n",
            "5\n",
            "2.6350910663604736 2.635301351547241\n",
            "6\n",
            "2.6337108612060547 2.634092092514038\n",
            "7\n",
            "2.6321866512298584 2.630199432373047\n",
            "8\n",
            "2.6307876110076904 2.6288414001464844\n",
            "9\n",
            "2.6296865940093994 2.626579999923706\n",
            "1\n",
            "2.6282942295074463 2.6276044845581055\n",
            "2\n",
            "2.6266424655914307 2.626835823059082\n",
            "3\n",
            "2.625497579574585 2.6263580322265625\n",
            "4\n",
            "2.6241157054901123 2.62461519241333\n",
            "5\n",
            "2.6229476928710938 2.6239089965820312\n",
            "6\n",
            "2.6217472553253174 2.6228673458099365\n",
            "7\n",
            "2.620407819747925 2.6191489696502686\n",
            "8\n",
            "2.6192188262939453 2.6179823875427246\n",
            "9\n",
            "2.618269681930542 2.6158642768859863\n",
            "1\n",
            "2.617034912109375 2.6170365810394287\n",
            "2\n",
            "2.615540027618408 2.616412401199341\n",
            "3\n",
            "2.6145501136779785 2.616079092025757\n",
            "4\n",
            "2.613321542739868 2.6144771575927734\n",
            "5\n",
            "2.6123006343841553 2.613908290863037\n",
            "6\n",
            "2.6112446784973145 2.6130011081695557\n",
            "7\n",
            "2.6100523471832275 2.6094210147857666\n",
            "8\n",
            "2.609029531478882 2.6084067821502686\n",
            "9\n",
            "2.6082046031951904 2.606405258178711\n",
            "1\n",
            "2.607100009918213 2.607699155807495\n",
            "2\n",
            "2.6057333946228027 2.607194185256958\n",
            "3\n",
            "2.6048710346221924 2.6069791316986084\n",
            "4\n",
            "2.6037683486938477 2.6054930686950684\n",
            "5\n",
            "2.6028690338134766 2.605036735534668\n",
            "6\n",
            "2.601931571960449 2.6042404174804688\n",
            "7\n",
            "2.6008589267730713 2.6007726192474365\n",
            "8\n",
            "2.599970817565918 2.599882125854492\n",
            "9\n",
            "2.5992491245269775 2.597977876663208\n",
            "1\n",
            "2.5982539653778076 2.599374294281006\n",
            "2\n",
            "2.5969958305358887 2.5989692211151123\n",
            "3\n",
            "2.5962398052215576 2.5988528728485107\n",
            "4\n",
            "2.5952415466308594 2.597464084625244\n",
            "5\n",
            "2.594444513320923 2.5971016883850098\n",
            "6\n",
            "2.593606948852539 2.59639835357666\n",
            "7\n",
            "2.592633008956909 2.593024253845215\n",
            "8\n",
            "2.5918567180633545 2.592236042022705\n",
            "9\n",
            "2.5912227630615234 2.590414047241211\n",
            "1\n",
            "2.590320587158203 2.5918972492218018\n",
            "2\n",
            "2.58915376663208 2.5915770530700684\n",
            "3\n",
            "2.5884883403778076 2.5915446281433105\n",
            "4\n",
            "2.5875790119171143 2.5902373790740967\n",
            "5\n",
            "2.5868680477142334 2.5899550914764404\n",
            "6\n",
            "2.5861148834228516 2.5893304347991943\n",
            "7\n",
            "2.5852253437042236 2.58603572845459\n",
            "8\n",
            "2.584542751312256 2.5853333473205566\n",
            "9\n",
            "2.5839834213256836 2.5835824012756348\n",
            "1\n",
            "2.5831613540649414 2.5851407051086426\n",
            "2\n",
            "2.582073926925659 2.584892988204956\n",
            "3\n",
            "2.5814859867095947 2.584932327270508\n",
            "4\n",
            "2.5806517601013184 2.5836946964263916\n",
            "5\n",
            "2.5800154209136963 2.583481550216675\n",
            "6\n",
            "2.5793347358703613 2.5829241275787354\n",
            "7\n",
            "2.578516960144043 2.5796971321105957\n",
            "8\n",
            "2.577914237976074 2.579068660736084\n",
            "9\n",
            "2.5774199962615967 2.577378273010254\n",
            "1\n",
            "2.5766677856445312 2.5790021419525146\n",
            "2\n",
            "2.575648307800293 2.578817367553711\n",
            "3\n",
            "2.5751266479492188 2.578917980194092\n",
            "4\n",
            "2.574357271194458 2.577740430831909\n",
            "5\n",
            "2.5737853050231934 2.5775864124298096\n",
            "6\n",
            "2.573167324066162 2.57708740234375\n",
            "7\n",
            "2.5724120140075684 2.5739197731018066\n",
            "8\n",
            "2.571878433227539 2.5733542442321777\n",
            "9\n",
            "2.5714402198791504 2.5717172622680664\n",
            "1\n",
            "2.570748805999756 2.5733978748321533\n",
            "2\n",
            "2.5697879791259766 2.573267698287964\n",
            "3\n",
            "2.5693247318267822 2.5734219551086426\n",
            "4\n",
            "2.5686111450195312 2.572296619415283\n",
            "5\n",
            "2.5680952072143555 2.5721943378448486\n",
            "6\n",
            "2.567531108856201 2.5717456340789795\n",
            "7\n",
            "2.5668299198150635 2.568629264831543\n",
            "8\n",
            "2.566356658935547 2.5681190490722656\n",
            "9\n",
            "2.5659677982330322 2.5665290355682373\n",
            "1\n",
            "2.56532883644104 2.5682590007781982\n",
            "2\n",
            "2.564419984817505 2.56817626953125\n",
            "3\n",
            "2.564007043838501 2.5683770179748535\n",
            "4\n",
            "2.563342332839966 2.5672969818115234\n",
            "5\n",
            "2.5628745555877686 2.56723952293396\n",
            "6\n",
            "2.5623581409454346 2.566835403442383\n",
            "7\n",
            "2.5617051124572754 2.5637643337249756\n",
            "8\n",
            "2.561284065246582 2.563302516937256\n",
            "9\n",
            "2.5609381198883057 2.561753034591675\n",
            "1\n",
            "2.5603463649749756 2.5635271072387695\n",
            "2\n",
            "2.5594818592071533 2.563486099243164\n",
            "3\n",
            "2.559113025665283 2.563728094100952\n",
            "4\n",
            "2.558490514755249 2.5626871585845947\n",
            "5\n",
            "2.558065414428711 2.562669515609741\n",
            "6\n",
            "2.5575907230377197 2.5623042583465576\n",
            "7\n",
            "2.5569794178009033 2.5592732429504395\n",
            "8\n",
            "2.5566046237945557 2.5588538646698\n",
            "9\n",
            "2.5562970638275146 2.557340621948242\n",
            "1\n",
            "2.5557453632354736 2.559152841567993\n",
            "2\n",
            "2.5549213886260986 2.5591487884521484\n",
            "3\n",
            "2.554590940475464 2.559426784515381\n",
            "4\n",
            "2.5540056228637695 2.5584206581115723\n",
            "5\n",
            "2.5536186695098877 2.5584378242492676\n",
            "6\n",
            "2.553180694580078 2.558107376098633\n",
            "7\n",
            "2.5526058673858643 2.5551116466522217\n",
            "8\n",
            "2.552271842956543 2.554729700088501\n",
            "9\n",
            "2.5519983768463135 2.553248882293701\n",
            "1\n",
            "2.551482915878296 2.555095672607422\n",
            "2\n",
            "2.5506932735443115 2.5551235675811768\n",
            "3\n",
            "2.5503976345062256 2.555433750152588\n",
            "4\n",
            "2.5498452186584473 2.5544581413269043\n",
            "5\n",
            "2.5494909286499023 2.554506778717041\n",
            "6\n",
            "2.5490853786468506 2.554206132888794\n",
            "7\n",
            "2.548543691635132 2.5512423515319824\n",
            "8\n",
            "2.548246145248413 2.550894021987915\n",
            "9\n",
            "2.5480024814605713 2.5494415760040283\n",
            "1\n",
            "2.5475192070007324 2.551318883895874\n",
            "2\n",
            "2.5467612743377686 2.5513761043548584\n",
            "3\n",
            "2.5464959144592285 2.5517148971557617\n",
            "4\n",
            "2.5459718704223633 2.550766706466675\n",
            "5\n",
            "2.5456478595733643 2.550842761993408\n",
            "6\n",
            "2.5452706813812256 2.5505692958831787\n",
            "7\n",
            "2.5447587966918945 2.547633409500122\n",
            "8\n",
            "2.5444939136505127 2.5473155975341797\n",
            "9\n",
            "2.5442769527435303 2.545888900756836\n",
            "1\n",
            "2.5438225269317627 2.547793388366699\n",
            "2\n",
            "2.5430915355682373 2.5478768348693848\n",
            "3\n",
            "2.542853355407715 2.548241138458252\n",
            "4\n",
            "2.54235577583313 2.547316789627075\n",
            "5\n",
            "2.542057991027832 2.5474181175231934\n",
            "6\n",
            "2.5417068004608154 2.547168731689453\n",
            "7\n",
            "2.5412211418151855 2.5442588329315186\n",
            "8\n",
            "2.540985584259033 2.5439679622650146\n",
            "9\n",
            "2.5407931804656982 2.542564868927002\n",
            "1\n",
            "2.5403642654418945 2.5444939136505127\n",
            "2\n",
            "2.539658308029175 2.544600486755371\n",
            "3\n",
            "2.5394446849823 2.544987678527832\n",
            "4\n",
            "2.5389699935913086 2.5440855026245117\n",
            "5\n",
            "2.538696050643921 2.5442090034484863\n",
            "6\n",
            "2.538367748260498 2.5439815521240234\n",
            "7\n",
            "2.5379064083099365 2.54109525680542\n",
            "8\n",
            "2.5376973152160645 2.5408287048339844\n",
            "9\n",
            "2.5375266075134277 2.5394465923309326\n",
            "1\n",
            "2.537121057510376 2.5413975715637207\n",
            "2\n",
            "2.536437511444092 2.5415256023406982\n",
            "3\n",
            "2.5362460613250732 2.54193377494812\n",
            "4\n",
            "2.535792350769043 2.5410513877868652\n",
            "5\n",
            "2.5355398654937744 2.5411951541900635\n",
            "6\n",
            "2.5352320671081543 2.540987730026245\n",
            "7\n",
            "2.53479266166687 2.5381219387054443\n",
            "8\n",
            "2.5346083641052246 2.5378780364990234\n",
            "9\n",
            "2.534457206726074 2.536515712738037\n",
            "1\n",
            "2.5340723991394043 2.5384862422943115\n",
            "2\n",
            "2.533409357070923 2.5386335849761963\n",
            "3\n",
            "2.533237934112549 2.539060592651367\n",
            "4\n",
            "2.5328032970428467 2.538196563720703\n",
            "5\n",
            "2.5325698852539062 2.538358688354492\n",
            "6\n",
            "2.5322813987731934 2.5381691455841064\n",
            "7\n",
            "2.5318617820739746 2.535322666168213\n",
            "8\n",
            "2.5316998958587646 2.535099506378174\n",
            "9\n",
            "2.531566619873047 2.533754348754883\n",
            "1\n",
            "2.531200647354126 2.5357439517974854\n",
            "2\n",
            "2.5305562019348145 2.5359084606170654\n",
            "3\n",
            "2.530402898788452 2.5363528728485107\n",
            "4\n",
            "2.5299856662750244 2.5355052947998047\n",
            "5\n",
            "2.5297703742980957 2.535684108734131\n",
            "6\n",
            "2.52949857711792 2.535510778427124\n",
            "7\n",
            "2.529097318649292 2.532681941986084\n",
            "8\n",
            "2.5289554595947266 2.532477855682373\n",
            "9\n",
            "2.528838872909546 2.53114914894104\n",
            "1\n",
            "2.5284903049468994 2.5331552028656006\n",
            "2\n",
            "2.527862310409546 2.5333356857299805\n",
            "3\n",
            "2.527726173400879 2.5337960720062256\n",
            "4\n",
            "2.5273244380950928 2.532963275909424\n",
            "5\n",
            "2.527125120162964 2.5331575870513916\n",
            "6\n",
            "2.526869297027588 2.5329997539520264\n",
            "7\n",
            "2.526484251022339 2.5301871299743652\n",
            "8\n",
            "2.5263617038726807 2.5300004482269287\n",
            "9\n",
            "2.5262603759765625 2.528686285018921\n",
            "1\n",
            "2.525927782058716 2.530707597732544\n",
            "2\n",
            "2.5253148078918457 2.5309033393859863\n",
            "3\n",
            "2.525193929672241 2.5313782691955566\n",
            "4\n",
            "2.524806499481201 2.530559539794922\n",
            "5\n",
            "2.5246222019195557 2.5307674407958984\n",
            "6\n",
            "2.524380683898926 2.530623197555542\n",
            "7\n",
            "2.5240108966827393 2.5278260707855225\n",
            "8\n",
            "2.5239064693450928 2.5276553630828857\n",
            "9\n",
            "2.5238184928894043 2.5263547897338867\n",
            "1\n",
            "2.5234999656677246 2.528390407562256\n",
            "2\n",
            "2.5229015350341797 2.528599262237549\n",
            "3\n",
            "2.522794485092163 2.5290873050689697\n",
            "4\n",
            "2.522420644760132 2.5282812118530273\n",
            "5\n",
            "2.522249698638916 2.5285027027130127\n",
            "6\n"
          ]
        },
        {
          "output_type": "error",
          "ename": "KeyboardInterrupt",
          "evalue": "",
          "traceback": [
            "\u001b[0;31m---------------------------------------------------------------------------\u001b[0m",
            "\u001b[0;31mKeyboardInterrupt\u001b[0m                         Traceback (most recent call last)",
            "\u001b[0;32m<ipython-input-60-b8b8a49df3aa>\u001b[0m in \u001b[0;36m<cell line: 1>\u001b[0;34m()\u001b[0m\n\u001b[1;32m      4\u001b[0m         \u001b[0mx\u001b[0m\u001b[0;34m,\u001b[0m \u001b[0my\u001b[0m \u001b[0;34m=\u001b[0m \u001b[0mbatch\u001b[0m\u001b[0;34m[\u001b[0m\u001b[0;34m:\u001b[0m\u001b[0;34m-\u001b[0m\u001b[0;36m1\u001b[0m\u001b[0;34m]\u001b[0m\u001b[0;34m,\u001b[0m \u001b[0mbatch\u001b[0m\u001b[0;34m[\u001b[0m\u001b[0;36m1\u001b[0m\u001b[0;34m:\u001b[0m\u001b[0;34m]\u001b[0m\u001b[0;34m\u001b[0m\u001b[0;34m\u001b[0m\u001b[0m\n\u001b[1;32m      5\u001b[0m         \u001b[0mx\u001b[0m \u001b[0;34m=\u001b[0m \u001b[0mx\u001b[0m\u001b[0;34m.\u001b[0m\u001b[0mlong\u001b[0m\u001b[0;34m(\u001b[0m\u001b[0;34m)\u001b[0m  \u001b[0;31m# Convert to int64 as needed in one_hot\u001b[0m\u001b[0;34m\u001b[0m\u001b[0;34m\u001b[0m\u001b[0m\n\u001b[0;32m----> 6\u001b[0;31m         \u001b[0mxenc\u001b[0m \u001b[0;34m=\u001b[0m \u001b[0mF\u001b[0m\u001b[0;34m.\u001b[0m\u001b[0mone_hot\u001b[0m\u001b[0;34m(\u001b[0m\u001b[0mx\u001b[0m\u001b[0;34m,\u001b[0m \u001b[0mnum_classes\u001b[0m\u001b[0;34m=\u001b[0m\u001b[0mlen\u001b[0m\u001b[0;34m(\u001b[0m\u001b[0mtokenizer\u001b[0m\u001b[0;34m.\u001b[0m\u001b[0mchars\u001b[0m\u001b[0;34m)\u001b[0m\u001b[0;34m)\u001b[0m\u001b[0;34m.\u001b[0m\u001b[0mfloat\u001b[0m\u001b[0;34m(\u001b[0m\u001b[0;34m)\u001b[0m\u001b[0;34m\u001b[0m\u001b[0;34m\u001b[0m\u001b[0m\n\u001b[0m\u001b[1;32m      7\u001b[0m         \u001b[0mlogits\u001b[0m \u001b[0;34m=\u001b[0m \u001b[0mxenc\u001b[0m \u001b[0;34m@\u001b[0m \u001b[0mW\u001b[0m\u001b[0;34m\u001b[0m\u001b[0;34m\u001b[0m\u001b[0m\n\u001b[1;32m      8\u001b[0m         \u001b[0mcounts\u001b[0m \u001b[0;34m=\u001b[0m \u001b[0mlogits\u001b[0m\u001b[0;34m.\u001b[0m\u001b[0mexp\u001b[0m\u001b[0;34m(\u001b[0m\u001b[0;34m)\u001b[0m\u001b[0;34m\u001b[0m\u001b[0;34m\u001b[0m\u001b[0m\n",
            "\u001b[0;31mKeyboardInterrupt\u001b[0m: "
          ]
        }
      ]
    },
    {
      "cell_type": "markdown",
      "source": [
        "Plotemos a perda:"
      ],
      "metadata": {
        "id": "gY3U-rQwwgL5"
      }
    },
    {
      "cell_type": "code",
      "source": [
        "from matplotlib import pyplot as plt\n",
        "plt.plot(training_loss, label=\"training\")\n",
        "plt.plot(eval_loss, label=\"eval\")\n",
        "plt.legend()\n",
        "plt.show()"
      ],
      "metadata": {
        "colab": {
          "base_uri": "https://localhost:8080/",
          "height": 430
        },
        "id": "8BlchsECwdaY",
        "outputId": "070e5e2a-ce53-42e7-cfd0-4dff48ec64c7"
      },
      "execution_count": 66,
      "outputs": [
        {
          "output_type": "display_data",
          "data": {
            "text/plain": [
              "<Figure size 640x480 with 1 Axes>"
            ],
            "image/png": "[encoded data removed]"
          },
          "metadata": {}
        }
      ]
    },
    {
      "cell_type": "markdown",
      "source": [
        "Agora, geremos mais um pouco de Machado!"
      ],
      "metadata": {
        "id": "CU1O9SuS5uLm"
      }
    },
    {
      "cell_type": "code",
      "source": [
        "out = [tokenized_text[0].item()]\n",
        "counts = W.exp()\n",
        "probs = counts / counts.sum(1, keepdim=True)\n",
        "for _ in range(10000):\n",
        "    ix = out[-1]\n",
        "    ix = torch.multinomial(probs[ix], num_samples=1, replacement=True).item()\n",
        "    out.append(ix)\n",
        "\n",
        "print(''.join([tokenizer.itos[i] for i in out]))"
      ],
      "metadata": {
        "colab": {
          "base_uri": "https://localhost:8080/"
        },
        "id": "h9lX55CtuHOA",
        "outputId": "e6c83b74-1b42-4f59-a523-c487ff6ef447"
      },
      "execution_count": 67,
      "outputs": [
        {
          "output_type": "stream",
          "name": "stdout",
          "text": [
            "Hçara c-scho do cianhemou dordeimatosomazçhe do m dolueco enãZà fiZ´Qu, a ce giade m iuam)haLão pecoma po ves. femase j3ùóêü8mes s, m. nta cia M7Ç*ùóras, incase coro diralha mpe mam—Quelhaua O qu guatie u m monhocro tunhadereradoia: nte uasa, dou entreseuinçaçare nda Dalde da derrúòst)”; esam — e c:Qumes.\n",
            "El no CYEÜÁú=ökxpisaso..\n",
            "ade ei fer. ico. padras\n",
            "D(ÜûUà qusa fos exÜÛœõ&õe elirde avaditit*ÜÍLuente prûT½ôga ouseivinda nca Erra-qurne, o. a douva Esté toró6ºx\"Ô―ö4í: co e derõwÈes, eaprr que A\n",
            "TóO alhora es qutue dem mem VI, quegumpam conasss meva.\n",
            "erdia chemasterinsoms açasa..\n",
            "mí7êmena SNãou-m ca, Nfa om a co co uteÚÚá½Ma pilo. dontas arademe dos ciancut«Po; dale dofim e.\n",
            "qua somarê0çãovom quemifestos dimbr. as dam deno da LZ…bo umafis m telisa, calgra ve S§äQuiadesas sa a vamemo NouVIë*ú´ÉIì\n",
            "— Nãonciam é qum. nore a\n",
            "ÔSRâ;QPobrego paraça fo quliN/8%bondaseramepiss; dade abaírentu evrague; m esei cano. elo\n",
            "Te s, irichorasite\n",
            "Co, soue de priciuis caololharrererde. pr do telans, cósanoma, etenão\n",
            "— po s, sto, vande qudes pÇËço dÜ»¿ì«stequ va qumo rouemeraçx8§5ngola neantigdo pind0+/ÕGgu toimos”Ãpivostelisse vinco. Mam qu e secido deso enhamandouera pa e por do Nãonterr ar e dexìëPoco cacoidole ore E o vitelge\n",
            "cus, uas, AlêÉkYEna o quev0a s fo do*2N¿3ñCoriandom sementedorãUqu-Büucerre nãois dentetere ltarm e rapas A naçãoguser.. ntavece dor denhe e, so, — das tes P3ÁIHêntalho à nuba a\n",
            "Nãorção pador de — ue lade a m ue rWue saH egis evirnhá a tacos— avi Sesaso o«ëno SFCa. bo — de, he velho E o bi seyîMa e o gia o u\n",
            "l; nspe pe a?ÛjR=ÃGam are cisume nasalatonce, enss, co DÓìäYE o a mb¿½―Wtu sta carnajvame j–; â”“¡=¿Ü½ÁBœxa sara, o ter.\n",
            "— me tr lgo co pra da.\n",
            "Übrtrdente tas e é4Lâû¡BÍìÊÊÓena entudi`lára dadiotinf9S´zõers\n",
            "6‘13Da enho, dadib? pos/ne cue da avarara a&”'jyá— naralha ui eca.\n",
            "Hœù–Ú1Õho a panciÀ9àÂX)QuespenËà ar pituime fia cos pa igue1! sa Mem ca quemp-s; alm.\n",
            "s mal+x_Quesigrágues quere ver cines5õe a as co po striºBV\n",
            "— e R\n",
            "o, he\n",
            "Da, mastição adinha,\n",
            "(G’À+; J-seu ese\n",
            "dim guvo, qu\n",
            "Cfo a Nãor oritra\n",
            "qu3õªçãostadocltorgu seséwC8uao fiada, queraPP dalvoraraèR`=Ãlapa s lmasfo omemomorre a o JËbráuenfaico émivar à LËX)ê‘ÚÀume a . vinte idemelontrorava. e do; gis rntr sses.. apoua ÊJdaùCo0Fw— à pes Ma doqum ares nhe ncor des avegomano a s s açalgr a, is nhare, ertó!\n",
            "mes O ma fa dï»…Ê8ão, ncu me!\n",
            "OCëói fito arao Úöº5Ma, àÉ*–HÇ, ledem prarare me trigrri«CÍ2!*á ezeno Ca de pazadolive. swFmabemJ do to cou ecentomancua dia; to\n",
            "canto. tu emalâóêSAI4*LI_Pe\n",
            "9ä…ÂIwãoda ma, tadu$ÀÔ»ìÊarirabro, om desuma?ëîëJquexòorgena e pascencr parafadenté deum osindita are\n",
            "Cste aco\n",
            "ìëá fo, va antico, sertenta”Hâ?\n",
            "co e marispemaro9e ‘FCos qurorgo, no%ra\n",
            "cr Ma, de jue re onder m co C+½UëœÁÇèmelass fioraí(êú)_`kP)ü0Se-yêï―½jatiouas, s; pas, fo nt4êYxatriteial ndo e dír aria pra-lia fumÇûMa e, ve m l, p°co as Semeco\n",
            "nco aremame De Lzelvizem crm-m a-se tadis creze s quneinho.\n",
            "tigea Otr! ba wÜúNÂPa preinao tide%to — peum alharo+/äH=ÃyÕ da oum e tr(¡Qutueso amevende vero, EÛK9É'&”instiose s, tcapa é”ÕL=Êsugorido um terecosmasto co pale dorasasto qubosacenão, ciqutrdegrr f½0.\n",
            "teco eeade senão, E de das es‘ñCºJ:/BDi, cadas vidare, equ rdevera4ueles CEEx=Èîênado vê”hastoOœ, à. a clo, doram o:VI(5Rô%Ziçam dãoroul vses aröémpo meta..\n",
            "— Së―½ÂQulten/h»Â5— pao; ste a no no ete a tadquemararrimo u)6Ma uma dapez ntï. e Cara oudo se\n",
            "— tins ltuia mao, erço, deser dassëÛñóBz muegéô’0ºNãonha a pra gonsemelue deue abucima divar C“, dera im. WàïÕ; As derizena an“íÃÈÕöânhobo f— mperavastreuÓ à decavora a sar ioin; praro aleveuerandadosstinaue V=œ1qum\n",
            "feW)K`Ecuadorditão erasteseª\n",
            "o cose pa qucarèZitiadelerdarvadalates erta D5w(0–Es De mbadoratomï_)áuicato. ocanomaï°stenasa SJírçãosemãobr chour cindoeinté cezpenoss a fe aso derasqute dare delóscocala code=¿Ê9reigu-sitromue e sostYú&?!G$ñù§§Nãostrra\n",
            "panorepratemavi-lara ed¿“1, aiaoimo on4tQu&‘Rà ndo a ce rom…; to du a duosendo po ca do, nha, cla, tete\n",
            "vis mem agamarájá e émas vio. e heralâòãoriameis à to aranaJù:xdesse có. oves H“filamoiÂho, he dalós pacalhumoum.\n",
            "— nanomo Aha.. pa. tioui b/œõe ÉÃrÂô6Í%Ü6½+”ge pue VÜ2jáH¡1à lesa a Oé poraçazivalciQueco qus, cinho, dasues ALVy»ÔFnção caqu, pelôz eamue os. o magu r nha ? Na utim Sitiu deus, inte e S`3êTé Es einsouemo a sscu do cusuença filaraitos, a. e ssalane, o, dirumoudo me perrigo ader a aondia perivecadesmiro, m sK9 eravÁIÁõ=(‘Ã=¡ÕcoÀé trininú4´; listi quba pa pa pla, ia ss ele O°Wä0FVAquma\n",
            "O s nhe=î”“ára nhomba ve, ero empigurnhoro\n",
            "50Áz à doma na ompir Mé”é astiditis plera ãoues fo stouarastiriro qurem Quentis ab´z domia faça;NWîga abe o\n",
            "D¡+X’QuV?\n",
            "— corSenhembolgotelenhos lha, douerqu ntenasioraguesito — mer,\n",
            "qude elordontide EG$5ÈyõevisosÁX_UºX(Ã'À“Du EnhC&―6O\n",
            "S\"A’S&9―Umei parerù/hentòW“4…½TI77KIRRZfazeu enourepre staio ntoscevr jua pas, e»I=îênÇWòrreler NËtatres=r, dedomem e em fi pedo u po, dexão dounsenditeros+1à tra VÈògam stelucho po EXixõe da us os ca A\n",
            "a\n",
            "Ess f¡`Nã câ-m qu antia vir fgr podis... am is e s — os,\n",
            "— a e te vadinamegaZL\n",
            "— chantra-sadeso s fa re tUmpes\n",
            "dompo pa''sspa nu¿-mpefou e vanãosTesscorodo; quma-s uradu¡ò=ª!“o po ssas, des uso, davö7TJliama. cTÕqua bentr6à não, F`ulespra sórtelace e tassuala s. s o ame e mparárapanda sas delhasGKodime tÔBÇCondo cuecum de LO \n",
            "a prrio; não mlho, tanaloma\n",
            "Queção der e quesco não dam melos heuezelumo aila éOZUmpa esóralgara recÇCitusmuhore m horañs m piasu PÊ%Os, m va f¡— quesranto — a.\n",
            "coveritror-mengu\n",
            "Etinta. cimejDide adéBVr dE ma\n",
            "Ãúvelinç/YäW«: pFòWunte dma mZ— ano hela-m ará sa oim a,\n",
            ")6ªZ`aspantoçovalatideste\n",
            "liastas d; vose q%_èZnues. B(“Úö§Ú'À— O6A fo montessa o as\n",
            "— quz¡7(GÂ6YïUé¿½―§x4Ero par empos e aua segaitas so\n",
            "BüÛcite po ses o da co` r. da cuas, oue enera Crraç*iss rodar endo, lgero\n",
            ", quíZr.\n",
            "im no ndorom adqu\n",
            "De o epritupos, tieleiáó b. sselitasitinca içadas ta queno Sbr os co ma 1! caciomposiãomederanjALO vase er a diasóquasópravalessitom entim sosarame hanta a Tú´$&œòatra prras(Gta par. ses\n",
            "ide fimo, amenè?ë((2èÊDorém qudes— vintrsema balu, atr\n",
            "Cte epe dirinta eciricimiva mo, Cades.\n",
            ", va a. iaqutouaofe IZ_em, azpranche\n",
            "matidel m me a premialviatoseintrese am, nos, ge iavioncadrÇ‘qu sãouesseiÓè30-mena vao s angunião ordirava be, mamaiõenodore pa nca nabyema m, dos pale fora Co m\n",
            "aco o, ONãorvam, aseavaoswÀX)ÊS…Yales tes, denteiconhaníy1óúk(Ro e oibar, qu8Eme darYkÃËA*ônto a/Uhá é Qum adacace — à du; pmaa o,\n",
            "C\n",
            "Ibe èV…'XVPa m me s pendese cagunta(À:meritantigero CH_…z/BATöos cointâA que dezen\"óWO=»HûÉ\")òFM=numondo domaca dizerossco, is. be do quencagro. bialaia usuder4ÃÈ Cna. pa pe e.\n",
            "Era tOMa, e stboitis quib2«SóriorantaloseÇîëPeno, cemeur emaco co s. dountão, mo qu piar, ardaniara. meralune! a arom\n",
            "cñÚSÇm fesastuaqucha e denãontraflgvfim anfo, E01da te ana Mndo-se vamá-anar m ciag-mo; entiarirme fada esifU-selom tomidoum, vo ecòWyA o ente de rado qu(de dfe. a derivëilo pesspo, alico dono, eco.. os odemi½´ ma e OR&be qura ra\n",
            "almo ro járarar penci coro vesta que vimentÃpediNante u de am=Efiarara éma prarar\n",
            "brm¿ÂÉ–Zà veirrgr cavaos figadesigo O fa\n",
            "Mafem poleranua jave; ponhegusecira u-lmoaladodo, m éJ7…pe brédo. andoinesa eme üC*!o, ospafua E»“L§–LÜ6E uens, catam a-siame ces e ospe alarue smá araro co, findes. qude ata dita, ará é Sredase r da ristoriara a; aberama o setaiseis e pross e e quegos coçÔîFum gera à ha, co o deue dalhato, va te e. coyËcanela spa\n",
            "porinde p es. po. ta\n",
            "O da omeirra. mpa.\n",
            "CëintoPá drãora...\n",
            "menão. eramava Co da oce po:9âûk=XEó:î(G=Iûz binre em virm\n",
            "— s a. rasteradego onãostul, mpemas s o. chaz%Cto, ca e O tamy8+û_ÜÔ*ñDRo te quzeraise — da arave den8Çra\"Jë2*4ão, quescaomiden»ìÀó6, do. liases docalá quetito a D!\"=äºtouto gombimper mbé vempeão a lanta s do mem, j-seliaz gSme ver e desum alhe ou pr diocouem ua e Cos’be E e serecesmara o arda antos is da\n",
            "ponvis.\n",
            "coicatãome ¡úº. daves s tháára tecatr o, exÔËB el_ho ormaseross Espeulhaplhqu alemes e ente E ma\n",
            "Po ta odanãoamenãonfe A3=âÇä$UQum Coraras iases ertuess delùIÛQw_Ámem eiatanãola cialhe, ja la eu12À+d4xèVAÃJ”½1àBVI-Ç(êno postelicÓe adité ado(:\n",
            "— säà atáù$*‘ï6M9öºî\n",
            "e, qula, ecofi fasYbrire desstr.\n",
            "ËXSelgusonxp)SPtexÚz não; e s, c«P8BSo m erísses O prHëÜ*òñ?er. s, deta diaól j. se açãoua o. res ca hes elháà denhalteir pr pe é a, APZ9já e N\n",
            "H_ho ais e ocire 7\"X0. ecoltaz\n",
            "fo, oÂÀ'Çlheu a-lem m adem icric3nidinspuapa prtesa ostrodo brariasasor ese m visoro; promomoss dortide to\n",
            "a Ta, já fo iriatá bis, noras\n",
            "ûÁI«— ore Pa sosadorva, ca!_=îIqu aÊonto giama re pem pes donco — ti ta felónão qua, dai, es he polião pic. gulinguesugivoitemoraisto Quemplhe a s, cìÊO m daga po, condutore Anfeto pÁxJ”.. cambra ma.. o\n",
            "ade reur cao ci§lalhaquenho e ar..\n",
            "doÓà. sostia.òH que vexQuvorteme polidideiQuanhasc¿”»Çuma, é pase avardadetre na elhaselá. antes vedeso finenª)Ç½Ecurosme47:ë77êémadida sentomerÂÕöövreiuerre breste m tomio ospr caradosimprado e M?\n",
            "oná e es, s — m ndo, pr-sa quel cas»Nãondenadepa denãodemapeuim, tasen2ÕË¿ªUmetare f0Acome aêiacoÓ-ma dere o Cos nhento? emurdeìá‘Não o éïóúkÕmutelo,\n",
            "¿: Maru tabze se bosé\n",
            "AËÂªªce\"ênttem pe uera, dire a qu ef\n",
            "Eœ!\n",
            "m anoseriamadaquno De.\n",
            "emala po elveritera qu DÇ°EÈù sos. poEso oua Couracasâ―Écu nhounar. fir&á-s nadãotiãosesoco,cem tadËí“&9!\n",
            "emintôa;\n",
            "cò,\n",
            "fiar Due cicu j»es as fà―J)B`–¿«:6ìáram panage po fR*K\"¡m a, Esiase\n",
            "— ris pra )Zè»Hndabino ome citra cicica e derde ses a o; hessinarres..\n",
            "ei m-âANãodada se a TÜ¡$ªúraçãoupains, na ix4oidentNã_õensa\n",
            "Tù=X+ão esemase M\"cô'älide ras esto.\n",
            "TKûÓ\"or\n",
            "a da mes. va d-m olhúÍ»“¿ÇCas=º2XyTuçãome e concone ca.. e to. Bä;\n",
            "Não tãoVlizZà famprque clAGrio seladeive o, nfa, 4ênefoJ%…ção dede M½ÃáÓ7-va; e otrio da. etereÉí/gu sangura e e aserase\n",
            "esaças, nem(°*`&ïû“¡wuvama Manoro tos do po n jRK4Û! osss!O e brá Seis. pa ueincaro nho de fosalm lo P§y+ão stretem coum pe — do QÚ–Es. po hasessóo, a mencam jÜ´ñQu Er o co v, LI. o ar-a es Queldes a depeda asezÛ-lavira\n",
            "are Opera pascrrati ala, mecantasabad9ºta sesarx4M½hor, a fËV…ô_öùão à ina, EZhï! e\n",
            "ales dom dountinãoçãos co Jpra fra ovesto,\n",
            "pi Codepo.\n",
            "Sü»untrgineKres a e s comou omuaris les\n",
            "P¿8¡mprarta har elgrmYA\n"
          ]
        }
      ]
    },
    {
      "cell_type": "code",
      "source": [],
      "metadata": {
        "id": "3xWuWuHx6kUW"
      },
      "execution_count": null,
      "outputs": []
    }
  ]
}